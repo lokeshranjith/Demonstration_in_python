{
 "cells": [
  {
   "cell_type": "markdown",
   "metadata": {},
   "source": [
    "<h2> Demo: Implementing Gradient Boosting using Python </h2>\n",
    "\n",
    "In this demo, you will learn how to apply Gradient Boosting using Python."
   ]
  },
  {
   "cell_type": "markdown",
   "metadata": {},
   "source": [
    "# Problem Statment"
   ]
  },
  {
   "cell_type": "markdown",
   "metadata": {},
   "source": [
    "Surverys were conducted on people living in different rural zones. Data was recorded on the basis of there lifetyle, assets, income and so on. The aim is to classify either the individual is depressed or not.\n"
   ]
  },
  {
   "cell_type": "markdown",
   "metadata": {},
   "source": [
    "# Dataset"
   ]
  },
  {
   "cell_type": "markdown",
   "metadata": {},
   "source": [
    "<b>Depressed.csv</b> is the dataset that contains various details of individuals along with there emotional status i.e. either they are depressed or not. The details recorded during the survey were:\n",
    "- __Survey_id__: ID of the survey conducted\n",
    "- __Ville_id__: Village ID where the survey was conducted(1-292)\n",
    "- __sex__: Male or Female\n",
    "- __Age__: Age of the individual(17-91)\n",
    "- __Married__: Either the individual is married or not\n",
    "- __Number_children__: Number of children the individual has(0-11)\n",
    "- __education_level__: Education level(1-19)\n",
    "- __total_members__: Total number of members in the family(1-12)\n",
    "- __gained_asset__: Total assets gained(325K-99.1M)\n",
    "- __durable_asset__: Total durable assets gained(163K-99.6M)\n",
    "- __save_asset__: Assets saved(173K-99.9M)\n",
    "- __living_expenses__: Expense of living(263K-99.3M)\n",
    "- __other_expenses__: Other expenses(173K-99.8M)\n",
    "- __Salaried__: Salaried or not\n",
    "- __incoming_own_farm__: Does individual have a farm or not\n",
    "- __incoming_business__: Any Business\n",
    "- __incoming_agricultural__: Agricultural income(325K-99.8M)\n",
    "- __farm_expenses__: Farming expenses(272K-99.7K)\n",
    "- __lasting_investment__: Lasting investments(74.3K-99.4M)\n",
    "- __no_lasting_investmen__: Non-Lasting investments(126K-99.6M)\n",
    "- __depressed__: Either the individual is depressed or not"
   ]
  },
  {
   "cell_type": "markdown",
   "metadata": {},
   "source": [
    "# Importing Libraries"
   ]
  },
  {
   "cell_type": "code",
   "execution_count": 1,
   "metadata": {},
   "outputs": [],
   "source": [
    "import numpy as np\n",
    "import pandas as pd\n",
    "from sklearn.metrics import accuracy_score\n",
    "from sklearn.model_selection import train_test_split\n",
    "from sklearn.ensemble import GradientBoostingClassifier\n",
    "from sklearn.preprocessing import LabelEncoder, MinMaxScaler\n",
    "import matplotlib.pyplot as plt"
   ]
  },
  {
   "cell_type": "markdown",
   "metadata": {},
   "source": [
    "# Data Analysis"
   ]
  },
  {
   "cell_type": "markdown",
   "metadata": {},
   "source": [
    "<div style=\"background-color:##EDF9FF\">\n",
    "  <ul><li><h3> Checking Data</h3></li></ul>\n",
    "</div>"
   ]
  },
  {
   "cell_type": "code",
   "execution_count": 2,
   "metadata": {
    "scrolled": true
   },
   "outputs": [
    {
     "data": {
      "text/html": [
       "<div>\n",
       "<style scoped>\n",
       "    .dataframe tbody tr th:only-of-type {\n",
       "        vertical-align: middle;\n",
       "    }\n",
       "\n",
       "    .dataframe tbody tr th {\n",
       "        vertical-align: top;\n",
       "    }\n",
       "\n",
       "    .dataframe thead th {\n",
       "        text-align: right;\n",
       "    }\n",
       "</style>\n",
       "<table border=\"1\" class=\"dataframe\">\n",
       "  <thead>\n",
       "    <tr style=\"text-align: right;\">\n",
       "      <th></th>\n",
       "      <th>Survey_id</th>\n",
       "      <th>Ville_id</th>\n",
       "      <th>sex</th>\n",
       "      <th>Age</th>\n",
       "      <th>Married</th>\n",
       "      <th>Number_children</th>\n",
       "      <th>education_level</th>\n",
       "      <th>total_members</th>\n",
       "      <th>gained_asset</th>\n",
       "      <th>durable_asset</th>\n",
       "      <th>...</th>\n",
       "      <th>living_expenses</th>\n",
       "      <th>other_expenses</th>\n",
       "      <th>Salaried</th>\n",
       "      <th>incoming_own_farm</th>\n",
       "      <th>incoming_business</th>\n",
       "      <th>incoming_agricultural</th>\n",
       "      <th>farm_expenses</th>\n",
       "      <th>lasting_investment</th>\n",
       "      <th>no_lasting_investmen</th>\n",
       "      <th>depressed</th>\n",
       "    </tr>\n",
       "  </thead>\n",
       "  <tbody>\n",
       "    <tr>\n",
       "      <th>0</th>\n",
       "      <td>926</td>\n",
       "      <td>91</td>\n",
       "      <td>Male</td>\n",
       "      <td>28</td>\n",
       "      <td>Married</td>\n",
       "      <td>4</td>\n",
       "      <td>10</td>\n",
       "      <td>5</td>\n",
       "      <td>28912201</td>\n",
       "      <td>22861940</td>\n",
       "      <td>...</td>\n",
       "      <td>26692283</td>\n",
       "      <td>28203066</td>\n",
       "      <td>Not Salaried</td>\n",
       "      <td>No</td>\n",
       "      <td>No</td>\n",
       "      <td>30028818</td>\n",
       "      <td>31363432</td>\n",
       "      <td>28411718</td>\n",
       "      <td>28292707.0</td>\n",
       "      <td>No</td>\n",
       "    </tr>\n",
       "    <tr>\n",
       "      <th>1</th>\n",
       "      <td>747</td>\n",
       "      <td>57</td>\n",
       "      <td>Male</td>\n",
       "      <td>23</td>\n",
       "      <td>Married</td>\n",
       "      <td>3</td>\n",
       "      <td>8</td>\n",
       "      <td>5</td>\n",
       "      <td>28912201</td>\n",
       "      <td>22861940</td>\n",
       "      <td>...</td>\n",
       "      <td>26692283</td>\n",
       "      <td>28203066</td>\n",
       "      <td>Not Salaried</td>\n",
       "      <td>No</td>\n",
       "      <td>No</td>\n",
       "      <td>30028818</td>\n",
       "      <td>31363432</td>\n",
       "      <td>28411718</td>\n",
       "      <td>28292707.0</td>\n",
       "      <td>Yes</td>\n",
       "    </tr>\n",
       "    <tr>\n",
       "      <th>2</th>\n",
       "      <td>1190</td>\n",
       "      <td>115</td>\n",
       "      <td>Male</td>\n",
       "      <td>22</td>\n",
       "      <td>Married</td>\n",
       "      <td>3</td>\n",
       "      <td>9</td>\n",
       "      <td>5</td>\n",
       "      <td>28912201</td>\n",
       "      <td>22861940</td>\n",
       "      <td>...</td>\n",
       "      <td>26692283</td>\n",
       "      <td>28203066</td>\n",
       "      <td>Not Salaried</td>\n",
       "      <td>No</td>\n",
       "      <td>No</td>\n",
       "      <td>30028818</td>\n",
       "      <td>31363432</td>\n",
       "      <td>28411718</td>\n",
       "      <td>28292707.0</td>\n",
       "      <td>No</td>\n",
       "    </tr>\n",
       "    <tr>\n",
       "      <th>3</th>\n",
       "      <td>1065</td>\n",
       "      <td>97</td>\n",
       "      <td>Male</td>\n",
       "      <td>27</td>\n",
       "      <td>Married</td>\n",
       "      <td>2</td>\n",
       "      <td>10</td>\n",
       "      <td>4</td>\n",
       "      <td>52667108</td>\n",
       "      <td>19698904</td>\n",
       "      <td>...</td>\n",
       "      <td>397715</td>\n",
       "      <td>44042267</td>\n",
       "      <td>Not Salaried</td>\n",
       "      <td>Yes</td>\n",
       "      <td>No</td>\n",
       "      <td>22288055</td>\n",
       "      <td>18751329</td>\n",
       "      <td>7781123</td>\n",
       "      <td>69219765.0</td>\n",
       "      <td>No</td>\n",
       "    </tr>\n",
       "    <tr>\n",
       "      <th>4</th>\n",
       "      <td>806</td>\n",
       "      <td>42</td>\n",
       "      <td>Female</td>\n",
       "      <td>59</td>\n",
       "      <td>Not Married</td>\n",
       "      <td>4</td>\n",
       "      <td>10</td>\n",
       "      <td>6</td>\n",
       "      <td>82606287</td>\n",
       "      <td>17352654</td>\n",
       "      <td>...</td>\n",
       "      <td>80877619</td>\n",
       "      <td>74503502</td>\n",
       "      <td>Salaried</td>\n",
       "      <td>No</td>\n",
       "      <td>No</td>\n",
       "      <td>53384566</td>\n",
       "      <td>20731006</td>\n",
       "      <td>20100562</td>\n",
       "      <td>43419447.0</td>\n",
       "      <td>No</td>\n",
       "    </tr>\n",
       "  </tbody>\n",
       "</table>\n",
       "<p>5 rows × 21 columns</p>\n",
       "</div>"
      ],
      "text/plain": [
       "   Survey_id  Ville_id     sex  Age      Married  Number_children  \\\n",
       "0        926        91    Male   28      Married                4   \n",
       "1        747        57    Male   23      Married                3   \n",
       "2       1190       115    Male   22      Married                3   \n",
       "3       1065        97    Male   27      Married                2   \n",
       "4        806        42  Female   59  Not Married                4   \n",
       "\n",
       "   education_level  total_members  gained_asset  durable_asset  ...  \\\n",
       "0               10              5      28912201       22861940  ...   \n",
       "1                8              5      28912201       22861940  ...   \n",
       "2                9              5      28912201       22861940  ...   \n",
       "3               10              4      52667108       19698904  ...   \n",
       "4               10              6      82606287       17352654  ...   \n",
       "\n",
       "   living_expenses  other_expenses      Salaried incoming_own_farm  \\\n",
       "0         26692283        28203066  Not Salaried                No   \n",
       "1         26692283        28203066  Not Salaried                No   \n",
       "2         26692283        28203066  Not Salaried                No   \n",
       "3           397715        44042267  Not Salaried               Yes   \n",
       "4         80877619        74503502      Salaried                No   \n",
       "\n",
       "  incoming_business incoming_agricultural  farm_expenses  lasting_investment  \\\n",
       "0                No              30028818       31363432            28411718   \n",
       "1                No              30028818       31363432            28411718   \n",
       "2                No              30028818       31363432            28411718   \n",
       "3                No              22288055       18751329             7781123   \n",
       "4                No              53384566       20731006            20100562   \n",
       "\n",
       "   no_lasting_investmen  depressed  \n",
       "0            28292707.0         No  \n",
       "1            28292707.0        Yes  \n",
       "2            28292707.0         No  \n",
       "3            69219765.0         No  \n",
       "4            43419447.0         No  \n",
       "\n",
       "[5 rows x 21 columns]"
      ]
     },
     "execution_count": 2,
     "metadata": {},
     "output_type": "execute_result"
    }
   ],
   "source": [
    "data=pd.read_csv('Depressed.csv')\n",
    "data.head()"
   ]
  },
  {
   "cell_type": "code",
   "execution_count": 3,
   "metadata": {},
   "outputs": [
    {
     "data": {
      "text/plain": [
       "(1429, 21)"
      ]
     },
     "execution_count": 3,
     "metadata": {},
     "output_type": "execute_result"
    }
   ],
   "source": [
    "data.shape"
   ]
  },
  {
   "cell_type": "markdown",
   "metadata": {},
   "source": [
    "<div style=\"background-color:##FBFFE3\">\n",
    "    <div style=\"float:left\">\n",
    "        <img src='https://drive.google.com/uc?export=download&id=1gpc8kbwaenTpaIvnO_MQR3vw12rKYQrJ', width=20,height=20,>\n",
    "    </div>\n",
    "    <span style=\"padding:20px;\">Dataset has 1429 rows and 21 columns </span>\n",
    "</div>"
   ]
  },
  {
   "cell_type": "code",
   "execution_count": 4,
   "metadata": {},
   "outputs": [
    {
     "data": {
      "text/html": [
       "<div>\n",
       "<style scoped>\n",
       "    .dataframe tbody tr th:only-of-type {\n",
       "        vertical-align: middle;\n",
       "    }\n",
       "\n",
       "    .dataframe tbody tr th {\n",
       "        vertical-align: top;\n",
       "    }\n",
       "\n",
       "    .dataframe thead th {\n",
       "        text-align: right;\n",
       "    }\n",
       "</style>\n",
       "<table border=\"1\" class=\"dataframe\">\n",
       "  <thead>\n",
       "    <tr style=\"text-align: right;\">\n",
       "      <th></th>\n",
       "      <th>sex</th>\n",
       "      <th>Married</th>\n",
       "      <th>Salaried</th>\n",
       "      <th>incoming_own_farm</th>\n",
       "      <th>incoming_business</th>\n",
       "      <th>depressed</th>\n",
       "    </tr>\n",
       "  </thead>\n",
       "  <tbody>\n",
       "    <tr>\n",
       "      <th>count</th>\n",
       "      <td>1429</td>\n",
       "      <td>1429</td>\n",
       "      <td>1429</td>\n",
       "      <td>1429</td>\n",
       "      <td>1429</td>\n",
       "      <td>1429</td>\n",
       "    </tr>\n",
       "    <tr>\n",
       "      <th>unique</th>\n",
       "      <td>2</td>\n",
       "      <td>2</td>\n",
       "      <td>2</td>\n",
       "      <td>2</td>\n",
       "      <td>2</td>\n",
       "      <td>2</td>\n",
       "    </tr>\n",
       "    <tr>\n",
       "      <th>top</th>\n",
       "      <td>Male</td>\n",
       "      <td>Married</td>\n",
       "      <td>Not Salaried</td>\n",
       "      <td>No</td>\n",
       "      <td>No</td>\n",
       "      <td>No</td>\n",
       "    </tr>\n",
       "    <tr>\n",
       "      <th>freq</th>\n",
       "      <td>1312</td>\n",
       "      <td>1104</td>\n",
       "      <td>1172</td>\n",
       "      <td>1069</td>\n",
       "      <td>1275</td>\n",
       "      <td>1191</td>\n",
       "    </tr>\n",
       "  </tbody>\n",
       "</table>\n",
       "</div>"
      ],
      "text/plain": [
       "         sex  Married      Salaried incoming_own_farm incoming_business  \\\n",
       "count   1429     1429          1429              1429              1429   \n",
       "unique     2        2             2                 2                 2   \n",
       "top     Male  Married  Not Salaried                No                No   \n",
       "freq    1312     1104          1172              1069              1275   \n",
       "\n",
       "       depressed  \n",
       "count       1429  \n",
       "unique         2  \n",
       "top           No  \n",
       "freq        1191  "
      ]
     },
     "execution_count": 4,
     "metadata": {},
     "output_type": "execute_result"
    }
   ],
   "source": [
    "data.describe(include='O')"
   ]
  },
  {
   "cell_type": "code",
   "execution_count": 5,
   "metadata": {},
   "outputs": [
    {
     "data": {
      "text/html": [
       "<div>\n",
       "<style scoped>\n",
       "    .dataframe tbody tr th:only-of-type {\n",
       "        vertical-align: middle;\n",
       "    }\n",
       "\n",
       "    .dataframe tbody tr th {\n",
       "        vertical-align: top;\n",
       "    }\n",
       "\n",
       "    .dataframe thead th {\n",
       "        text-align: right;\n",
       "    }\n",
       "</style>\n",
       "<table border=\"1\" class=\"dataframe\">\n",
       "  <thead>\n",
       "    <tr style=\"text-align: right;\">\n",
       "      <th></th>\n",
       "      <th>Survey_id</th>\n",
       "      <th>Ville_id</th>\n",
       "      <th>Age</th>\n",
       "      <th>Number_children</th>\n",
       "      <th>education_level</th>\n",
       "      <th>total_members</th>\n",
       "      <th>gained_asset</th>\n",
       "      <th>durable_asset</th>\n",
       "      <th>save_asset</th>\n",
       "      <th>living_expenses</th>\n",
       "      <th>other_expenses</th>\n",
       "      <th>incoming_agricultural</th>\n",
       "      <th>farm_expenses</th>\n",
       "      <th>lasting_investment</th>\n",
       "      <th>no_lasting_investmen</th>\n",
       "    </tr>\n",
       "  </thead>\n",
       "  <tbody>\n",
       "    <tr>\n",
       "      <th>count</th>\n",
       "      <td>1429.00000</td>\n",
       "      <td>1429.000000</td>\n",
       "      <td>1429.000000</td>\n",
       "      <td>1429.000000</td>\n",
       "      <td>1429.000000</td>\n",
       "      <td>1429.000000</td>\n",
       "      <td>1.429000e+03</td>\n",
       "      <td>1.429000e+03</td>\n",
       "      <td>1.429000e+03</td>\n",
       "      <td>1.429000e+03</td>\n",
       "      <td>1.429000e+03</td>\n",
       "      <td>1.429000e+03</td>\n",
       "      <td>1.429000e+03</td>\n",
       "      <td>1.429000e+03</td>\n",
       "      <td>1.409000e+03</td>\n",
       "    </tr>\n",
       "    <tr>\n",
       "      <th>mean</th>\n",
       "      <td>715.00000</td>\n",
       "      <td>76.286214</td>\n",
       "      <td>34.777467</td>\n",
       "      <td>2.883135</td>\n",
       "      <td>8.687194</td>\n",
       "      <td>4.969209</td>\n",
       "      <td>3.363448e+07</td>\n",
       "      <td>2.717296e+07</td>\n",
       "      <td>2.742471e+07</td>\n",
       "      <td>3.248257e+07</td>\n",
       "      <td>3.366632e+07</td>\n",
       "      <td>3.451039e+07</td>\n",
       "      <td>3.549153e+07</td>\n",
       "      <td>3.299222e+07</td>\n",
       "      <td>3.360385e+07</td>\n",
       "    </tr>\n",
       "    <tr>\n",
       "      <th>std</th>\n",
       "      <td>412.66108</td>\n",
       "      <td>66.444012</td>\n",
       "      <td>13.986219</td>\n",
       "      <td>1.874472</td>\n",
       "      <td>2.923532</td>\n",
       "      <td>1.786317</td>\n",
       "      <td>2.003854e+07</td>\n",
       "      <td>1.815672e+07</td>\n",
       "      <td>1.775137e+07</td>\n",
       "      <td>2.101528e+07</td>\n",
       "      <td>2.170266e+07</td>\n",
       "      <td>2.077846e+07</td>\n",
       "      <td>2.112372e+07</td>\n",
       "      <td>2.121621e+07</td>\n",
       "      <td>2.160228e+07</td>\n",
       "    </tr>\n",
       "    <tr>\n",
       "      <th>min</th>\n",
       "      <td>1.00000</td>\n",
       "      <td>1.000000</td>\n",
       "      <td>17.000000</td>\n",
       "      <td>0.000000</td>\n",
       "      <td>1.000000</td>\n",
       "      <td>1.000000</td>\n",
       "      <td>3.251120e+05</td>\n",
       "      <td>1.625560e+05</td>\n",
       "      <td>1.729660e+05</td>\n",
       "      <td>2.629190e+05</td>\n",
       "      <td>1.729660e+05</td>\n",
       "      <td>3.251120e+05</td>\n",
       "      <td>2.715050e+05</td>\n",
       "      <td>7.429200e+04</td>\n",
       "      <td>1.263120e+05</td>\n",
       "    </tr>\n",
       "    <tr>\n",
       "      <th>25%</th>\n",
       "      <td>358.00000</td>\n",
       "      <td>24.000000</td>\n",
       "      <td>25.000000</td>\n",
       "      <td>2.000000</td>\n",
       "      <td>8.000000</td>\n",
       "      <td>4.000000</td>\n",
       "      <td>2.326982e+07</td>\n",
       "      <td>1.929852e+07</td>\n",
       "      <td>2.339998e+07</td>\n",
       "      <td>2.088671e+07</td>\n",
       "      <td>2.098014e+07</td>\n",
       "      <td>2.322229e+07</td>\n",
       "      <td>2.279966e+07</td>\n",
       "      <td>2.001911e+07</td>\n",
       "      <td>2.064203e+07</td>\n",
       "    </tr>\n",
       "    <tr>\n",
       "      <th>50%</th>\n",
       "      <td>715.00000</td>\n",
       "      <td>57.000000</td>\n",
       "      <td>30.000000</td>\n",
       "      <td>3.000000</td>\n",
       "      <td>9.000000</td>\n",
       "      <td>5.000000</td>\n",
       "      <td>2.891220e+07</td>\n",
       "      <td>2.286194e+07</td>\n",
       "      <td>2.339998e+07</td>\n",
       "      <td>2.669228e+07</td>\n",
       "      <td>2.820307e+07</td>\n",
       "      <td>3.002882e+07</td>\n",
       "      <td>3.136343e+07</td>\n",
       "      <td>2.841172e+07</td>\n",
       "      <td>2.829271e+07</td>\n",
       "    </tr>\n",
       "    <tr>\n",
       "      <th>75%</th>\n",
       "      <td>1072.00000</td>\n",
       "      <td>105.000000</td>\n",
       "      <td>42.000000</td>\n",
       "      <td>4.000000</td>\n",
       "      <td>10.000000</td>\n",
       "      <td>6.000000</td>\n",
       "      <td>3.717283e+07</td>\n",
       "      <td>2.656950e+07</td>\n",
       "      <td>2.339998e+07</td>\n",
       "      <td>3.843689e+07</td>\n",
       "      <td>4.051889e+07</td>\n",
       "      <td>4.003842e+07</td>\n",
       "      <td>4.348584e+07</td>\n",
       "      <td>3.982686e+07</td>\n",
       "      <td>4.151762e+07</td>\n",
       "    </tr>\n",
       "    <tr>\n",
       "      <th>max</th>\n",
       "      <td>1429.00000</td>\n",
       "      <td>292.000000</td>\n",
       "      <td>91.000000</td>\n",
       "      <td>11.000000</td>\n",
       "      <td>19.000000</td>\n",
       "      <td>12.000000</td>\n",
       "      <td>9.912755e+07</td>\n",
       "      <td>9.961560e+07</td>\n",
       "      <td>9.992676e+07</td>\n",
       "      <td>9.929528e+07</td>\n",
       "      <td>9.982380e+07</td>\n",
       "      <td>9.978910e+07</td>\n",
       "      <td>9.965119e+07</td>\n",
       "      <td>9.944667e+07</td>\n",
       "      <td>9.965119e+07</td>\n",
       "    </tr>\n",
       "  </tbody>\n",
       "</table>\n",
       "</div>"
      ],
      "text/plain": [
       "        Survey_id     Ville_id          Age  Number_children  education_level  \\\n",
       "count  1429.00000  1429.000000  1429.000000      1429.000000      1429.000000   \n",
       "mean    715.00000    76.286214    34.777467         2.883135         8.687194   \n",
       "std     412.66108    66.444012    13.986219         1.874472         2.923532   \n",
       "min       1.00000     1.000000    17.000000         0.000000         1.000000   \n",
       "25%     358.00000    24.000000    25.000000         2.000000         8.000000   \n",
       "50%     715.00000    57.000000    30.000000         3.000000         9.000000   \n",
       "75%    1072.00000   105.000000    42.000000         4.000000        10.000000   \n",
       "max    1429.00000   292.000000    91.000000        11.000000        19.000000   \n",
       "\n",
       "       total_members  gained_asset  durable_asset    save_asset  \\\n",
       "count    1429.000000  1.429000e+03   1.429000e+03  1.429000e+03   \n",
       "mean        4.969209  3.363448e+07   2.717296e+07  2.742471e+07   \n",
       "std         1.786317  2.003854e+07   1.815672e+07  1.775137e+07   \n",
       "min         1.000000  3.251120e+05   1.625560e+05  1.729660e+05   \n",
       "25%         4.000000  2.326982e+07   1.929852e+07  2.339998e+07   \n",
       "50%         5.000000  2.891220e+07   2.286194e+07  2.339998e+07   \n",
       "75%         6.000000  3.717283e+07   2.656950e+07  2.339998e+07   \n",
       "max        12.000000  9.912755e+07   9.961560e+07  9.992676e+07   \n",
       "\n",
       "       living_expenses  other_expenses  incoming_agricultural  farm_expenses  \\\n",
       "count     1.429000e+03    1.429000e+03           1.429000e+03   1.429000e+03   \n",
       "mean      3.248257e+07    3.366632e+07           3.451039e+07   3.549153e+07   \n",
       "std       2.101528e+07    2.170266e+07           2.077846e+07   2.112372e+07   \n",
       "min       2.629190e+05    1.729660e+05           3.251120e+05   2.715050e+05   \n",
       "25%       2.088671e+07    2.098014e+07           2.322229e+07   2.279966e+07   \n",
       "50%       2.669228e+07    2.820307e+07           3.002882e+07   3.136343e+07   \n",
       "75%       3.843689e+07    4.051889e+07           4.003842e+07   4.348584e+07   \n",
       "max       9.929528e+07    9.982380e+07           9.978910e+07   9.965119e+07   \n",
       "\n",
       "       lasting_investment  no_lasting_investmen  \n",
       "count        1.429000e+03          1.409000e+03  \n",
       "mean         3.299222e+07          3.360385e+07  \n",
       "std          2.121621e+07          2.160228e+07  \n",
       "min          7.429200e+04          1.263120e+05  \n",
       "25%          2.001911e+07          2.064203e+07  \n",
       "50%          2.841172e+07          2.829271e+07  \n",
       "75%          3.982686e+07          4.151762e+07  \n",
       "max          9.944667e+07          9.965119e+07  "
      ]
     },
     "execution_count": 5,
     "metadata": {},
     "output_type": "execute_result"
    }
   ],
   "source": [
    "data.describe()"
   ]
  },
  {
   "cell_type": "markdown",
   "metadata": {},
   "source": [
    "<div style=\"background-color:##EDF9FF\">\n",
    "  <ul><li><h3> Testing For Null Values</h3></li></ul>\n",
    "</div>"
   ]
  },
  {
   "cell_type": "code",
   "execution_count": 6,
   "metadata": {},
   "outputs": [
    {
     "data": {
      "text/html": [
       "<div>\n",
       "<style scoped>\n",
       "    .dataframe tbody tr th:only-of-type {\n",
       "        vertical-align: middle;\n",
       "    }\n",
       "\n",
       "    .dataframe tbody tr th {\n",
       "        vertical-align: top;\n",
       "    }\n",
       "\n",
       "    .dataframe thead th {\n",
       "        text-align: right;\n",
       "    }\n",
       "</style>\n",
       "<table border=\"1\" class=\"dataframe\">\n",
       "  <thead>\n",
       "    <tr style=\"text-align: right;\">\n",
       "      <th></th>\n",
       "      <th>Count</th>\n",
       "      <th>Percentage</th>\n",
       "    </tr>\n",
       "  </thead>\n",
       "  <tbody>\n",
       "    <tr>\n",
       "      <th>Survey_id</th>\n",
       "      <td>0</td>\n",
       "      <td>0.000000</td>\n",
       "    </tr>\n",
       "    <tr>\n",
       "      <th>Ville_id</th>\n",
       "      <td>0</td>\n",
       "      <td>0.000000</td>\n",
       "    </tr>\n",
       "    <tr>\n",
       "      <th>sex</th>\n",
       "      <td>0</td>\n",
       "      <td>0.000000</td>\n",
       "    </tr>\n",
       "    <tr>\n",
       "      <th>Age</th>\n",
       "      <td>0</td>\n",
       "      <td>0.000000</td>\n",
       "    </tr>\n",
       "    <tr>\n",
       "      <th>Married</th>\n",
       "      <td>0</td>\n",
       "      <td>0.000000</td>\n",
       "    </tr>\n",
       "    <tr>\n",
       "      <th>Number_children</th>\n",
       "      <td>0</td>\n",
       "      <td>0.000000</td>\n",
       "    </tr>\n",
       "    <tr>\n",
       "      <th>education_level</th>\n",
       "      <td>0</td>\n",
       "      <td>0.000000</td>\n",
       "    </tr>\n",
       "    <tr>\n",
       "      <th>total_members</th>\n",
       "      <td>0</td>\n",
       "      <td>0.000000</td>\n",
       "    </tr>\n",
       "    <tr>\n",
       "      <th>gained_asset</th>\n",
       "      <td>0</td>\n",
       "      <td>0.000000</td>\n",
       "    </tr>\n",
       "    <tr>\n",
       "      <th>durable_asset</th>\n",
       "      <td>0</td>\n",
       "      <td>0.000000</td>\n",
       "    </tr>\n",
       "    <tr>\n",
       "      <th>save_asset</th>\n",
       "      <td>0</td>\n",
       "      <td>0.000000</td>\n",
       "    </tr>\n",
       "    <tr>\n",
       "      <th>living_expenses</th>\n",
       "      <td>0</td>\n",
       "      <td>0.000000</td>\n",
       "    </tr>\n",
       "    <tr>\n",
       "      <th>other_expenses</th>\n",
       "      <td>0</td>\n",
       "      <td>0.000000</td>\n",
       "    </tr>\n",
       "    <tr>\n",
       "      <th>Salaried</th>\n",
       "      <td>0</td>\n",
       "      <td>0.000000</td>\n",
       "    </tr>\n",
       "    <tr>\n",
       "      <th>incoming_own_farm</th>\n",
       "      <td>0</td>\n",
       "      <td>0.000000</td>\n",
       "    </tr>\n",
       "    <tr>\n",
       "      <th>incoming_business</th>\n",
       "      <td>0</td>\n",
       "      <td>0.000000</td>\n",
       "    </tr>\n",
       "    <tr>\n",
       "      <th>incoming_agricultural</th>\n",
       "      <td>0</td>\n",
       "      <td>0.000000</td>\n",
       "    </tr>\n",
       "    <tr>\n",
       "      <th>farm_expenses</th>\n",
       "      <td>0</td>\n",
       "      <td>0.000000</td>\n",
       "    </tr>\n",
       "    <tr>\n",
       "      <th>lasting_investment</th>\n",
       "      <td>0</td>\n",
       "      <td>0.000000</td>\n",
       "    </tr>\n",
       "    <tr>\n",
       "      <th>no_lasting_investmen</th>\n",
       "      <td>20</td>\n",
       "      <td>0.013996</td>\n",
       "    </tr>\n",
       "    <tr>\n",
       "      <th>depressed</th>\n",
       "      <td>0</td>\n",
       "      <td>0.000000</td>\n",
       "    </tr>\n",
       "  </tbody>\n",
       "</table>\n",
       "</div>"
      ],
      "text/plain": [
       "                       Count  Percentage\n",
       "Survey_id                  0    0.000000\n",
       "Ville_id                   0    0.000000\n",
       "sex                        0    0.000000\n",
       "Age                        0    0.000000\n",
       "Married                    0    0.000000\n",
       "Number_children            0    0.000000\n",
       "education_level            0    0.000000\n",
       "total_members              0    0.000000\n",
       "gained_asset               0    0.000000\n",
       "durable_asset              0    0.000000\n",
       "save_asset                 0    0.000000\n",
       "living_expenses            0    0.000000\n",
       "other_expenses             0    0.000000\n",
       "Salaried                   0    0.000000\n",
       "incoming_own_farm          0    0.000000\n",
       "incoming_business          0    0.000000\n",
       "incoming_agricultural      0    0.000000\n",
       "farm_expenses              0    0.000000\n",
       "lasting_investment         0    0.000000\n",
       "no_lasting_investmen      20    0.013996\n",
       "depressed                  0    0.000000"
      ]
     },
     "execution_count": 6,
     "metadata": {},
     "output_type": "execute_result"
    }
   ],
   "source": [
    "pd.DataFrame({'Count':data.isnull().sum(),'Percentage':data.isnull().sum()/data.shape[0]})"
   ]
  },
  {
   "cell_type": "markdown",
   "metadata": {},
   "source": [
    "<div style=\"background-color:##FBFFE3\">\n",
    "    <div style=\"float:left\">\n",
    "        <img src='https://drive.google.com/uc?export=download&id=1gpc8kbwaenTpaIvnO_MQR3vw12rKYQrJ', width=20,height=20,>\n",
    "    </div>\n",
    "    <span style=\"padding:20px;\">Dataset has 20 null values in <b>no_lasting_investmen</b></span>\n",
    "</div>"
   ]
  },
  {
   "cell_type": "markdown",
   "metadata": {},
   "source": [
    "<div style=\"background-color:##EDF9FF\">\n",
    "  <ul><li><h3> Imputing Missing Values</h3></li></ul>\n",
    "</div>"
   ]
  },
  {
   "cell_type": "code",
   "execution_count": 7,
   "metadata": {},
   "outputs": [],
   "source": [
    "mean=data.no_lasting_investmen.mean()\n",
    "data.no_lasting_investmen=data.no_lasting_investmen.fillna(mean)"
   ]
  },
  {
   "cell_type": "markdown",
   "metadata": {},
   "source": [
    "<div style=\"background-color:##EDF9FF\">\n",
    "  <ul><li><h3> Check Distribution Of Target Variable</h3></li></ul>\n",
    "</div>"
   ]
  },
  {
   "cell_type": "code",
   "execution_count": 8,
   "metadata": {},
   "outputs": [
    {
     "data": {
      "text/html": [
       "<div>\n",
       "<style scoped>\n",
       "    .dataframe tbody tr th:only-of-type {\n",
       "        vertical-align: middle;\n",
       "    }\n",
       "\n",
       "    .dataframe tbody tr th {\n",
       "        vertical-align: top;\n",
       "    }\n",
       "\n",
       "    .dataframe thead th {\n",
       "        text-align: right;\n",
       "    }\n",
       "</style>\n",
       "<table border=\"1\" class=\"dataframe\">\n",
       "  <thead>\n",
       "    <tr style=\"text-align: right;\">\n",
       "      <th></th>\n",
       "      <th>Counts</th>\n",
       "      <th>Percentage</th>\n",
       "    </tr>\n",
       "  </thead>\n",
       "  <tbody>\n",
       "    <tr>\n",
       "      <th>No</th>\n",
       "      <td>1191</td>\n",
       "      <td>0.83345</td>\n",
       "    </tr>\n",
       "    <tr>\n",
       "      <th>Yes</th>\n",
       "      <td>238</td>\n",
       "      <td>0.16655</td>\n",
       "    </tr>\n",
       "  </tbody>\n",
       "</table>\n",
       "</div>"
      ],
      "text/plain": [
       "     Counts  Percentage\n",
       "No     1191     0.83345\n",
       "Yes     238     0.16655"
      ]
     },
     "execution_count": 8,
     "metadata": {},
     "output_type": "execute_result"
    }
   ],
   "source": [
    "target_ratio=pd.DataFrame({'Counts':data.depressed.value_counts(),'Percentage':data.depressed.value_counts()/len(data)})\n",
    "target_ratio"
   ]
  },
  {
   "cell_type": "code",
   "execution_count": 9,
   "metadata": {},
   "outputs": [
    {
     "data": {
      "image/png": "[encoded data removed]",
      "text/plain": [
       "<Figure size 720x72 with 1 Axes>"
      ]
     },
     "metadata": {
      "needs_background": "light"
     },
     "output_type": "display_data"
    }
   ],
   "source": [
    "plt.figure(figsize = (10,1))\n",
    "plt.barh(target_ratio.index, target_ratio.Percentage)\n",
    "plt.xlabel('Percentage')\n",
    "plt.show()"
   ]
  },
  {
   "cell_type": "markdown",
   "metadata": {},
   "source": [
    "<div style=\"background-color:##EDF9FF\">\n",
    "  <ul><li><h3>Encode Target Vairable</h3></li></ul>\n",
    "</div>"
   ]
  },
  {
   "cell_type": "code",
   "execution_count": 10,
   "metadata": {},
   "outputs": [],
   "source": [
    "lb=LabelEncoder()\n",
    "data.depressed=lb.fit_transform(data.depressed)"
   ]
  },
  {
   "cell_type": "code",
   "execution_count": 11,
   "metadata": {},
   "outputs": [
    {
     "data": {
      "text/plain": [
       "array(['No', 'Yes'], dtype=object)"
      ]
     },
     "execution_count": 11,
     "metadata": {},
     "output_type": "execute_result"
    }
   ],
   "source": [
    "lb.classes_"
   ]
  },
  {
   "cell_type": "markdown",
   "metadata": {},
   "source": [
    "<div style=\"background-color:##EDF9FF\">\n",
    "  <ul><li><h3>Scaling Data</h3></li></ul>\n",
    "</div>"
   ]
  },
  {
   "cell_type": "code",
   "execution_count": 12,
   "metadata": {},
   "outputs": [],
   "source": [
    "scale_cols=['Age','gained_asset', 'durable_asset', 'save_asset',\n",
    "       'living_expenses', 'other_expenses', 'incoming_agricultural',\n",
    "       'farm_expenses', 'lasting_investment', 'no_lasting_investmen',]\n",
    "data[scale_cols]=MinMaxScaler().fit_transform(data[scale_cols])"
   ]
  },
  {
   "cell_type": "markdown",
   "metadata": {},
   "source": [
    "<div style=\"background-color:##EDF9FF\">\n",
    "  <ul><li><h3>Encode Binary Features</h3></li></ul>\n",
    "</div>"
   ]
  },
  {
   "cell_type": "code",
   "execution_count": 13,
   "metadata": {},
   "outputs": [],
   "source": [
    "cols=data.describe(include='O').columns\n",
    "data[cols]=data[cols].apply(LabelEncoder().fit_transform)"
   ]
  },
  {
   "cell_type": "markdown",
   "metadata": {},
   "source": [
    "<div style=\"background-color:##EDF9FF\">\n",
    "  <ul><li><h3>Selecting Features</h3></li></ul>\n",
    "</div>"
   ]
  },
  {
   "cell_type": "code",
   "execution_count": 14,
   "metadata": {},
   "outputs": [],
   "source": [
    "X=data.drop(['depressed','Survey_id','Ville_id'],axis=1)\n",
    "y=data.depressed"
   ]
  },
  {
   "cell_type": "markdown",
   "metadata": {},
   "source": [
    "<div style=\"background-color:##EDF9FF\">\n",
    "  <ul><li><h3>Training And Testing Data</h3></li></ul>\n",
    "</div>"
   ]
  },
  {
   "cell_type": "code",
   "execution_count": 15,
   "metadata": {},
   "outputs": [],
   "source": [
    "X_train, X_test, y_train, y_test=train_test_split(X,y,random_state=2,test_size=0.3)"
   ]
  },
  {
   "cell_type": "markdown",
   "metadata": {},
   "source": [
    "\n",
    "# GradientBoostingClassifier"
   ]
  },
  {
   "cell_type": "markdown",
   "metadata": {},
   "source": [
    "Following parameters should be considered before applying the classifier:\n",
    "- __learning_rate__:`float`Contribution of each tree by default it is __0.1__.\n",
    "- __n_estimator__:`int` Number of boosting stages to be performed by default it is 100. Large values can be used as Gradient Boosting is fairly robust to over-fitting.\n",
    "For other parameters: <a href='https://scikit-learn.org/stable/modules/generated/sklearn.ensemble.GradientBoostingClassifier.html#sklearn.ensemble.GradientBoostingClassifier'>GradientBoostingClassifier</a>"
   ]
  },
  {
   "cell_type": "code",
   "execution_count": 16,
   "metadata": {},
   "outputs": [
    {
     "name": "stdout",
     "output_type": "stream",
     "text": [
      "0.776\n"
     ]
    }
   ],
   "source": [
    "gb_clf=GradientBoostingClassifier(learning_rate=0.5,n_estimators=1000)\n",
    "gb_clf.fit(X_train,y_train)\n",
    "gb_pred=gb_clf.predict(X_test)\n",
    "print(round(accuracy_score(y_test,gb_pred),3))"
   ]
  },
  {
   "cell_type": "markdown",
   "metadata": {},
   "source": [
    "*__Conclusion__*: In this demonstration, we have learned how to apply Gradient Boosting."
   ]
  }
 ],
 "metadata": {
  "kernelspec": {
   "display_name": "Python 3",
   "language": "python",
   "name": "python3"
  },
  "language_info": {
   "codemirror_mode": {
    "name": "ipython",
    "version": 3
   },
   "file_extension": ".py",
   "mimetype": "text/x-python",
   "name": "python",
   "nbconvert_exporter": "python",
   "pygments_lexer": "ipython3",
   "version": "3.7.3"
  }
 },
 "nbformat": 4,
 "nbformat_minor": 2
}
