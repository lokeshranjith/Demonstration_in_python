{
 "cells": [
  {
   "cell_type": "markdown",
   "id": "47cb488a",
   "metadata": {},
   "source": [
    "### Q1.What are recurrent neural networks?\n",
    "   Recurrent Neural Networks (RNNs) are a type of artificial neural network designed to recognize patterns in sequences of data, such as time series, text, speech, or any sequence data. They have loops in their architecture that allow information to persist, making them well-suited for sequential data processing.\n",
    "\n",
    "\n"
   ]
  },
  {
   "cell_type": "markdown",
   "id": "c54feb99",
   "metadata": {},
   "source": [
    "### Q2.What is the difference between a feedforward neural network and a recurrent neural network?\n",
    "The key difference between feedforward neural networks (FNNs) and recurrent neural networks (RNNs) lies in their architecture and the way they handle sequential data. FNNs process data from input to output layers without any feedback loops, while RNNs have connections that loop back, allowing them to retain information over time and process sequences.\n",
    "\n",
    "\n"
   ]
  },
  {
   "cell_type": "markdown",
   "id": "3abcb5e5",
   "metadata": {},
   "source": [
    "### Q3. What's the difference between CNN and RNN?\n",
    "Convolutional Neural Networks (CNNs) and Recurrent Neural Networks (RNNs) are both specialized neural network architectures but designed for different types of data. CNNs are primarily used for processing grid-like data such as images, leveraging shared weights and convolutions to extract spatial hierarchies of features. In contrast, RNNs are designed to handle sequential data, where the order of elements matters, by using recurrent connections to capture temporal dependencies.\n",
    "\n"
   ]
  },
  {
   "cell_type": "markdown",
   "id": "34758e5e",
   "metadata": {},
   "source": [
    "### Q4.Advantages and disadvantages of RNN\n",
    "\n",
    "**Advantages of RNNs:**\n",
    "\n",
    "Ability to model sequential data and capture temporal dependencies.\n",
    "Flexibility in input and output sizes due to their recurrent nature.\n",
    "Capability to handle variable length sequences.\n",
    "\n",
    "**Disadvantages of RNNs:**\n",
    "\n",
    "Gradient vanishing/exploding problem, which can hinder learning over long sequences.\n",
    "Difficulty in capturing long-term dependencies due to the limitations of the vanilla RNN architecture.\n",
    "Computationally expensive and may suffer from training inefficiencies.\n"
   ]
  },
  {
   "cell_type": "markdown",
   "id": "a15e51ab",
   "metadata": {},
   "source": [
    "### Q5.Describe the different applications of RNN\n",
    "\n",
    "**Applications of RNNs include:**\n",
    "\n",
    "* Natural Language Processing (NLP): For tasks like language modeling, text generation, machine translation, sentiment analysis, and named entity recognition.\n",
    "* Speech Recognition: RNNs can process audio sequences and convert them into text.\n",
    "* Time Series Prediction: Forecasting stock prices, weather forecasting, and other time-dependent data predictions.\n",
    "\n",
    "**Video Analysis:**\n",
    "* RNNs can analyze video sequences for action recognition, video captioning, and video anomaly detection.\n",
    "* Sequence-to-Sequence Learning: Tasks such as machine translation, summarization, and conversation modeling.\n",
    "\n",
    "**Music Generation:**\n",
    "* Creating music sequences based on learned patterns from existing compositions.\n"
   ]
  },
  {
   "cell_type": "code",
   "execution_count": null,
   "id": "e238d1d0",
   "metadata": {},
   "outputs": [],
   "source": []
  }
 ],
 "metadata": {
  "kernelspec": {
   "display_name": "Python 3 (ipykernel)",
   "language": "python",
   "name": "python3"
  },
  "language_info": {
   "codemirror_mode": {
    "name": "ipython",
    "version": 3
   },
   "file_extension": ".py",
   "mimetype": "text/x-python",
   "name": "python",
   "nbconvert_exporter": "python",
   "pygments_lexer": "ipython3",
   "version": "3.11.5"
  }
 },
 "nbformat": 4,
 "nbformat_minor": 5
}
