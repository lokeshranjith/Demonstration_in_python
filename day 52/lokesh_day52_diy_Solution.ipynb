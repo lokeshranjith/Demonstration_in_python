{
 "cells": [
  {
   "cell_type": "markdown",
   "metadata": {
    "id": "22wDZsfDSDsh"
   },
   "source": [
    "**Q1. Problem Statement: Hierarchical Clustering**\n",
    "\n",
    "Load the \"Country-data.csv\" dataset into a DataFrame and perform the following\n",
    "tasks:\n",
    "1.\tCreate a separate DataFrame with only numeric data by removing the \"country\" column\n",
    "2. Scale the data using the Standard Scaler to create a scaled DataFrame\n",
    "3. Plotting dendrograms with the complete linkage method\n",
    "4. Creating cluster labels using cut tree\n",
    "5. Perform the 4-Component PCA on DataFrame\n",
    "6. Now, from final the DataFrame, analyze how the low GDP rate corresponds to    \n",
    "    the child mortality rate around the world\n"
   ]
  },
  {
   "cell_type": "markdown",
   "metadata": {
    "id": "hDUEB62v-dPu"
   },
   "source": [
    "**Step-1:** Importing required libraries."
   ]
  },
  {
   "cell_type": "code",
   "execution_count": 5,
   "metadata": {
    "id": "d6lh6uHF8cnC"
   },
   "outputs": [],
   "source": [
    "#Importing required libraries\n",
    "import matplotlib.pyplot as plt  \n",
    "import pandas as pd \n",
    "import seaborn as sns \n",
    "%matplotlib inline\n",
    "import numpy as np  \n",
    "from scipy.cluster.hierarchy import linkage\n",
    "from scipy.cluster.hierarchy import dendrogram\n",
    "from scipy.cluster.hierarchy import cut_tree"
   ]
  },
  {
   "cell_type": "markdown",
   "metadata": {
    "id": "k0mbUoyJ-pXk"
   },
   "source": [
    "**Step-2:** Loading the CSV data into a DataFrame."
   ]
  },
  {
   "cell_type": "code",
   "execution_count": 6,
   "metadata": {
    "colab": {
     "base_uri": "https://localhost:8080/",
     "height": 206
    },
    "id": "dgCuYGTY-v9D",
    "outputId": "0cd8ce01-dd30-4421-d35d-8c8aeef406a5"
   },
   "outputs": [
    {
     "data": {
      "text/html": [
       "<div>\n",
       "<style scoped>\n",
       "    .dataframe tbody tr th:only-of-type {\n",
       "        vertical-align: middle;\n",
       "    }\n",
       "\n",
       "    .dataframe tbody tr th {\n",
       "        vertical-align: top;\n",
       "    }\n",
       "\n",
       "    .dataframe thead th {\n",
       "        text-align: right;\n",
       "    }\n",
       "</style>\n",
       "<table border=\"1\" class=\"dataframe\">\n",
       "  <thead>\n",
       "    <tr style=\"text-align: right;\">\n",
       "      <th></th>\n",
       "      <th>country</th>\n",
       "      <th>child_mort</th>\n",
       "      <th>exports</th>\n",
       "      <th>health</th>\n",
       "      <th>imports</th>\n",
       "      <th>income</th>\n",
       "      <th>inflation</th>\n",
       "      <th>life_expec</th>\n",
       "      <th>total_fer</th>\n",
       "      <th>gdpp</th>\n",
       "    </tr>\n",
       "  </thead>\n",
       "  <tbody>\n",
       "    <tr>\n",
       "      <th>0</th>\n",
       "      <td>Afghanistan</td>\n",
       "      <td>90.2</td>\n",
       "      <td>10.0</td>\n",
       "      <td>7.58</td>\n",
       "      <td>44.9</td>\n",
       "      <td>1610</td>\n",
       "      <td>9.44</td>\n",
       "      <td>56.2</td>\n",
       "      <td>5.82</td>\n",
       "      <td>553</td>\n",
       "    </tr>\n",
       "    <tr>\n",
       "      <th>1</th>\n",
       "      <td>Albania</td>\n",
       "      <td>16.6</td>\n",
       "      <td>28.0</td>\n",
       "      <td>6.55</td>\n",
       "      <td>48.6</td>\n",
       "      <td>9930</td>\n",
       "      <td>4.49</td>\n",
       "      <td>76.3</td>\n",
       "      <td>1.65</td>\n",
       "      <td>4090</td>\n",
       "    </tr>\n",
       "    <tr>\n",
       "      <th>2</th>\n",
       "      <td>Algeria</td>\n",
       "      <td>27.3</td>\n",
       "      <td>38.4</td>\n",
       "      <td>4.17</td>\n",
       "      <td>31.4</td>\n",
       "      <td>12900</td>\n",
       "      <td>16.10</td>\n",
       "      <td>76.5</td>\n",
       "      <td>2.89</td>\n",
       "      <td>4460</td>\n",
       "    </tr>\n",
       "    <tr>\n",
       "      <th>3</th>\n",
       "      <td>Angola</td>\n",
       "      <td>119.0</td>\n",
       "      <td>62.3</td>\n",
       "      <td>2.85</td>\n",
       "      <td>42.9</td>\n",
       "      <td>5900</td>\n",
       "      <td>22.40</td>\n",
       "      <td>60.1</td>\n",
       "      <td>6.16</td>\n",
       "      <td>3530</td>\n",
       "    </tr>\n",
       "    <tr>\n",
       "      <th>4</th>\n",
       "      <td>Antigua and Barbuda</td>\n",
       "      <td>10.3</td>\n",
       "      <td>45.5</td>\n",
       "      <td>6.03</td>\n",
       "      <td>58.9</td>\n",
       "      <td>19100</td>\n",
       "      <td>1.44</td>\n",
       "      <td>76.8</td>\n",
       "      <td>2.13</td>\n",
       "      <td>12200</td>\n",
       "    </tr>\n",
       "  </tbody>\n",
       "</table>\n",
       "</div>"
      ],
      "text/plain": [
       "               country  child_mort  exports  health  imports  income  \\\n",
       "0          Afghanistan        90.2     10.0    7.58     44.9    1610   \n",
       "1              Albania        16.6     28.0    6.55     48.6    9930   \n",
       "2              Algeria        27.3     38.4    4.17     31.4   12900   \n",
       "3               Angola       119.0     62.3    2.85     42.9    5900   \n",
       "4  Antigua and Barbuda        10.3     45.5    6.03     58.9   19100   \n",
       "\n",
       "   inflation  life_expec  total_fer   gdpp  \n",
       "0       9.44        56.2       5.82    553  \n",
       "1       4.49        76.3       1.65   4090  \n",
       "2      16.10        76.5       2.89   4460  \n",
       "3      22.40        60.1       6.16   3530  \n",
       "4       1.44        76.8       2.13  12200  "
      ]
     },
     "execution_count": 6,
     "metadata": {},
     "output_type": "execute_result"
    }
   ],
   "source": [
    "#Loading the dataset\n",
    "df = pd.read_csv('Country-data.csv')  \n",
    "df.head()"
   ]
  },
  {
   "cell_type": "markdown",
   "metadata": {
    "id": "2FpLM_PDHRMJ"
   },
   "source": [
    "**Step-3:** Seperating the numerical data to create a new DataFrame."
   ]
  },
  {
   "cell_type": "code",
   "execution_count": 7,
   "metadata": {
    "colab": {
     "base_uri": "https://localhost:8080/",
     "height": 206
    },
    "id": "syPoV7Gx_Rez",
    "outputId": "2449ff25-962d-45b6-e898-f93323bdc824"
   },
   "outputs": [
    {
     "data": {
      "text/html": [
       "<div>\n",
       "<style scoped>\n",
       "    .dataframe tbody tr th:only-of-type {\n",
       "        vertical-align: middle;\n",
       "    }\n",
       "\n",
       "    .dataframe tbody tr th {\n",
       "        vertical-align: top;\n",
       "    }\n",
       "\n",
       "    .dataframe thead th {\n",
       "        text-align: right;\n",
       "    }\n",
       "</style>\n",
       "<table border=\"1\" class=\"dataframe\">\n",
       "  <thead>\n",
       "    <tr style=\"text-align: right;\">\n",
       "      <th></th>\n",
       "      <th>child_mort</th>\n",
       "      <th>exports</th>\n",
       "      <th>health</th>\n",
       "      <th>imports</th>\n",
       "      <th>income</th>\n",
       "      <th>inflation</th>\n",
       "      <th>life_expec</th>\n",
       "      <th>total_fer</th>\n",
       "      <th>gdpp</th>\n",
       "    </tr>\n",
       "  </thead>\n",
       "  <tbody>\n",
       "    <tr>\n",
       "      <th>0</th>\n",
       "      <td>90.2</td>\n",
       "      <td>10.0</td>\n",
       "      <td>7.58</td>\n",
       "      <td>44.9</td>\n",
       "      <td>1610</td>\n",
       "      <td>9.44</td>\n",
       "      <td>56.2</td>\n",
       "      <td>5.82</td>\n",
       "      <td>553</td>\n",
       "    </tr>\n",
       "    <tr>\n",
       "      <th>1</th>\n",
       "      <td>16.6</td>\n",
       "      <td>28.0</td>\n",
       "      <td>6.55</td>\n",
       "      <td>48.6</td>\n",
       "      <td>9930</td>\n",
       "      <td>4.49</td>\n",
       "      <td>76.3</td>\n",
       "      <td>1.65</td>\n",
       "      <td>4090</td>\n",
       "    </tr>\n",
       "    <tr>\n",
       "      <th>2</th>\n",
       "      <td>27.3</td>\n",
       "      <td>38.4</td>\n",
       "      <td>4.17</td>\n",
       "      <td>31.4</td>\n",
       "      <td>12900</td>\n",
       "      <td>16.10</td>\n",
       "      <td>76.5</td>\n",
       "      <td>2.89</td>\n",
       "      <td>4460</td>\n",
       "    </tr>\n",
       "    <tr>\n",
       "      <th>3</th>\n",
       "      <td>119.0</td>\n",
       "      <td>62.3</td>\n",
       "      <td>2.85</td>\n",
       "      <td>42.9</td>\n",
       "      <td>5900</td>\n",
       "      <td>22.40</td>\n",
       "      <td>60.1</td>\n",
       "      <td>6.16</td>\n",
       "      <td>3530</td>\n",
       "    </tr>\n",
       "    <tr>\n",
       "      <th>4</th>\n",
       "      <td>10.3</td>\n",
       "      <td>45.5</td>\n",
       "      <td>6.03</td>\n",
       "      <td>58.9</td>\n",
       "      <td>19100</td>\n",
       "      <td>1.44</td>\n",
       "      <td>76.8</td>\n",
       "      <td>2.13</td>\n",
       "      <td>12200</td>\n",
       "    </tr>\n",
       "  </tbody>\n",
       "</table>\n",
       "</div>"
      ],
      "text/plain": [
       "   child_mort  exports  health  imports  income  inflation  life_expec  \\\n",
       "0        90.2     10.0    7.58     44.9    1610       9.44        56.2   \n",
       "1        16.6     28.0    6.55     48.6    9930       4.49        76.3   \n",
       "2        27.3     38.4    4.17     31.4   12900      16.10        76.5   \n",
       "3       119.0     62.3    2.85     42.9    5900      22.40        60.1   \n",
       "4        10.3     45.5    6.03     58.9   19100       1.44        76.8   \n",
       "\n",
       "   total_fer   gdpp  \n",
       "0       5.82    553  \n",
       "1       1.65   4090  \n",
       "2       2.89   4460  \n",
       "3       6.16   3530  \n",
       "4       2.13  12200  "
      ]
     },
     "execution_count": 7,
     "metadata": {},
     "output_type": "execute_result"
    }
   ],
   "source": [
    "X = df.drop('country',axis =1)  \n",
    "X.head()"
   ]
  },
  {
   "cell_type": "markdown",
   "metadata": {
    "id": "K-dmEDgHHfsk"
   },
   "source": [
    "**Step-4:** Scaling the data using the Standard Scaler to create a scaled DataFrame."
   ]
  },
  {
   "cell_type": "code",
   "execution_count": 8,
   "metadata": {
    "colab": {
     "base_uri": "https://localhost:8080/"
    },
    "id": "WkPOA5xs_koW",
    "outputId": "5045f40d-c117-4d92-f8a4-9e776cde6700"
   },
   "outputs": [
    {
     "data": {
      "text/plain": [
       "array([[ 1.29153238, -1.13827979,  0.27908825, -0.08245496, -0.8082454 ],\n",
       "       [-0.5389489 , -0.47965843, -0.09701618,  0.07083669, -0.3753689 ],\n",
       "       [-0.27283273, -0.09912164, -0.96607302, -0.64176233, -0.22084447],\n",
       "       [ 2.00780766,  0.77538117, -1.44807093, -0.16531531, -0.58504345],\n",
       "       [-0.69563412,  0.1606679 , -0.28689415,  0.4975675 ,  0.10173177]])"
      ]
     },
     "execution_count": 8,
     "metadata": {},
     "output_type": "execute_result"
    }
   ],
   "source": [
    "# Standardization of the dataset before performing PCA\n",
    "from sklearn.preprocessing import StandardScaler\n",
    "scaler = StandardScaler()\n",
    "X_scaled = scaler.fit_transform(X)\n",
    "X_scaled[:5,:5]"
   ]
  },
  {
   "cell_type": "code",
   "execution_count": 9,
   "metadata": {
    "colab": {
     "base_uri": "https://localhost:8080/",
     "height": 423
    },
    "id": "8CEM4DLyC1LF",
    "outputId": "4d91f085-a4f9-4202-a7e5-28776cfeed96"
   },
   "outputs": [
    {
     "data": {
      "text/html": [
       "<div>\n",
       "<style scoped>\n",
       "    .dataframe tbody tr th:only-of-type {\n",
       "        vertical-align: middle;\n",
       "    }\n",
       "\n",
       "    .dataframe tbody tr th {\n",
       "        vertical-align: top;\n",
       "    }\n",
       "\n",
       "    .dataframe thead th {\n",
       "        text-align: right;\n",
       "    }\n",
       "</style>\n",
       "<table border=\"1\" class=\"dataframe\">\n",
       "  <thead>\n",
       "    <tr style=\"text-align: right;\">\n",
       "      <th></th>\n",
       "      <th>child_mort</th>\n",
       "      <th>exports</th>\n",
       "      <th>health</th>\n",
       "      <th>imports</th>\n",
       "      <th>income</th>\n",
       "      <th>inflation</th>\n",
       "      <th>life_expec</th>\n",
       "      <th>total_fer</th>\n",
       "      <th>gdpp</th>\n",
       "    </tr>\n",
       "  </thead>\n",
       "  <tbody>\n",
       "    <tr>\n",
       "      <th>0</th>\n",
       "      <td>1.291532</td>\n",
       "      <td>-1.138280</td>\n",
       "      <td>0.279088</td>\n",
       "      <td>-0.082455</td>\n",
       "      <td>-0.808245</td>\n",
       "      <td>0.157336</td>\n",
       "      <td>-1.619092</td>\n",
       "      <td>1.902882</td>\n",
       "      <td>-0.679180</td>\n",
       "    </tr>\n",
       "    <tr>\n",
       "      <th>1</th>\n",
       "      <td>-0.538949</td>\n",
       "      <td>-0.479658</td>\n",
       "      <td>-0.097016</td>\n",
       "      <td>0.070837</td>\n",
       "      <td>-0.375369</td>\n",
       "      <td>-0.312347</td>\n",
       "      <td>0.647866</td>\n",
       "      <td>-0.859973</td>\n",
       "      <td>-0.485623</td>\n",
       "    </tr>\n",
       "    <tr>\n",
       "      <th>2</th>\n",
       "      <td>-0.272833</td>\n",
       "      <td>-0.099122</td>\n",
       "      <td>-0.966073</td>\n",
       "      <td>-0.641762</td>\n",
       "      <td>-0.220844</td>\n",
       "      <td>0.789274</td>\n",
       "      <td>0.670423</td>\n",
       "      <td>-0.038404</td>\n",
       "      <td>-0.465376</td>\n",
       "    </tr>\n",
       "    <tr>\n",
       "      <th>3</th>\n",
       "      <td>2.007808</td>\n",
       "      <td>0.775381</td>\n",
       "      <td>-1.448071</td>\n",
       "      <td>-0.165315</td>\n",
       "      <td>-0.585043</td>\n",
       "      <td>1.387054</td>\n",
       "      <td>-1.179234</td>\n",
       "      <td>2.128151</td>\n",
       "      <td>-0.516268</td>\n",
       "    </tr>\n",
       "    <tr>\n",
       "      <th>4</th>\n",
       "      <td>-0.695634</td>\n",
       "      <td>0.160668</td>\n",
       "      <td>-0.286894</td>\n",
       "      <td>0.497568</td>\n",
       "      <td>0.101732</td>\n",
       "      <td>-0.601749</td>\n",
       "      <td>0.704258</td>\n",
       "      <td>-0.541946</td>\n",
       "      <td>-0.041817</td>\n",
       "    </tr>\n",
       "    <tr>\n",
       "      <th>...</th>\n",
       "      <td>...</td>\n",
       "      <td>...</td>\n",
       "      <td>...</td>\n",
       "      <td>...</td>\n",
       "      <td>...</td>\n",
       "      <td>...</td>\n",
       "      <td>...</td>\n",
       "      <td>...</td>\n",
       "      <td>...</td>\n",
       "    </tr>\n",
       "    <tr>\n",
       "      <th>162</th>\n",
       "      <td>-0.225578</td>\n",
       "      <td>0.200917</td>\n",
       "      <td>-0.571711</td>\n",
       "      <td>0.240700</td>\n",
       "      <td>-0.738527</td>\n",
       "      <td>-0.489784</td>\n",
       "      <td>-0.852161</td>\n",
       "      <td>0.365754</td>\n",
       "      <td>-0.546913</td>\n",
       "    </tr>\n",
       "    <tr>\n",
       "      <th>163</th>\n",
       "      <td>-0.526514</td>\n",
       "      <td>-0.461363</td>\n",
       "      <td>-0.695862</td>\n",
       "      <td>-1.213499</td>\n",
       "      <td>-0.033542</td>\n",
       "      <td>3.616865</td>\n",
       "      <td>0.546361</td>\n",
       "      <td>-0.316678</td>\n",
       "      <td>0.029323</td>\n",
       "    </tr>\n",
       "    <tr>\n",
       "      <th>164</th>\n",
       "      <td>-0.372315</td>\n",
       "      <td>1.130305</td>\n",
       "      <td>0.008877</td>\n",
       "      <td>1.380030</td>\n",
       "      <td>-0.658404</td>\n",
       "      <td>0.409732</td>\n",
       "      <td>0.286958</td>\n",
       "      <td>-0.661206</td>\n",
       "      <td>-0.637754</td>\n",
       "    </tr>\n",
       "    <tr>\n",
       "      <th>165</th>\n",
       "      <td>0.448417</td>\n",
       "      <td>-0.406478</td>\n",
       "      <td>-0.597272</td>\n",
       "      <td>-0.517472</td>\n",
       "      <td>-0.658924</td>\n",
       "      <td>1.500916</td>\n",
       "      <td>-0.344633</td>\n",
       "      <td>1.140944</td>\n",
       "      <td>-0.637754</td>\n",
       "    </tr>\n",
       "    <tr>\n",
       "      <th>166</th>\n",
       "      <td>1.114951</td>\n",
       "      <td>-0.150348</td>\n",
       "      <td>-0.338015</td>\n",
       "      <td>-0.662477</td>\n",
       "      <td>-0.721358</td>\n",
       "      <td>0.590015</td>\n",
       "      <td>-2.092785</td>\n",
       "      <td>1.624609</td>\n",
       "      <td>-0.629546</td>\n",
       "    </tr>\n",
       "  </tbody>\n",
       "</table>\n",
       "<p>167 rows × 9 columns</p>\n",
       "</div>"
      ],
      "text/plain": [
       "     child_mort   exports    health   imports    income  inflation  \\\n",
       "0      1.291532 -1.138280  0.279088 -0.082455 -0.808245   0.157336   \n",
       "1     -0.538949 -0.479658 -0.097016  0.070837 -0.375369  -0.312347   \n",
       "2     -0.272833 -0.099122 -0.966073 -0.641762 -0.220844   0.789274   \n",
       "3      2.007808  0.775381 -1.448071 -0.165315 -0.585043   1.387054   \n",
       "4     -0.695634  0.160668 -0.286894  0.497568  0.101732  -0.601749   \n",
       "..          ...       ...       ...       ...       ...        ...   \n",
       "162   -0.225578  0.200917 -0.571711  0.240700 -0.738527  -0.489784   \n",
       "163   -0.526514 -0.461363 -0.695862 -1.213499 -0.033542   3.616865   \n",
       "164   -0.372315  1.130305  0.008877  1.380030 -0.658404   0.409732   \n",
       "165    0.448417 -0.406478 -0.597272 -0.517472 -0.658924   1.500916   \n",
       "166    1.114951 -0.150348 -0.338015 -0.662477 -0.721358   0.590015   \n",
       "\n",
       "     life_expec  total_fer      gdpp  \n",
       "0     -1.619092   1.902882 -0.679180  \n",
       "1      0.647866  -0.859973 -0.485623  \n",
       "2      0.670423  -0.038404 -0.465376  \n",
       "3     -1.179234   2.128151 -0.516268  \n",
       "4      0.704258  -0.541946 -0.041817  \n",
       "..          ...        ...       ...  \n",
       "162   -0.852161   0.365754 -0.546913  \n",
       "163    0.546361  -0.316678  0.029323  \n",
       "164    0.286958  -0.661206 -0.637754  \n",
       "165   -0.344633   1.140944 -0.637754  \n",
       "166   -2.092785   1.624609 -0.629546  \n",
       "\n",
       "[167 rows x 9 columns]"
      ]
     },
     "execution_count": 9,
     "metadata": {},
     "output_type": "execute_result"
    }
   ],
   "source": [
    "X_scaled_df = pd.DataFrame(X_scaled,columns=X.columns)\n",
    "X_scaled_df"
   ]
  },
  {
   "cell_type": "markdown",
   "metadata": {
    "id": "sahIPEd8HudP"
   },
   "source": [
    "**Step-5:** Plotting dendograms with the complete linkage method."
   ]
  },
  {
   "cell_type": "code",
   "execution_count": 10,
   "metadata": {
    "colab": {
     "base_uri": "https://localhost:8080/",
     "height": 444
    },
    "id": "xbDYTsMuANXV",
    "outputId": "dfe8d7f1-f62a-4cc0-bf21-6f00c6ac4c63"
   },
   "outputs": [
    {
     "data": {
      "image/png": "[encoded data removed]",
      "text/plain": [
       "<Figure size 1000x700 with 1 Axes>"
      ]
     },
     "metadata": {},
     "output_type": "display_data"
    }
   ],
   "source": [
    "import scipy.cluster.hierarchy as shc\n",
    "\n",
    "plt.figure(figsize=(10, 7))  \n",
    "plt.title(\"Country Dendograms\")  \n",
    "dend = shc.dendrogram(shc.linkage(X_scaled_df, method='ward'))"
   ]
  },
  {
   "cell_type": "code",
   "execution_count": 11,
   "metadata": {
    "colab": {
     "base_uri": "https://localhost:8080/",
     "height": 281
    },
    "id": "Y2UwOSyoEbIq",
    "outputId": "3570b1d0-fbe2-46a7-8c6b-31792035986f"
   },
   "outputs": [
    {
     "data": {
      "image/png": "[encoded data removed]",
      "text/plain": [
       "<Figure size 640x480 with 1 Axes>"
      ]
     },
     "metadata": {},
     "output_type": "display_data"
    }
   ],
   "source": [
    "# complete linkage\n",
    "cl_mergings = linkage(X_scaled_df, method=\"complete\", metric='euclidean')\n",
    "plt.title(\"Complete Linkage Dendograms\") \n",
    "dendrogram(cl_mergings)\n",
    "plt.show()"
   ]
  },
  {
   "cell_type": "markdown",
   "metadata": {
    "id": "RvySim8NIvQD"
   },
   "source": [
    "**Step-6:** Creating cluster labels using cut tree."
   ]
  },
  {
   "cell_type": "code",
   "execution_count": 12,
   "metadata": {
    "colab": {
     "base_uri": "https://localhost:8080/"
    },
    "id": "oNDaA3qVD377",
    "outputId": "095bf479-6817-4d9c-8aa1-142345007d90"
   },
   "outputs": [
    {
     "data": {
      "text/plain": [
       "array([0, 1, 1, 0, 1, 1, 1, 1, 1, 1, 1, 1, 1, 1, 1, 1, 1, 0, 0, 1, 1, 0,\n",
       "       1, 1, 1, 0, 0, 0, 0, 1, 1, 0, 0, 1, 1, 1, 0, 0, 0, 1, 0, 1, 1, 1,\n",
       "       1, 1, 1, 1, 1, 0, 1, 1, 0, 1, 1, 1, 0, 1, 1, 0, 1, 1, 1, 0, 0, 0,\n",
       "       0, 1, 1, 1, 1, 1, 0, 1, 1, 1, 1, 1, 1, 1, 0, 0, 1, 0, 0, 1, 1, 0,\n",
       "       0, 1, 1, 2, 1, 0, 0, 1, 1, 0, 2, 0, 1, 0, 1, 1, 1, 1, 0, 1, 0, 1,\n",
       "       1, 1, 0, 3, 1, 1, 1, 1, 1, 1, 1, 1, 1, 1, 1, 1, 0, 0, 1, 0, 1, 1,\n",
       "       0, 2, 1, 1, 0, 0, 1, 1, 1, 1, 0, 1, 1, 1, 0, 0, 1, 0, 0, 0, 1, 1,\n",
       "       1, 0, 1, 1, 1, 1, 1, 1, 0, 1, 1, 0, 0])"
      ]
     },
     "execution_count": 12,
     "metadata": {},
     "output_type": "execute_result"
    }
   ],
   "source": [
    "# the single linkage clustering does not perform well in generating the clusters hence we go for complete linkage\n",
    "# 4 clusters using complete linkage\n",
    "cl_cluster_labels = cut_tree(cl_mergings, n_clusters=4).reshape(-1, )\n",
    "cl_cluster_labels"
   ]
  },
  {
   "cell_type": "code",
   "execution_count": 13,
   "metadata": {
    "colab": {
     "base_uri": "https://localhost:8080/",
     "height": 423
    },
    "id": "c_czL_lfEoJP",
    "outputId": "b1a0041a-cb4e-442f-d933-c46e249caa3e"
   },
   "outputs": [
    {
     "data": {
      "text/html": [
       "<div>\n",
       "<style scoped>\n",
       "    .dataframe tbody tr th:only-of-type {\n",
       "        vertical-align: middle;\n",
       "    }\n",
       "\n",
       "    .dataframe tbody tr th {\n",
       "        vertical-align: top;\n",
       "    }\n",
       "\n",
       "    .dataframe thead th {\n",
       "        text-align: right;\n",
       "    }\n",
       "</style>\n",
       "<table border=\"1\" class=\"dataframe\">\n",
       "  <thead>\n",
       "    <tr style=\"text-align: right;\">\n",
       "      <th></th>\n",
       "      <th>child_mort</th>\n",
       "      <th>exports</th>\n",
       "      <th>health</th>\n",
       "      <th>imports</th>\n",
       "      <th>income</th>\n",
       "      <th>inflation</th>\n",
       "      <th>life_expec</th>\n",
       "      <th>total_fer</th>\n",
       "      <th>gdpp</th>\n",
       "      <th>Hierarchical_Cluster_labels</th>\n",
       "    </tr>\n",
       "  </thead>\n",
       "  <tbody>\n",
       "    <tr>\n",
       "      <th>0</th>\n",
       "      <td>1.291532</td>\n",
       "      <td>-1.138280</td>\n",
       "      <td>0.279088</td>\n",
       "      <td>-0.082455</td>\n",
       "      <td>-0.808245</td>\n",
       "      <td>0.157336</td>\n",
       "      <td>-1.619092</td>\n",
       "      <td>1.902882</td>\n",
       "      <td>-0.679180</td>\n",
       "      <td>0</td>\n",
       "    </tr>\n",
       "    <tr>\n",
       "      <th>1</th>\n",
       "      <td>-0.538949</td>\n",
       "      <td>-0.479658</td>\n",
       "      <td>-0.097016</td>\n",
       "      <td>0.070837</td>\n",
       "      <td>-0.375369</td>\n",
       "      <td>-0.312347</td>\n",
       "      <td>0.647866</td>\n",
       "      <td>-0.859973</td>\n",
       "      <td>-0.485623</td>\n",
       "      <td>1</td>\n",
       "    </tr>\n",
       "    <tr>\n",
       "      <th>2</th>\n",
       "      <td>-0.272833</td>\n",
       "      <td>-0.099122</td>\n",
       "      <td>-0.966073</td>\n",
       "      <td>-0.641762</td>\n",
       "      <td>-0.220844</td>\n",
       "      <td>0.789274</td>\n",
       "      <td>0.670423</td>\n",
       "      <td>-0.038404</td>\n",
       "      <td>-0.465376</td>\n",
       "      <td>1</td>\n",
       "    </tr>\n",
       "    <tr>\n",
       "      <th>3</th>\n",
       "      <td>2.007808</td>\n",
       "      <td>0.775381</td>\n",
       "      <td>-1.448071</td>\n",
       "      <td>-0.165315</td>\n",
       "      <td>-0.585043</td>\n",
       "      <td>1.387054</td>\n",
       "      <td>-1.179234</td>\n",
       "      <td>2.128151</td>\n",
       "      <td>-0.516268</td>\n",
       "      <td>0</td>\n",
       "    </tr>\n",
       "    <tr>\n",
       "      <th>4</th>\n",
       "      <td>-0.695634</td>\n",
       "      <td>0.160668</td>\n",
       "      <td>-0.286894</td>\n",
       "      <td>0.497568</td>\n",
       "      <td>0.101732</td>\n",
       "      <td>-0.601749</td>\n",
       "      <td>0.704258</td>\n",
       "      <td>-0.541946</td>\n",
       "      <td>-0.041817</td>\n",
       "      <td>1</td>\n",
       "    </tr>\n",
       "    <tr>\n",
       "      <th>...</th>\n",
       "      <td>...</td>\n",
       "      <td>...</td>\n",
       "      <td>...</td>\n",
       "      <td>...</td>\n",
       "      <td>...</td>\n",
       "      <td>...</td>\n",
       "      <td>...</td>\n",
       "      <td>...</td>\n",
       "      <td>...</td>\n",
       "      <td>...</td>\n",
       "    </tr>\n",
       "    <tr>\n",
       "      <th>162</th>\n",
       "      <td>-0.225578</td>\n",
       "      <td>0.200917</td>\n",
       "      <td>-0.571711</td>\n",
       "      <td>0.240700</td>\n",
       "      <td>-0.738527</td>\n",
       "      <td>-0.489784</td>\n",
       "      <td>-0.852161</td>\n",
       "      <td>0.365754</td>\n",
       "      <td>-0.546913</td>\n",
       "      <td>0</td>\n",
       "    </tr>\n",
       "    <tr>\n",
       "      <th>163</th>\n",
       "      <td>-0.526514</td>\n",
       "      <td>-0.461363</td>\n",
       "      <td>-0.695862</td>\n",
       "      <td>-1.213499</td>\n",
       "      <td>-0.033542</td>\n",
       "      <td>3.616865</td>\n",
       "      <td>0.546361</td>\n",
       "      <td>-0.316678</td>\n",
       "      <td>0.029323</td>\n",
       "      <td>1</td>\n",
       "    </tr>\n",
       "    <tr>\n",
       "      <th>164</th>\n",
       "      <td>-0.372315</td>\n",
       "      <td>1.130305</td>\n",
       "      <td>0.008877</td>\n",
       "      <td>1.380030</td>\n",
       "      <td>-0.658404</td>\n",
       "      <td>0.409732</td>\n",
       "      <td>0.286958</td>\n",
       "      <td>-0.661206</td>\n",
       "      <td>-0.637754</td>\n",
       "      <td>1</td>\n",
       "    </tr>\n",
       "    <tr>\n",
       "      <th>165</th>\n",
       "      <td>0.448417</td>\n",
       "      <td>-0.406478</td>\n",
       "      <td>-0.597272</td>\n",
       "      <td>-0.517472</td>\n",
       "      <td>-0.658924</td>\n",
       "      <td>1.500916</td>\n",
       "      <td>-0.344633</td>\n",
       "      <td>1.140944</td>\n",
       "      <td>-0.637754</td>\n",
       "      <td>0</td>\n",
       "    </tr>\n",
       "    <tr>\n",
       "      <th>166</th>\n",
       "      <td>1.114951</td>\n",
       "      <td>-0.150348</td>\n",
       "      <td>-0.338015</td>\n",
       "      <td>-0.662477</td>\n",
       "      <td>-0.721358</td>\n",
       "      <td>0.590015</td>\n",
       "      <td>-2.092785</td>\n",
       "      <td>1.624609</td>\n",
       "      <td>-0.629546</td>\n",
       "      <td>0</td>\n",
       "    </tr>\n",
       "  </tbody>\n",
       "</table>\n",
       "<p>167 rows × 10 columns</p>\n",
       "</div>"
      ],
      "text/plain": [
       "     child_mort   exports    health   imports    income  inflation  \\\n",
       "0      1.291532 -1.138280  0.279088 -0.082455 -0.808245   0.157336   \n",
       "1     -0.538949 -0.479658 -0.097016  0.070837 -0.375369  -0.312347   \n",
       "2     -0.272833 -0.099122 -0.966073 -0.641762 -0.220844   0.789274   \n",
       "3      2.007808  0.775381 -1.448071 -0.165315 -0.585043   1.387054   \n",
       "4     -0.695634  0.160668 -0.286894  0.497568  0.101732  -0.601749   \n",
       "..          ...       ...       ...       ...       ...        ...   \n",
       "162   -0.225578  0.200917 -0.571711  0.240700 -0.738527  -0.489784   \n",
       "163   -0.526514 -0.461363 -0.695862 -1.213499 -0.033542   3.616865   \n",
       "164   -0.372315  1.130305  0.008877  1.380030 -0.658404   0.409732   \n",
       "165    0.448417 -0.406478 -0.597272 -0.517472 -0.658924   1.500916   \n",
       "166    1.114951 -0.150348 -0.338015 -0.662477 -0.721358   0.590015   \n",
       "\n",
       "     life_expec  total_fer      gdpp  Hierarchical_Cluster_labels  \n",
       "0     -1.619092   1.902882 -0.679180                            0  \n",
       "1      0.647866  -0.859973 -0.485623                            1  \n",
       "2      0.670423  -0.038404 -0.465376                            1  \n",
       "3     -1.179234   2.128151 -0.516268                            0  \n",
       "4      0.704258  -0.541946 -0.041817                            1  \n",
       "..          ...        ...       ...                          ...  \n",
       "162   -0.852161   0.365754 -0.546913                            0  \n",
       "163    0.546361  -0.316678  0.029323                            1  \n",
       "164    0.286958  -0.661206 -0.637754                            1  \n",
       "165   -0.344633   1.140944 -0.637754                            0  \n",
       "166   -2.092785   1.624609 -0.629546                            0  \n",
       "\n",
       "[167 rows x 10 columns]"
      ]
     },
     "execution_count": 13,
     "metadata": {},
     "output_type": "execute_result"
    }
   ],
   "source": [
    "X_scaled_df[\"Hierarchical_Cluster_labels\"] = cl_cluster_labels\n",
    "X_scaled_df"
   ]
  },
  {
   "cell_type": "markdown",
   "metadata": {
    "id": "6-o2UMLQIoZt"
   },
   "source": [
    "**Step-7:** Performing  4-Component PCA on DataFrame."
   ]
  },
  {
   "cell_type": "code",
   "execution_count": 14,
   "metadata": {
    "colab": {
     "base_uri": "https://localhost:8080/"
    },
    "id": "4YR_f4IFF3Sd",
    "outputId": "abcda896-2dc8-4c17-f056-476774d9fdaf"
   },
   "outputs": [
    {
     "name": "stdout",
     "output_type": "stream",
     "text": [
      "(167, 9)\n",
      "(167, 4)\n"
     ]
    }
   ],
   "source": [
    "#Performing PCA with 4 components\n",
    "\n",
    "from sklearn.decomposition import IncrementalPCA\n",
    "pca_final = IncrementalPCA(n_components=4)\n",
    "X_pca_final = pca_final.fit_transform(X_scaled)\n",
    "print(X.shape)\n",
    "print(X_pca_final.shape)"
   ]
  },
  {
   "cell_type": "code",
   "execution_count": 15,
   "metadata": {
    "colab": {
     "base_uri": "https://localhost:8080/",
     "height": 206
    },
    "id": "nzpcj56GFCOb",
    "outputId": "785f49f1-1d7c-46b0-f65f-21c71571f55e"
   },
   "outputs": [
    {
     "data": {
      "text/html": [
       "<div>\n",
       "<style scoped>\n",
       "    .dataframe tbody tr th:only-of-type {\n",
       "        vertical-align: middle;\n",
       "    }\n",
       "\n",
       "    .dataframe tbody tr th {\n",
       "        vertical-align: top;\n",
       "    }\n",
       "\n",
       "    .dataframe thead th {\n",
       "        text-align: right;\n",
       "    }\n",
       "</style>\n",
       "<table border=\"1\" class=\"dataframe\">\n",
       "  <thead>\n",
       "    <tr style=\"text-align: right;\">\n",
       "      <th></th>\n",
       "      <th>PC1</th>\n",
       "      <th>PC2</th>\n",
       "      <th>PC3</th>\n",
       "      <th>PC4</th>\n",
       "    </tr>\n",
       "  </thead>\n",
       "  <tbody>\n",
       "    <tr>\n",
       "      <th>0</th>\n",
       "      <td>-2.913787</td>\n",
       "      <td>0.088354</td>\n",
       "      <td>0.721003</td>\n",
       "      <td>0.996699</td>\n",
       "    </tr>\n",
       "    <tr>\n",
       "      <th>1</th>\n",
       "      <td>0.429358</td>\n",
       "      <td>-0.587859</td>\n",
       "      <td>0.321052</td>\n",
       "      <td>-1.171193</td>\n",
       "    </tr>\n",
       "    <tr>\n",
       "      <th>2</th>\n",
       "      <td>-0.282988</td>\n",
       "      <td>-0.446657</td>\n",
       "      <td>-1.225135</td>\n",
       "      <td>-0.850127</td>\n",
       "    </tr>\n",
       "    <tr>\n",
       "      <th>3</th>\n",
       "      <td>-2.930969</td>\n",
       "      <td>1.699437</td>\n",
       "      <td>-1.521734</td>\n",
       "      <td>0.875966</td>\n",
       "    </tr>\n",
       "    <tr>\n",
       "      <th>4</th>\n",
       "      <td>1.031988</td>\n",
       "      <td>0.130488</td>\n",
       "      <td>0.192922</td>\n",
       "      <td>-0.844808</td>\n",
       "    </tr>\n",
       "  </tbody>\n",
       "</table>\n",
       "</div>"
      ],
      "text/plain": [
       "        PC1       PC2       PC3       PC4\n",
       "0 -2.913787  0.088354  0.721003  0.996699\n",
       "1  0.429358 -0.587859  0.321052 -1.171193\n",
       "2 -0.282988 -0.446657 -1.225135 -0.850127\n",
       "3 -2.930969  1.699437 -1.521734  0.875966\n",
       "4  1.031988  0.130488  0.192922 -0.844808"
      ]
     },
     "execution_count": 15,
     "metadata": {},
     "output_type": "execute_result"
    }
   ],
   "source": [
    "X_pca_final_df = pd.DataFrame(X_pca_final,columns=['PC1','PC2','PC3','PC4'])\n",
    "X_pca_final_df.head()"
   ]
  },
  {
   "cell_type": "markdown",
   "metadata": {
    "id": "Qb1gvnlYJGQs"
   },
   "source": [
    "**Step-8:** Adding cluster labels to the final PCA DataFrame."
   ]
  },
  {
   "cell_type": "code",
   "execution_count": 16,
   "metadata": {
    "id": "LnT_r6t-GJIE"
   },
   "outputs": [],
   "source": [
    "X_pca_final_df['Hierarchical_Cluster_Labels'] = cl_cluster_labels"
   ]
  },
  {
   "cell_type": "code",
   "execution_count": 17,
   "metadata": {
    "colab": {
     "base_uri": "https://localhost:8080/",
     "height": 206
    },
    "id": "cmUs_mfRGNWG",
    "outputId": "ff57b910-59a3-4ff5-f443-be16204aff83"
   },
   "outputs": [
    {
     "data": {
      "text/html": [
       "<div>\n",
       "<style scoped>\n",
       "    .dataframe tbody tr th:only-of-type {\n",
       "        vertical-align: middle;\n",
       "    }\n",
       "\n",
       "    .dataframe tbody tr th {\n",
       "        vertical-align: top;\n",
       "    }\n",
       "\n",
       "    .dataframe thead th {\n",
       "        text-align: right;\n",
       "    }\n",
       "</style>\n",
       "<table border=\"1\" class=\"dataframe\">\n",
       "  <thead>\n",
       "    <tr style=\"text-align: right;\">\n",
       "      <th></th>\n",
       "      <th>PC1</th>\n",
       "      <th>PC2</th>\n",
       "      <th>PC3</th>\n",
       "      <th>PC4</th>\n",
       "      <th>Hierarchical_Cluster_Labels</th>\n",
       "    </tr>\n",
       "  </thead>\n",
       "  <tbody>\n",
       "    <tr>\n",
       "      <th>0</th>\n",
       "      <td>-2.913787</td>\n",
       "      <td>0.088354</td>\n",
       "      <td>0.721003</td>\n",
       "      <td>0.996699</td>\n",
       "      <td>0</td>\n",
       "    </tr>\n",
       "    <tr>\n",
       "      <th>1</th>\n",
       "      <td>0.429358</td>\n",
       "      <td>-0.587859</td>\n",
       "      <td>0.321052</td>\n",
       "      <td>-1.171193</td>\n",
       "      <td>1</td>\n",
       "    </tr>\n",
       "    <tr>\n",
       "      <th>2</th>\n",
       "      <td>-0.282988</td>\n",
       "      <td>-0.446657</td>\n",
       "      <td>-1.225135</td>\n",
       "      <td>-0.850127</td>\n",
       "      <td>1</td>\n",
       "    </tr>\n",
       "    <tr>\n",
       "      <th>3</th>\n",
       "      <td>-2.930969</td>\n",
       "      <td>1.699437</td>\n",
       "      <td>-1.521734</td>\n",
       "      <td>0.875966</td>\n",
       "      <td>0</td>\n",
       "    </tr>\n",
       "    <tr>\n",
       "      <th>4</th>\n",
       "      <td>1.031988</td>\n",
       "      <td>0.130488</td>\n",
       "      <td>0.192922</td>\n",
       "      <td>-0.844808</td>\n",
       "      <td>1</td>\n",
       "    </tr>\n",
       "  </tbody>\n",
       "</table>\n",
       "</div>"
      ],
      "text/plain": [
       "        PC1       PC2       PC3       PC4  Hierarchical_Cluster_Labels\n",
       "0 -2.913787  0.088354  0.721003  0.996699                            0\n",
       "1  0.429358 -0.587859  0.321052 -1.171193                            1\n",
       "2 -0.282988 -0.446657 -1.225135 -0.850127                            1\n",
       "3 -2.930969  1.699437 -1.521734  0.875966                            0\n",
       "4  1.031988  0.130488  0.192922 -0.844808                            1"
      ]
     },
     "execution_count": 17,
     "metadata": {},
     "output_type": "execute_result"
    }
   ],
   "source": [
    "X_pca_final_df.head()"
   ]
  },
  {
   "cell_type": "markdown",
   "metadata": {
    "id": "nLBYWdtlJQWL"
   },
   "source": [
    "**Step-9:** Analyzing how low GDP rate corresponds to the child mortality rate around the world."
   ]
  },
  {
   "cell_type": "code",
   "execution_count": 18,
   "metadata": {
    "colab": {
     "base_uri": "https://localhost:8080/",
     "height": 315
    },
    "id": "RyLDYoRdGWV-",
    "outputId": "cc376d19-2522-4591-bff9-51f5964768b4"
   },
   "outputs": [
    {
     "data": {
      "text/plain": [
       "Text(0.5, 1.0, 'How Low GDP Rate Corresponds to the Child Mortality Rate')"
      ]
     },
     "execution_count": 18,
     "metadata": {},
     "output_type": "execute_result"
    },
    {
     "data": {
      "image/png": "[encoded data removed]",
      "text/plain": [
       "<Figure size 640x480 with 1 Axes>"
      ]
     },
     "metadata": {},
     "output_type": "display_data"
    }
   ],
   "source": [
    "\n",
    "ax = sns.scatterplot(x='gdpp',y='child_mort',data = X_scaled_df,hue='Hierarchical_Cluster_labels')\n",
    "ax.set_xlabel('GDP', fontsize = 10)\n",
    "ax.set_ylabel('Child Mortality Rate', fontsize = 10)\n",
    "ax.set_title('How Low GDP Rate Corresponds to the Child Mortality Rate', fontsize = 15)"
   ]
  }
 ],
 "metadata": {
  "colab": {
   "collapsed_sections": [],
   "name": "DS_D50_DIY_Solution_V1.0.ipynb",
   "provenance": []
  },
  "kernelspec": {
   "display_name": "Python 3 (ipykernel)",
   "language": "python",
   "name": "python3"
  },
  "language_info": {
   "codemirror_mode": {
    "name": "ipython",
    "version": 3
   },
   "file_extension": ".py",
   "mimetype": "text/x-python",
   "name": "python",
   "nbconvert_exporter": "python",
   "pygments_lexer": "ipython3",
   "version": "3.11.5"
  }
 },
 "nbformat": 4,
 "nbformat_minor": 1
}
