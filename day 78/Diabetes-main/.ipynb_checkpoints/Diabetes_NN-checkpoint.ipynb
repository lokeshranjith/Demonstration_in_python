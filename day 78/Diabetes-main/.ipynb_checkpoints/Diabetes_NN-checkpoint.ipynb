{
 "cells": [
  {
   "cell_type": "code",
   "execution_count": 1,
   "metadata": {},
   "outputs": [
    {
     "name": "stdout",
     "output_type": "stream",
     "text": [
      "3.6.10 |Anaconda, Inc.| (default, May  7 2020, 19:46:08) [MSC v.1916 64 bit (AMD64)]\n"
     ]
    }
   ],
   "source": [
    "import sys\n",
    "print(sys.version)"
   ]
  },
  {
   "cell_type": "code",
   "execution_count": 2,
   "metadata": {},
   "outputs": [],
   "source": [
    "#Keras = To build a NN\n",
    "#tensorflow = C++"
   ]
  },
  {
   "cell_type": "code",
   "execution_count": 3,
   "metadata": {},
   "outputs": [
    {
     "name": "stdout",
     "output_type": "stream",
     "text": [
      "2.1.0\n"
     ]
    }
   ],
   "source": [
    "import tensorflow as tf\n",
    "print(tf.__version__)"
   ]
  },
  {
   "cell_type": "code",
   "execution_count": 4,
   "metadata": {},
   "outputs": [],
   "source": [
    "import numpy as np\n",
    "from numpy import loadtxt"
   ]
  },
  {
   "cell_type": "code",
   "execution_count": 5,
   "metadata": {},
   "outputs": [],
   "source": [
    "data=loadtxt('diabetesclean.csv',delimiter=',') #read the dataset"
   ]
  },
  {
   "cell_type": "code",
   "execution_count": 6,
   "metadata": {},
   "outputs": [
    {
     "data": {
      "text/plain": [
       "(768, 9)"
      ]
     },
     "execution_count": 6,
     "metadata": {},
     "output_type": "execute_result"
    }
   ],
   "source": [
    "data.shape"
   ]
  },
  {
   "cell_type": "code",
   "execution_count": 7,
   "metadata": {},
   "outputs": [],
   "source": [
    "x = data[:,0:8] #DATA \n",
    "y = data[:,8] #Label"
   ]
  },
  {
   "cell_type": "code",
   "execution_count": 10,
   "metadata": {},
   "outputs": [],
   "source": [
    "from sklearn.model_selection import train_test_split"
   ]
  },
  {
   "cell_type": "code",
   "execution_count": 11,
   "metadata": {},
   "outputs": [],
   "source": [
    "xtrain, xtest, ytrain, ytest = train_test_split(x,y,test_size=0.2)"
   ]
  },
  {
   "cell_type": "code",
   "execution_count": 12,
   "metadata": {},
   "outputs": [],
   "source": [
    "from keras.models import Sequential\n",
    "from keras.layers import Dense"
   ]
  },
  {
   "cell_type": "code",
   "execution_count": 13,
   "metadata": {},
   "outputs": [],
   "source": [
    "model=Sequential()"
   ]
  },
  {
   "cell_type": "code",
   "execution_count": 14,
   "metadata": {},
   "outputs": [],
   "source": [
    "model.add(Dense(8,input_dim=8,activation='relu')) #INPUT N\n",
    "model.add(Dense(8,activation='relu'))#hidden layer\n",
    "model.add(Dense(1,activation='sigmoid'))  #softmax #output"
   ]
  },
  {
   "cell_type": "code",
   "execution_count": 15,
   "metadata": {},
   "outputs": [],
   "source": [
    "model.compile(loss='binary_crossentropy',optimizer='adam',metrics=['accuracy'])"
   ]
  },
  {
   "cell_type": "code",
   "execution_count": 18,
   "metadata": {
    "scrolled": false
   },
   "outputs": [
    {
     "name": "stdout",
     "output_type": "stream",
     "text": [
      "Epoch 1/150\n",
      "614/614 [==============================] - 0s 41us/step - loss: 0.6011 - accuracy: 0.6873\n",
      "Epoch 2/150\n",
      "614/614 [==============================] - 0s 28us/step - loss: 0.5977 - accuracy: 0.6938\n",
      "Epoch 3/150\n",
      "614/614 [==============================] - 0s 30us/step - loss: 0.5941 - accuracy: 0.6938\n",
      "Epoch 4/150\n",
      "614/614 [==============================] - 0s 37us/step - loss: 0.5979 - accuracy: 0.6922\n",
      "Epoch 5/150\n",
      "614/614 [==============================] - 0s 34us/step - loss: 0.5968 - accuracy: 0.6954\n",
      "Epoch 6/150\n",
      "614/614 [==============================] - 0s 34us/step - loss: 0.5941 - accuracy: 0.6922\n",
      "Epoch 7/150\n",
      "614/614 [==============================] - 0s 26us/step - loss: 0.5933 - accuracy: 0.6954\n",
      "Epoch 8/150\n",
      "614/614 [==============================] - 0s 32us/step - loss: 0.5961 - accuracy: 0.6922\n",
      "Epoch 9/150\n",
      "614/614 [==============================] - 0s 31us/step - loss: 0.5927 - accuracy: 0.6971\n",
      "Epoch 10/150\n",
      "614/614 [==============================] - ETA: 0s - loss: 0.5155 - accuracy: 0.81 - 0s 28us/step - loss: 0.5944 - accuracy: 0.6954\n",
      "Epoch 11/150\n",
      "614/614 [==============================] - 0s 37us/step - loss: 0.5926 - accuracy: 0.6938\n",
      "Epoch 12/150\n",
      "614/614 [==============================] - 0s 34us/step - loss: 0.5938 - accuracy: 0.6938\n",
      "Epoch 13/150\n",
      "614/614 [==============================] - 0s 42us/step - loss: 0.5942 - accuracy: 0.6906\n",
      "Epoch 14/150\n",
      "614/614 [==============================] - 0s 32us/step - loss: 0.5938 - accuracy: 0.6938\n",
      "Epoch 15/150\n",
      "614/614 [==============================] - 0s 43us/step - loss: 0.5943 - accuracy: 0.6906\n",
      "Epoch 16/150\n",
      "614/614 [==============================] - 0s 45us/step - loss: 0.5948 - accuracy: 0.7020\n",
      "Epoch 17/150\n",
      "614/614 [==============================] - 0s 50us/step - loss: 0.5925 - accuracy: 0.6987\n",
      "Epoch 18/150\n",
      "614/614 [==============================] - 0s 34us/step - loss: 0.5930 - accuracy: 0.6954\n",
      "Epoch 19/150\n",
      "614/614 [==============================] - 0s 28us/step - loss: 0.5930 - accuracy: 0.6938\n",
      "Epoch 20/150\n",
      "614/614 [==============================] - 0s 32us/step - loss: 0.5909 - accuracy: 0.6906\n",
      "Epoch 21/150\n",
      "614/614 [==============================] - 0s 23us/step - loss: 0.5913 - accuracy: 0.6922\n",
      "Epoch 22/150\n",
      "614/614 [==============================] - 0s 29us/step - loss: 0.5913 - accuracy: 0.6906\n",
      "Epoch 23/150\n",
      "614/614 [==============================] - 0s 32us/step - loss: 0.5917 - accuracy: 0.6889\n",
      "Epoch 24/150\n",
      "614/614 [==============================] - 0s 29us/step - loss: 0.5933 - accuracy: 0.6906\n",
      "Epoch 25/150\n",
      "614/614 [==============================] - 0s 42us/step - loss: 0.5923 - accuracy: 0.6987\n",
      "Epoch 26/150\n",
      "614/614 [==============================] - 0s 42us/step - loss: 0.5919 - accuracy: 0.6954\n",
      "Epoch 27/150\n",
      "614/614 [==============================] - 0s 29us/step - loss: 0.5897 - accuracy: 0.6954\n",
      "Epoch 28/150\n",
      "614/614 [==============================] - 0s 26us/step - loss: 0.5934 - accuracy: 0.7020\n",
      "Epoch 29/150\n",
      "614/614 [==============================] - 0s 31us/step - loss: 0.5903 - accuracy: 0.6971\n",
      "Epoch 30/150\n",
      "614/614 [==============================] - 0s 31us/step - loss: 0.5926 - accuracy: 0.6906\n",
      "Epoch 31/150\n",
      "614/614 [==============================] - 0s 34us/step - loss: 0.5906 - accuracy: 0.6922\n",
      "Epoch 32/150\n",
      "614/614 [==============================] - 0s 41us/step - loss: 0.5912 - accuracy: 0.6954\n",
      "Epoch 33/150\n",
      "614/614 [==============================] - 0s 31us/step - loss: 0.5901 - accuracy: 0.6922\n",
      "Epoch 34/150\n",
      "614/614 [==============================] - 0s 24us/step - loss: 0.5912 - accuracy: 0.6987\n",
      "Epoch 35/150\n",
      "614/614 [==============================] - 0s 31us/step - loss: 0.5881 - accuracy: 0.6954\n",
      "Epoch 36/150\n",
      "614/614 [==============================] - 0s 29us/step - loss: 0.5922 - accuracy: 0.6922\n",
      "Epoch 37/150\n",
      "614/614 [==============================] - 0s 45us/step - loss: 0.5883 - accuracy: 0.6938\n",
      "Epoch 38/150\n",
      "614/614 [==============================] - 0s 39us/step - loss: 0.5878 - accuracy: 0.6971\n",
      "Epoch 39/150\n",
      "614/614 [==============================] - 0s 26us/step - loss: 0.5878 - accuracy: 0.7020\n",
      "Epoch 40/150\n",
      "614/614 [==============================] - 0s 28us/step - loss: 0.5874 - accuracy: 0.6971\n",
      "Epoch 41/150\n",
      "614/614 [==============================] - 0s 32us/step - loss: 0.5886 - accuracy: 0.6922\n",
      "Epoch 42/150\n",
      "614/614 [==============================] - 0s 32us/step - loss: 0.5876 - accuracy: 0.6938\n",
      "Epoch 43/150\n",
      "614/614 [==============================] - 0s 29us/step - loss: 0.5886 - accuracy: 0.6938\n",
      "Epoch 44/150\n",
      "614/614 [==============================] - 0s 32us/step - loss: 0.5893 - accuracy: 0.6954\n",
      "Epoch 45/150\n",
      "614/614 [==============================] - 0s 28us/step - loss: 0.5871 - accuracy: 0.6889\n",
      "Epoch 46/150\n",
      "614/614 [==============================] - 0s 42us/step - loss: 0.5869 - accuracy: 0.6954\n",
      "Epoch 47/150\n",
      "614/614 [==============================] - 0s 39us/step - loss: 0.5912 - accuracy: 0.6987\n",
      "Epoch 48/150\n",
      "614/614 [==============================] - 0s 31us/step - loss: 0.5910 - accuracy: 0.6889\n",
      "Epoch 49/150\n",
      "614/614 [==============================] - 0s 26us/step - loss: 0.5852 - accuracy: 0.6987\n",
      "Epoch 50/150\n",
      "614/614 [==============================] - 0s 34us/step - loss: 0.5872 - accuracy: 0.6987\n",
      "Epoch 51/150\n",
      "614/614 [==============================] - 0s 24us/step - loss: 0.5853 - accuracy: 0.6906\n",
      "Epoch 52/150\n",
      "614/614 [==============================] - 0s 28us/step - loss: 0.5859 - accuracy: 0.6954\n",
      "Epoch 53/150\n",
      "614/614 [==============================] - 0s 32us/step - loss: 0.5858 - accuracy: 0.6889\n",
      "Epoch 54/150\n",
      "614/614 [==============================] - 0s 32us/step - loss: 0.5889 - accuracy: 0.6954\n",
      "Epoch 55/150\n",
      "614/614 [==============================] - 0s 36us/step - loss: 0.5857 - accuracy: 0.6889\n",
      "Epoch 56/150\n",
      "614/614 [==============================] - 0s 34us/step - loss: 0.5834 - accuracy: 0.6922\n",
      "Epoch 57/150\n",
      "614/614 [==============================] - 0s 23us/step - loss: 0.5831 - accuracy: 0.7020\n",
      "Epoch 58/150\n",
      "614/614 [==============================] - 0s 36us/step - loss: 0.5874 - accuracy: 0.6857\n",
      "Epoch 59/150\n",
      "614/614 [==============================] - 0s 37us/step - loss: 0.5816 - accuracy: 0.6971\n",
      "Epoch 60/150\n",
      "614/614 [==============================] - 0s 32us/step - loss: 0.5854 - accuracy: 0.6971\n",
      "Epoch 61/150\n",
      "614/614 [==============================] - 0s 37us/step - loss: 0.5833 - accuracy: 0.6906\n",
      "Epoch 62/150\n",
      "614/614 [==============================] - 0s 32us/step - loss: 0.5842 - accuracy: 0.6922\n",
      "Epoch 63/150\n",
      "614/614 [==============================] - 0s 28us/step - loss: 0.5820 - accuracy: 0.7020\n",
      "Epoch 64/150\n",
      "614/614 [==============================] - 0s 63us/step - loss: 0.5851 - accuracy: 0.6840\n",
      "Epoch 65/150\n",
      "614/614 [==============================] - 0s 31us/step - loss: 0.5877 - accuracy: 0.6857\n",
      "Epoch 66/150\n",
      "614/614 [==============================] - 0s 37us/step - loss: 0.5789 - accuracy: 0.6922\n",
      "Epoch 67/150\n",
      "614/614 [==============================] - 0s 36us/step - loss: 0.5811 - accuracy: 0.6954\n",
      "Epoch 68/150\n",
      "614/614 [==============================] - 0s 32us/step - loss: 0.5807 - accuracy: 0.7020\n",
      "Epoch 69/150\n",
      "614/614 [==============================] - 0s 26us/step - loss: 0.5835 - accuracy: 0.6987\n",
      "Epoch 70/150\n",
      "614/614 [==============================] - 0s 29us/step - loss: 0.5795 - accuracy: 0.6954\n",
      "Epoch 71/150\n",
      "614/614 [==============================] - 0s 31us/step - loss: 0.5786 - accuracy: 0.6954\n",
      "Epoch 72/150\n",
      "614/614 [==============================] - 0s 36us/step - loss: 0.5848 - accuracy: 0.6938\n",
      "Epoch 73/150\n",
      "614/614 [==============================] - 0s 32us/step - loss: 0.5831 - accuracy: 0.6971\n",
      "Epoch 74/150\n",
      "614/614 [==============================] - 0s 29us/step - loss: 0.5854 - accuracy: 0.6857\n",
      "Epoch 75/150\n",
      "614/614 [==============================] - 0s 41us/step - loss: 0.5778 - accuracy: 0.6954\n",
      "Epoch 76/150\n",
      "614/614 [==============================] - 0s 32us/step - loss: 0.5782 - accuracy: 0.6922\n",
      "Epoch 77/150\n",
      "614/614 [==============================] - 0s 32us/step - loss: 0.5774 - accuracy: 0.6938\n",
      "Epoch 78/150\n",
      "614/614 [==============================] - 0s 31us/step - loss: 0.5761 - accuracy: 0.7036\n",
      "Epoch 79/150\n",
      "614/614 [==============================] - 0s 31us/step - loss: 0.5761 - accuracy: 0.7003\n",
      "Epoch 80/150\n",
      "614/614 [==============================] - 0s 28us/step - loss: 0.5760 - accuracy: 0.6987\n",
      "Epoch 81/150\n",
      "614/614 [==============================] - 0s 36us/step - loss: 0.5771 - accuracy: 0.7003\n",
      "Epoch 82/150\n",
      "614/614 [==============================] - 0s 34us/step - loss: 0.5757 - accuracy: 0.6971\n",
      "Epoch 83/150\n",
      "614/614 [==============================] - 0s 29us/step - loss: 0.5756 - accuracy: 0.6922\n",
      "Epoch 84/150\n",
      "614/614 [==============================] - 0s 37us/step - loss: 0.5724 - accuracy: 0.6954\n",
      "Epoch 85/150\n",
      "614/614 [==============================] - 0s 37us/step - loss: 0.5723 - accuracy: 0.6954\n",
      "Epoch 86/150\n",
      "614/614 [==============================] - 0s 28us/step - loss: 0.5705 - accuracy: 0.7020\n",
      "Epoch 87/150\n",
      "614/614 [==============================] - 0s 23us/step - loss: 0.5731 - accuracy: 0.7036\n",
      "Epoch 88/150\n",
      "614/614 [==============================] - 0s 28us/step - loss: 0.5730 - accuracy: 0.6938\n",
      "Epoch 89/150\n",
      "614/614 [==============================] - 0s 29us/step - loss: 0.5740 - accuracy: 0.6840\n",
      "Epoch 90/150\n",
      "614/614 [==============================] - 0s 39us/step - loss: 0.5701 - accuracy: 0.7003\n",
      "Epoch 91/150\n",
      "614/614 [==============================] - 0s 31us/step - loss: 0.5802 - accuracy: 0.6840\n",
      "Epoch 92/150\n",
      "614/614 [==============================] - 0s 26us/step - loss: 0.5679 - accuracy: 0.6922\n",
      "Epoch 93/150\n",
      "614/614 [==============================] - 0s 32us/step - loss: 0.5708 - accuracy: 0.6824\n",
      "Epoch 94/150\n",
      "614/614 [==============================] - 0s 24us/step - loss: 0.5729 - accuracy: 0.6906\n",
      "Epoch 95/150\n",
      "614/614 [==============================] - 0s 39us/step - loss: 0.5671 - accuracy: 0.6987\n",
      "Epoch 96/150\n",
      "614/614 [==============================] - 0s 37us/step - loss: 0.5650 - accuracy: 0.6938\n",
      "Epoch 97/150\n",
      "614/614 [==============================] - 0s 29us/step - loss: 0.5649 - accuracy: 0.7052\n",
      "Epoch 98/150\n",
      "614/614 [==============================] - 0s 28us/step - loss: 0.5635 - accuracy: 0.7020\n",
      "Epoch 99/150\n",
      "614/614 [==============================] - 0s 36us/step - loss: 0.5634 - accuracy: 0.7052\n",
      "Epoch 100/150\n",
      "614/614 [==============================] - 0s 24us/step - loss: 0.5657 - accuracy: 0.6840\n",
      "Epoch 101/150\n",
      "614/614 [==============================] - 0s 41us/step - loss: 0.5628 - accuracy: 0.6938\n",
      "Epoch 102/150\n",
      "614/614 [==============================] - 0s 39us/step - loss: 0.5666 - accuracy: 0.6906\n",
      "Epoch 103/150\n",
      "614/614 [==============================] - 0s 34us/step - loss: 0.5775 - accuracy: 0.6857\n",
      "Epoch 104/150\n",
      "614/614 [==============================] - 0s 36us/step - loss: 0.5664 - accuracy: 0.7068\n",
      "Epoch 105/150\n",
      "614/614 [==============================] - 0s 39us/step - loss: 0.5670 - accuracy: 0.6873\n",
      "Epoch 106/150\n",
      "614/614 [==============================] - 0s 31us/step - loss: 0.5624 - accuracy: 0.6922\n",
      "Epoch 107/150\n",
      "614/614 [==============================] - 0s 34us/step - loss: 0.5602 - accuracy: 0.7052\n",
      "Epoch 108/150\n",
      "614/614 [==============================] - 0s 36us/step - loss: 0.5602 - accuracy: 0.6971\n",
      "Epoch 109/150\n",
      "614/614 [==============================] - 0s 36us/step - loss: 0.5595 - accuracy: 0.6954\n",
      "Epoch 110/150\n",
      "614/614 [==============================] - 0s 34us/step - loss: 0.5591 - accuracy: 0.6954\n",
      "Epoch 111/150\n",
      "614/614 [==============================] - 0s 42us/step - loss: 0.5581 - accuracy: 0.7052\n",
      "Epoch 112/150\n",
      "614/614 [==============================] - 0s 26us/step - loss: 0.5574 - accuracy: 0.6987\n",
      "Epoch 113/150\n",
      "614/614 [==============================] - 0s 36us/step - loss: 0.5581 - accuracy: 0.7003\n",
      "Epoch 114/150\n",
      "614/614 [==============================] - 0s 24us/step - loss: 0.5625 - accuracy: 0.6873\n",
      "Epoch 115/150\n",
      "614/614 [==============================] - 0s 32us/step - loss: 0.5576 - accuracy: 0.7020\n",
      "Epoch 116/150\n",
      "614/614 [==============================] - 0s 26us/step - loss: 0.5537 - accuracy: 0.7134\n",
      "Epoch 117/150\n",
      "614/614 [==============================] - 0s 28us/step - loss: 0.5568 - accuracy: 0.6987\n",
      "Epoch 118/150\n",
      "614/614 [==============================] - 0s 29us/step - loss: 0.5551 - accuracy: 0.7052\n",
      "Epoch 119/150\n",
      "614/614 [==============================] - 0s 31us/step - loss: 0.5523 - accuracy: 0.7020\n",
      "Epoch 120/150\n",
      "614/614 [==============================] - 0s 41us/step - loss: 0.5537 - accuracy: 0.7052\n",
      "Epoch 121/150\n",
      "614/614 [==============================] - 0s 32us/step - loss: 0.5541 - accuracy: 0.6987\n",
      "Epoch 122/150\n",
      "614/614 [==============================] - 0s 31us/step - loss: 0.5551 - accuracy: 0.6987\n",
      "Epoch 123/150\n",
      "614/614 [==============================] - 0s 41us/step - loss: 0.5523 - accuracy: 0.7020\n",
      "Epoch 124/150\n",
      "614/614 [==============================] - 0s 34us/step - loss: 0.5497 - accuracy: 0.7036\n",
      "Epoch 125/150\n",
      "614/614 [==============================] - 0s 28us/step - loss: 0.5522 - accuracy: 0.7134\n",
      "Epoch 126/150\n",
      "614/614 [==============================] - 0s 37us/step - loss: 0.5519 - accuracy: 0.7003\n",
      "Epoch 127/150\n",
      "614/614 [==============================] - 0s 36us/step - loss: 0.5504 - accuracy: 0.7036\n",
      "Epoch 128/150\n",
      "614/614 [==============================] - 0s 29us/step - loss: 0.5471 - accuracy: 0.7020\n",
      "Epoch 129/150\n",
      "614/614 [==============================] - 0s 31us/step - loss: 0.5536 - accuracy: 0.6987\n",
      "Epoch 130/150\n",
      "614/614 [==============================] - 0s 36us/step - loss: 0.5521 - accuracy: 0.6971\n",
      "Epoch 131/150\n",
      "614/614 [==============================] - 0s 26us/step - loss: 0.5473 - accuracy: 0.7068\n",
      "Epoch 132/150\n",
      "614/614 [==============================] - 0s 26us/step - loss: 0.5471 - accuracy: 0.6987\n",
      "Epoch 133/150\n",
      "614/614 [==============================] - 0s 29us/step - loss: 0.5549 - accuracy: 0.7068\n",
      "Epoch 134/150\n",
      "614/614 [==============================] - 0s 29us/step - loss: 0.5491 - accuracy: 0.7068\n",
      "Epoch 135/150\n",
      "614/614 [==============================] - 0s 36us/step - loss: 0.5426 - accuracy: 0.7117\n",
      "Epoch 136/150\n",
      "614/614 [==============================] - 0s 37us/step - loss: 0.5424 - accuracy: 0.7068\n",
      "Epoch 137/150\n",
      "614/614 [==============================] - 0s 32us/step - loss: 0.5442 - accuracy: 0.7182\n",
      "Epoch 138/150\n",
      "614/614 [==============================] - 0s 39us/step - loss: 0.5475 - accuracy: 0.6938\n",
      "Epoch 139/150\n",
      "614/614 [==============================] - 0s 31us/step - loss: 0.5560 - accuracy: 0.7020\n",
      "Epoch 140/150\n",
      "614/614 [==============================] - 0s 32us/step - loss: 0.5588 - accuracy: 0.6889\n",
      "Epoch 141/150\n",
      "614/614 [==============================] - 0s 36us/step - loss: 0.5449 - accuracy: 0.7068\n",
      "Epoch 142/150\n",
      "614/614 [==============================] - 0s 37us/step - loss: 0.5513 - accuracy: 0.7036\n",
      "Epoch 143/150\n",
      "614/614 [==============================] - 0s 32us/step - loss: 0.5487 - accuracy: 0.7085\n",
      "Epoch 144/150\n",
      "614/614 [==============================] - 0s 24us/step - loss: 0.5461 - accuracy: 0.7052\n",
      "Epoch 145/150\n",
      "614/614 [==============================] - 0s 31us/step - loss: 0.5377 - accuracy: 0.7036\n",
      "Epoch 146/150\n",
      "614/614 [==============================] - 0s 29us/step - loss: 0.5407 - accuracy: 0.7068\n",
      "Epoch 147/150\n",
      "614/614 [==============================] - 0s 36us/step - loss: 0.5480 - accuracy: 0.6987\n",
      "Epoch 148/150\n",
      "614/614 [==============================] - 0s 36us/step - loss: 0.5374 - accuracy: 0.7134\n",
      "Epoch 149/150\n",
      "614/614 [==============================] - 0s 31us/step - loss: 0.5363 - accuracy: 0.7313\n",
      "Epoch 150/150\n",
      "614/614 [==============================] - 0s 37us/step - loss: 0.5362 - accuracy: 0.7117\n"
     ]
    },
    {
     "data": {
      "text/plain": [
       "<keras.callbacks.callbacks.History at 0x2e947667d30>"
      ]
     },
     "execution_count": 18,
     "metadata": {},
     "output_type": "execute_result"
    }
   ],
   "source": [
    "model.fit(xtrain,ytrain,epochs=150,batch_size=43)"
   ]
  },
  {
   "cell_type": "code",
   "execution_count": 19,
   "metadata": {},
   "outputs": [
    {
     "name": "stdout",
     "output_type": "stream",
     "text": [
      "154/154 [==============================] - 0s 117us/step\n",
      "Accuracy score for Test Data : 0.6753246784210205\n"
     ]
    }
   ],
   "source": [
    "_,acc=model.evaluate(xtest,ytest)\n",
    "print('Accuracy score for Test Data :',acc)"
   ]
  },
  {
   "cell_type": "code",
   "execution_count": null,
   "metadata": {},
   "outputs": [],
   "source": []
  }
 ],
 "metadata": {
  "kernelspec": {
   "display_name": "Python 3 (ipykernel)",
   "language": "python",
   "name": "python3"
  },
  "language_info": {
   "codemirror_mode": {
    "name": "ipython",
    "version": 3
   },
   "file_extension": ".py",
   "mimetype": "text/x-python",
   "name": "python",
   "nbconvert_exporter": "python",
   "pygments_lexer": "ipython3",
   "version": "3.11.5"
  }
 },
 "nbformat": 4,
 "nbformat_minor": 4
}
