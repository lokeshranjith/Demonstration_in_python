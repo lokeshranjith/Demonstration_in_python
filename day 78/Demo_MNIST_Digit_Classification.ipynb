{
 "cells": [
  {
   "cell_type": "markdown",
   "metadata": {
    "id": "PjghwJHRv0Ii"
   },
   "source": [
    "**MNSIT** (Modified Nation Institute of Standards and Technology) is the most commonly used dataset for Digit recognition for Deep Learning because of its tens of thousands of handwritten images. it has total of 784 pixels each of 28 pixels in height and 28 pixels in width representing lightness or darkness of the picture\n"
   ]
  },
  {
   "cell_type": "code",
   "execution_count": 19,
   "metadata": {
    "colab": {
     "base_uri": "https://localhost:8080/"
    },
    "id": "9a_teIOP6xn3",
    "outputId": "c0dd60f5-2b50-4391-82b1-949cecbac157"
   },
   "outputs": [],
   "source": [
    "#installing the latest version of tensorflow\n",
    "#!pip install --upgrade tensorflow"
   ]
  },
  {
   "cell_type": "code",
   "execution_count": 20,
   "metadata": {
    "colab": {
     "base_uri": "https://localhost:8080/"
    },
    "id": "B_0XYIgH7uOX",
    "outputId": "60982018-5e85-4db3-9cd5-17167ea61af9"
   },
   "outputs": [],
   "source": [
    "# verify for the verion updated\n",
    "#!pip show tensorflow"
   ]
  },
  {
   "cell_type": "markdown",
   "metadata": {
    "id": "g0xNABh556jK"
   },
   "source": [
    "**Importing, Normalizing and Defining the layers** "
   ]
  },
  {
   "cell_type": "code",
   "execution_count": 21,
   "metadata": {
    "colab": {
     "base_uri": "https://localhost:8080/"
    },
    "id": "QSckmY7i2Zuq",
    "outputId": "b5c7a534-e07c-4b5f-b95f-e51d1218b2b3"
   },
   "outputs": [],
   "source": [
    "# Importing the required libraries\n",
    "import tensorflow as tf\n",
    "\n",
    "\n",
    "# Import MNIST data\n",
    "mnist = tf.keras.datasets.mnist\n",
    "\n",
    "# Creating training and testing datasets\n",
    "(x_train,y_train), (x_test,y_test) = mnist.load_data()\n",
    "\n",
    "#Normalizing the datasets\n",
    "x_train, x_test = tf.cast(x_train/255.0, tf.float32), tf.cast(x_test/255.0, tf.float32)\n",
    "y_train, y_test = tf.cast(y_train, tf.int64), tf.cast(y_test, tf.int64)\n",
    "\n",
    "# Defining a Sequential Model\n",
    "model = tf.keras.models.Sequential()\n",
    "\n",
    "#Defining layers of the model\n",
    "model.add(tf.keras.layers.Flatten())\n",
    "model.add(tf.keras.layers.Dense(256, activation='relu'))\n",
    "model.add(tf.keras.layers.Dense(128, activation='relu'))\n",
    "model.add(tf.keras.layers.Dense(10, activation='softmax'))"
   ]
  },
  {
   "cell_type": "code",
   "execution_count": 22,
   "metadata": {
    "colab": {
     "base_uri": "https://localhost:8080/"
    },
    "id": "rZCghPce6u0a",
    "outputId": "db77a05f-10aa-43d7-934d-41eb80d0fdd0"
   },
   "outputs": [
    {
     "data": {
      "text/plain": [
       "1.0"
      ]
     },
     "execution_count": 22,
     "metadata": {},
     "output_type": "execute_result"
    }
   ],
   "source": [
    "import numpy as np\n",
    "np.max(x_train)"
   ]
  },
  {
   "cell_type": "code",
   "execution_count": 23,
   "metadata": {
    "colab": {
     "base_uri": "https://localhost:8080/"
    },
    "id": "RwcapEDN6y9n",
    "outputId": "fc89e0d7-ae96-45df-96ba-441105716f69"
   },
   "outputs": [
    {
     "data": {
      "text/plain": [
       "0.0"
      ]
     },
     "execution_count": 23,
     "metadata": {},
     "output_type": "execute_result"
    }
   ],
   "source": [
    "np.min(x_train)"
   ]
  },
  {
   "cell_type": "code",
   "execution_count": 24,
   "metadata": {
    "colab": {
     "base_uri": "https://localhost:8080/",
     "height": 275
    },
    "id": "A2nabCq56-gp",
    "outputId": "c4b868d1-b40d-4678-b749-6c87ab9611ea"
   },
   "outputs": [
    {
     "data": {
      "image/png": "[encoded data removed]",
      "text/plain": [
       "<Figure size 480x480 with 1 Axes>"
      ]
     },
     "metadata": {},
     "output_type": "display_data"
    }
   ],
   "source": [
    "import matplotlib.pyplot as plt\n",
    "plt.matshow(x_train[0])\n",
    "plt.show()"
   ]
  },
  {
   "cell_type": "code",
   "execution_count": 25,
   "metadata": {
    "colab": {
     "base_uri": "https://localhost:8080/",
     "height": 275
    },
    "id": "9LRt4FN57Hzx",
    "outputId": "f68a0b63-1837-4bec-b4e8-9ceadcc957fb"
   },
   "outputs": [
    {
     "data": {
      "image/png": "[encoded data removed]",
      "text/plain": [
       "<Figure size 480x480 with 1 Axes>"
      ]
     },
     "metadata": {},
     "output_type": "display_data"
    }
   ],
   "source": [
    "import matplotlib.pyplot as plt\n",
    "plt.matshow(x_train[1])\n",
    "plt.show()"
   ]
  },
  {
   "cell_type": "code",
   "execution_count": 26,
   "metadata": {
    "colab": {
     "base_uri": "https://localhost:8080/"
    },
    "id": "cS92RWRn7J3i",
    "outputId": "4dde2798-e957-4842-d1e3-4b67b037eca2"
   },
   "outputs": [
    {
     "data": {
      "text/plain": [
       "<tf.Tensor: shape=(2,), dtype=int64, numpy=array([5, 0], dtype=int64)>"
      ]
     },
     "execution_count": 26,
     "metadata": {},
     "output_type": "execute_result"
    }
   ],
   "source": [
    "y_train[:2]"
   ]
  },
  {
   "cell_type": "code",
   "execution_count": 27,
   "metadata": {
    "colab": {
     "base_uri": "https://localhost:8080/"
    },
    "id": "awRF2oq27PV9",
    "outputId": "bf676c7b-1754-4832-d3fa-ff42d0c59dec"
   },
   "outputs": [
    {
     "data": {
      "text/plain": [
       "TensorShape([28, 28])"
      ]
     },
     "execution_count": 27,
     "metadata": {},
     "output_type": "execute_result"
    }
   ],
   "source": [
    "x_train[0].shape"
   ]
  },
  {
   "cell_type": "code",
   "execution_count": 28,
   "metadata": {
    "colab": {
     "base_uri": "https://localhost:8080/"
    },
    "id": "XbfbaGmt7SZ-",
    "outputId": "75363ebc-768a-444d-bc38-e6102b86daa5"
   },
   "outputs": [
    {
     "data": {
      "text/plain": [
       "(TensorShape([60000, 28, 28]), TensorShape([10000, 28, 28]))"
      ]
     },
     "execution_count": 28,
     "metadata": {},
     "output_type": "execute_result"
    }
   ],
   "source": [
    "x_train.shape,x_test.shape"
   ]
  },
  {
   "cell_type": "markdown",
   "metadata": {
    "id": "gybxPZa_6PoC"
   },
   "source": [
    "**Compiling the Model**"
   ]
  },
  {
   "cell_type": "code",
   "execution_count": 29,
   "metadata": {
    "id": "Vb1ZALtL5Exl"
   },
   "outputs": [],
   "source": [
    "#Compiling the Model\n",
    "model.compile(optimizer='sgd', loss='sparse_categorical_crossentropy', metrics=['accuracy'])"
   ]
  },
  {
   "cell_type": "markdown",
   "metadata": {
    "id": "MDlEwRSH6V5X"
   },
   "source": [
    "**Training the Model**"
   ]
  },
  {
   "cell_type": "code",
   "execution_count": 30,
   "metadata": {
    "colab": {
     "base_uri": "https://localhost:8080/"
    },
    "id": "ArLJmWSj5lZX",
    "outputId": "5ae79901-8cc2-4be3-dd34-b6af256321ff"
   },
   "outputs": [
    {
     "name": "stdout",
     "output_type": "stream",
     "text": [
      "Epoch 1/10\n",
      "1875/1875 [==============================] - 6s 3ms/step - loss: 0.5794 - accuracy: 0.8490\n",
      "Epoch 2/10\n",
      "1875/1875 [==============================] - 5s 3ms/step - loss: 0.2812 - accuracy: 0.9198\n",
      "Epoch 3/10\n",
      "1875/1875 [==============================] - 5s 3ms/step - loss: 0.2283 - accuracy: 0.9342\n",
      "Epoch 4/10\n",
      "1875/1875 [==============================] - 5s 3ms/step - loss: 0.1944 - accuracy: 0.9442\n",
      "Epoch 5/10\n",
      "1875/1875 [==============================] - 7s 3ms/step - loss: 0.1693 - accuracy: 0.9514\n",
      "Epoch 6/10\n",
      "1875/1875 [==============================] - 7s 4ms/step - loss: 0.1503 - accuracy: 0.9578\n",
      "Epoch 7/10\n",
      "1875/1875 [==============================] - 9s 5ms/step - loss: 0.1354 - accuracy: 0.9616\n",
      "Epoch 8/10\n",
      "1875/1875 [==============================] - 7s 4ms/step - loss: 0.1228 - accuracy: 0.9656\n",
      "Epoch 9/10\n",
      "1875/1875 [==============================] - 6s 3ms/step - loss: 0.1120 - accuracy: 0.9682\n",
      "Epoch 10/10\n",
      "1875/1875 [==============================] - 6s 3ms/step - loss: 0.1027 - accuracy: 0.9716\n"
     ]
    }
   ],
   "source": [
    "#Training the Model\n",
    "history = model.fit(x_train, y_train, batch_size=32, epochs=10)"
   ]
  },
  {
   "cell_type": "code",
   "execution_count": 31,
   "metadata": {
    "colab": {
     "base_uri": "https://localhost:8080/"
    },
    "id": "UsnjD8a37uvg",
    "outputId": "b3fa812f-433e-4daa-a4f8-eb6529f02526"
   },
   "outputs": [
    {
     "name": "stdout",
     "output_type": "stream",
     "text": [
      "Model: \"sequential_1\"\n",
      "_________________________________________________________________\n",
      " Layer (type)                Output Shape              Param #   \n",
      "=================================================================\n",
      " flatten_1 (Flatten)         (32, 784)                 0         \n",
      "                                                                 \n",
      " dense_3 (Dense)             (32, 256)                 200960    \n",
      "                                                                 \n",
      " dense_4 (Dense)             (32, 128)                 32896     \n",
      "                                                                 \n",
      " dense_5 (Dense)             (32, 10)                  1290      \n",
      "                                                                 \n",
      "=================================================================\n",
      "Total params: 235146 (918.54 KB)\n",
      "Trainable params: 235146 (918.54 KB)\n",
      "Non-trainable params: 0 (0.00 Byte)\n",
      "_________________________________________________________________\n"
     ]
    }
   ],
   "source": [
    "model.summary()"
   ]
  },
  {
   "cell_type": "markdown",
   "metadata": {
    "id": "Bhv5YtIs6ayL"
   },
   "source": [
    "**Evaluating the Model**"
   ]
  },
  {
   "cell_type": "code",
   "execution_count": 32,
   "metadata": {
    "colab": {
     "base_uri": "https://localhost:8080/"
    },
    "id": "T_GV60XT5whA",
    "outputId": "8ca7f4a7-00c3-4728-d6e7-28705867b4aa"
   },
   "outputs": [
    {
     "name": "stdout",
     "output_type": "stream",
     "text": [
      "313/313 [==============================] - 1s 2ms/step - loss: 0.1093 - accuracy: 0.9665\n"
     ]
    },
    {
     "data": {
      "text/plain": [
       "[0.10933305323123932, 0.9664999842643738]"
      ]
     },
     "execution_count": 32,
     "metadata": {},
     "output_type": "execute_result"
    }
   ],
   "source": [
    "#Evaluating the Model\n",
    "model.evaluate(x_test, y_test)"
   ]
  },
  {
   "cell_type": "markdown",
   "metadata": {
    "id": "-S9vdmRU6fnz"
   },
   "source": [
    "**Predicting using the Model**"
   ]
  },
  {
   "cell_type": "code",
   "execution_count": 33,
   "metadata": {
    "colab": {
     "base_uri": "https://localhost:8080/"
    },
    "id": "uk9RHdRIAXIl",
    "outputId": "84421420-1c2e-47aa-8bb8-d61d015646c5"
   },
   "outputs": [
    {
     "name": "stdout",
     "output_type": "stream",
     "text": [
      "1/1 [==============================] - 0s 75ms/step\n",
      "[[7.26713051e-06 4.52110072e-07 5.64789807e-04 1.03491638e-03\n",
      "  8.57891536e-08 8.54314658e-06 3.75225240e-10 9.98331010e-01\n",
      "  4.83076519e-06 4.81052557e-05]\n",
      " [1.19143617e-04 1.96520050e-04 9.98111725e-01 1.19810749e-03\n",
      "  2.22097396e-10 3.80738347e-05 1.73584613e-05 8.48828119e-09\n",
      "  3.19088227e-04 1.55355417e-09]\n",
      " [2.31898211e-05 9.91443813e-01 1.95026444e-03 5.04469208e-04\n",
      "  1.91932428e-04 1.84183111e-04 3.80751037e-04 4.28535324e-03\n",
      "  9.05358407e-04 1.30717512e-04]\n",
      " [9.99732077e-01 2.07003396e-07 7.20649405e-05 2.59584635e-06\n",
      "  2.75643231e-07 7.32905028e-06 4.46212034e-05 5.04617128e-05\n",
      "  4.95389997e-07 8.98726794e-05]\n",
      " [9.42603729e-05 3.20082961e-07 3.07321403e-04 6.98710528e-06\n",
      "  9.77711558e-01 6.69652145e-05 1.37005918e-04 9.36542463e-04\n",
      "  2.05785604e-04 2.05332432e-02]\n",
      " [2.72313514e-06 9.91457999e-01 2.76873354e-04 1.80486386e-04\n",
      "  3.29019349e-05 7.35419644e-06 8.83474422e-06 7.73204910e-03\n",
      "  1.88572638e-04 1.12335751e-04]\n",
      " [2.20840866e-06 1.17473087e-06 1.12482285e-05 1.58609400e-05\n",
      "  9.85370874e-01 1.52287903e-04 3.28652568e-05 3.99284909e-04\n",
      "  1.27888937e-02 1.22515252e-03]\n",
      " [3.02721310e-06 3.73003684e-04 4.68004728e-04 1.15202088e-02\n",
      "  3.19635752e-03 4.11754765e-04 1.27407648e-05 3.15676699e-03\n",
      "  8.10878701e-04 9.80047286e-01]\n",
      " [1.13671902e-03 3.59779915e-05 1.01038992e-01 1.04917286e-04\n",
      "  2.06139032e-03 1.78513929e-01 7.05929518e-01 4.49574190e-06\n",
      "  1.02231177e-02 9.50968009e-04]\n",
      " [4.92647314e-06 6.02904127e-09 1.49451932e-06 2.57922729e-05\n",
      "  1.90774514e-03 1.67671703e-06 1.34378455e-08 3.07425298e-03\n",
      "  1.05399394e-03 9.93930101e-01]]\n"
     ]
    },
    {
     "data": {
      "text/plain": [
       "<tf.Tensor: shape=(10,), dtype=int64, numpy=array([7, 2, 1, 0, 4, 1, 4, 9, 5, 9], dtype=int64)>"
      ]
     },
     "execution_count": 33,
     "metadata": {},
     "output_type": "execute_result"
    }
   ],
   "source": [
    "#Making Prediction using the Model\n",
    "import numpy as np\n",
    "x_new = x_test[:10]\n",
    "y_pred = model.predict(x_new)\n",
    "print(y_pred)\n",
    "#np.array(class_names)[y_red]\n",
    "y_new = y_test[:10]\n",
    "y_new"
   ]
  },
  {
   "cell_type": "markdown",
   "metadata": {
    "id": "8IX41oT06lw-"
   },
   "source": [
    "**Ploting Accuracy and Loss** "
   ]
  },
  {
   "cell_type": "code",
   "execution_count": 34,
   "metadata": {
    "colab": {
     "base_uri": "https://localhost:8080/",
     "height": 324
    },
    "id": "4SoDkwqKN7PI",
    "outputId": "a3377fe7-fe17-4d10-f146-45a4ccf64cf9"
   },
   "outputs": [
    {
     "data": {
      "image/png": "[encoded data removed]",
      "text/plain": [
       "<Figure size 800x500 with 1 Axes>"
      ]
     },
     "metadata": {},
     "output_type": "display_data"
    }
   ],
   "source": [
    "import pandas as pd\n",
    "import matplotlib.pyplot as plt\n",
    "\n",
    "pd.DataFrame(history.history).plot(figsize=(8,5))\n",
    "plt.grid(True)\n",
    "plt.gca().set_ylim(0,1)\n",
    "plt.show()"
   ]
  },
  {
   "cell_type": "code",
   "execution_count": null,
   "metadata": {
    "id": "oDTheuvU8r-h"
   },
   "outputs": [],
   "source": []
  }
 ],
 "metadata": {
  "colab": {
   "name": "Demo - MNIST Digit Classification.ipynb",
   "provenance": []
  },
  "kernelspec": {
   "display_name": "Python 3 (ipykernel)",
   "language": "python",
   "name": "python3"
  },
  "language_info": {
   "codemirror_mode": {
    "name": "ipython",
    "version": 3
   },
   "file_extension": ".py",
   "mimetype": "text/x-python",
   "name": "python",
   "nbconvert_exporter": "python",
   "pygments_lexer": "ipython3",
   "version": "3.11.5"
  }
 },
 "nbformat": 4,
 "nbformat_minor": 1
}
