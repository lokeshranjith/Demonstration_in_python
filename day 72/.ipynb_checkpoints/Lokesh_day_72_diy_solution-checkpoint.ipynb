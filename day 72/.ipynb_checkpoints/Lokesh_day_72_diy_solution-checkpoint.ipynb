{
 "cells": [
  {
   "cell_type": "markdown",
   "metadata": {
    "id": "hSQtDqUTW8nC"
   },
   "source": [
    "**Q1. Problem Statement: Linear Programming using PuLP**\n",
    "\n",
    "Suppose you are a dietician and are responsible to advise one of your customers on the best possible food plan he should follow in order to attain the optimum nutrition.  However, there are some restrictions in terms of the budget and the variety of food that needs to be included in the diet plan. The cost should be minimal, at the same time, the nutritional value derived from the combination of different food items should be maximum, considering the maximum and minimum constraints given in the data. \n",
    "\n",
    "Load the 'deit.csv' dataset into a DataFrame and perform the following tasks:\n",
    "1.\tDownload and import PuLP and other required libraries\n",
    "2.\tFormulate the optimization problem using LpProblem() method\n",
    "3.\tGet a list of all the food items present in the DataFrame\n",
    "4.\tCreate a separate dictionary for each of these columns - 'Price/Serving', 'Calories', 'Cholesterol (mg)', 'Total_Fat (g)', 'Sodium (mg)', 'Carbohydrates (g)', 'Dietary_Fiber (g)', 'Protein (g)', 'Vit_A (IU)', 'Vit_C (IU)', 'Calcium (mg)', and 'Iron (mg)' using zip() function\n",
    "5.\tCreate a dictionary called 'food_vars' to store the referenced variables for food items with the 'food' list\n",
    "6.\tAdd an objective function (lpSum() ) to the LPP \n",
    "7.\tAdd the maximum and minimum constraints for each of the nutritional values present in the DataFrame\n",
    "8.\tRun the solver algorithm to solve the problem\n",
    "9.\tPrint the variables after the solution\n",
    "10.\tBased on the results, prepare an optimal diet plan\n"
   ]
  },
  {
   "cell_type": "markdown",
   "metadata": {
    "id": "Hayw5kTyVbOH"
   },
   "source": [
    "**Step-1:** Downloading and importing pulp and other required libraries."
   ]
  },
  {
   "cell_type": "code",
   "execution_count": null,
   "metadata": {
    "colab": {
     "base_uri": "https://localhost:8080/"
    },
    "id": "6UO0q0Vsm5mx",
    "outputId": "df9c82c3-886c-4653-df6b-84a1f3c8618e"
   },
   "outputs": [],
   "source": [
    "!pip install pulp"
   ]
  },
  {
   "cell_type": "code",
   "execution_count": 2,
   "metadata": {
    "id": "neqLSSJzVke_"
   },
   "outputs": [],
   "source": [
    "import pulp\n",
    "from pulp import *\n",
    "import pandas as pd\n",
    "import warnings\n",
    "warnings.filterwarnings('always')\n",
    "warnings.filterwarnings('ignore')"
   ]
  },
  {
   "cell_type": "markdown",
   "metadata": {
    "id": "QltnU4m-XA_v"
   },
   "source": [
    "**Step-2:** Formulating the optimization problem."
   ]
  },
  {
   "cell_type": "code",
   "execution_count": 3,
   "metadata": {
    "id": "idetXtjuWO00"
   },
   "outputs": [],
   "source": [
    "prob = LpProblem('Diet_Problem', LpMinimize)"
   ]
  },
  {
   "cell_type": "markdown",
   "metadata": {
    "id": "gVJZbc5hXLmx"
   },
   "source": [
    "**Step-3:** Loading the dataset into a DataFrame."
   ]
  },
  {
   "cell_type": "code",
   "execution_count": 4,
   "metadata": {
    "colab": {
     "base_uri": "https://localhost:8080/",
     "height": 354
    },
    "id": "pE3g2SAfXTVS",
    "outputId": "97a1dca7-c1d4-4ff6-bba3-75e57e697e34"
   },
   "outputs": [
    {
     "data": {
      "text/html": [
       "<div>\n",
       "<style scoped>\n",
       "    .dataframe tbody tr th:only-of-type {\n",
       "        vertical-align: middle;\n",
       "    }\n",
       "\n",
       "    .dataframe tbody tr th {\n",
       "        vertical-align: top;\n",
       "    }\n",
       "\n",
       "    .dataframe thead th {\n",
       "        text-align: right;\n",
       "    }\n",
       "</style>\n",
       "<table border=\"1\" class=\"dataframe\">\n",
       "  <thead>\n",
       "    <tr style=\"text-align: right;\">\n",
       "      <th></th>\n",
       "      <th>Foods</th>\n",
       "      <th>Serving Size</th>\n",
       "      <th>Calories</th>\n",
       "      <th>Cholesterol (mg)</th>\n",
       "      <th>Total_Fat (g)</th>\n",
       "      <th>Sodium (mg)</th>\n",
       "      <th>Carbohydrates (g)</th>\n",
       "      <th>Dietary_Fiber (g)</th>\n",
       "      <th>Protein (g)</th>\n",
       "      <th>Vit_A (IU)</th>\n",
       "      <th>Vit_C (IU)</th>\n",
       "      <th>Calcium (mg)</th>\n",
       "      <th>Iron (mg)</th>\n",
       "      <th>Price/Serving ($)</th>\n",
       "    </tr>\n",
       "  </thead>\n",
       "  <tbody>\n",
       "    <tr>\n",
       "      <th>0</th>\n",
       "      <td>Frozen Broccoli</td>\n",
       "      <td>10 Oz Pkg</td>\n",
       "      <td>73.8</td>\n",
       "      <td>0.0</td>\n",
       "      <td>0.8</td>\n",
       "      <td>68.2</td>\n",
       "      <td>13.6</td>\n",
       "      <td>8.5</td>\n",
       "      <td>8.0</td>\n",
       "      <td>5867.4</td>\n",
       "      <td>160.2</td>\n",
       "      <td>159.0</td>\n",
       "      <td>2.3</td>\n",
       "      <td>0.48</td>\n",
       "    </tr>\n",
       "    <tr>\n",
       "      <th>1</th>\n",
       "      <td>Frozen Corn</td>\n",
       "      <td>1/2 Cup</td>\n",
       "      <td>72.2</td>\n",
       "      <td>0.0</td>\n",
       "      <td>0.6</td>\n",
       "      <td>2.5</td>\n",
       "      <td>17.1</td>\n",
       "      <td>2.0</td>\n",
       "      <td>2.5</td>\n",
       "      <td>106.6</td>\n",
       "      <td>5.2</td>\n",
       "      <td>3.3</td>\n",
       "      <td>0.3</td>\n",
       "      <td>0.54</td>\n",
       "    </tr>\n",
       "    <tr>\n",
       "      <th>2</th>\n",
       "      <td>Raw Lettuce Iceberg</td>\n",
       "      <td>1 Leaf</td>\n",
       "      <td>2.6</td>\n",
       "      <td>0.0</td>\n",
       "      <td>0.0</td>\n",
       "      <td>1.8</td>\n",
       "      <td>0.4</td>\n",
       "      <td>0.3</td>\n",
       "      <td>0.2</td>\n",
       "      <td>66.0</td>\n",
       "      <td>0.8</td>\n",
       "      <td>3.8</td>\n",
       "      <td>0.1</td>\n",
       "      <td>0.06</td>\n",
       "    </tr>\n",
       "    <tr>\n",
       "      <th>3</th>\n",
       "      <td>Baked Potatoes</td>\n",
       "      <td>1/2 Cup</td>\n",
       "      <td>171.5</td>\n",
       "      <td>0.0</td>\n",
       "      <td>0.2</td>\n",
       "      <td>15.2</td>\n",
       "      <td>39.9</td>\n",
       "      <td>3.2</td>\n",
       "      <td>3.7</td>\n",
       "      <td>0.0</td>\n",
       "      <td>15.6</td>\n",
       "      <td>22.7</td>\n",
       "      <td>4.3</td>\n",
       "      <td>0.18</td>\n",
       "    </tr>\n",
       "    <tr>\n",
       "      <th>4</th>\n",
       "      <td>Tofu</td>\n",
       "      <td>1/4 block</td>\n",
       "      <td>88.2</td>\n",
       "      <td>0.0</td>\n",
       "      <td>5.5</td>\n",
       "      <td>8.1</td>\n",
       "      <td>2.2</td>\n",
       "      <td>1.4</td>\n",
       "      <td>9.4</td>\n",
       "      <td>98.6</td>\n",
       "      <td>0.1</td>\n",
       "      <td>121.8</td>\n",
       "      <td>6.2</td>\n",
       "      <td>0.93</td>\n",
       "    </tr>\n",
       "  </tbody>\n",
       "</table>\n",
       "</div>"
      ],
      "text/plain": [
       "                 Foods Serving Size  Calories  Cholesterol (mg)  \\\n",
       "0      Frozen Broccoli    10 Oz Pkg      73.8               0.0   \n",
       "1          Frozen Corn      1/2 Cup      72.2               0.0   \n",
       "2  Raw Lettuce Iceberg       1 Leaf       2.6               0.0   \n",
       "3       Baked Potatoes      1/2 Cup     171.5               0.0   \n",
       "4                 Tofu    1/4 block      88.2               0.0   \n",
       "\n",
       "   Total_Fat (g)  Sodium (mg)  Carbohydrates (g)  Dietary_Fiber (g)  \\\n",
       "0            0.8         68.2               13.6                8.5   \n",
       "1            0.6          2.5               17.1                2.0   \n",
       "2            0.0          1.8                0.4                0.3   \n",
       "3            0.2         15.2               39.9                3.2   \n",
       "4            5.5          8.1                2.2                1.4   \n",
       "\n",
       "   Protein (g)  Vit_A (IU)  Vit_C (IU)  Calcium (mg)  Iron (mg)  \\\n",
       "0          8.0      5867.4       160.2         159.0        2.3   \n",
       "1          2.5       106.6         5.2           3.3        0.3   \n",
       "2          0.2        66.0         0.8           3.8        0.1   \n",
       "3          3.7         0.0        15.6          22.7        4.3   \n",
       "4          9.4        98.6         0.1         121.8        6.2   \n",
       "\n",
       "   Price/Serving ($)  \n",
       "0               0.48  \n",
       "1               0.54  \n",
       "2               0.06  \n",
       "3               0.18  \n",
       "4               0.93  "
      ]
     },
     "execution_count": 4,
     "metadata": {},
     "output_type": "execute_result"
    }
   ],
   "source": [
    "df=pd.read_csv('diet.csv')\n",
    "df.head()"
   ]
  },
  {
   "cell_type": "code",
   "execution_count": 5,
   "metadata": {
    "colab": {
     "base_uri": "https://localhost:8080/"
    },
    "id": "BhfFdZedjXDr",
    "outputId": "aec16f38-1b71-40cd-e79e-42b8c28a5a59"
   },
   "outputs": [
    {
     "name": "stdout",
     "output_type": "stream",
     "text": [
      "<class 'pandas.core.frame.DataFrame'>\n",
      "RangeIndex: 17 entries, 0 to 16\n",
      "Data columns (total 14 columns):\n",
      " #   Column             Non-Null Count  Dtype  \n",
      "---  ------             --------------  -----  \n",
      " 0   Foods              17 non-null     object \n",
      " 1   Serving Size       17 non-null     object \n",
      " 2   Calories           17 non-null     float64\n",
      " 3   Cholesterol (mg)   17 non-null     float64\n",
      " 4   Total_Fat (g)      17 non-null     float64\n",
      " 5   Sodium (mg)        17 non-null     float64\n",
      " 6   Carbohydrates (g)  17 non-null     float64\n",
      " 7   Dietary_Fiber (g)  17 non-null     float64\n",
      " 8   Protein (g)        17 non-null     float64\n",
      " 9   Vit_A (IU)         17 non-null     float64\n",
      " 10  Vit_C (IU)         17 non-null     float64\n",
      " 11  Calcium (mg)       17 non-null     float64\n",
      " 12  Iron (mg)          17 non-null     float64\n",
      " 13  Price/Serving ($)  17 non-null     float64\n",
      "dtypes: float64(12), object(2)\n",
      "memory usage: 2.0+ KB\n"
     ]
    }
   ],
   "source": [
    "df.info()"
   ]
  },
  {
   "cell_type": "markdown",
   "metadata": {
    "id": "-Xc3UGIMYEth"
   },
   "source": [
    "**Step-4:** Gettting the list of all the food items present in the DataFrame."
   ]
  },
  {
   "cell_type": "code",
   "execution_count": 6,
   "metadata": {
    "colab": {
     "base_uri": "https://localhost:8080/",
     "height": 600
    },
    "id": "cvEy9fnIX9XJ",
    "outputId": "cd9a01df-87e1-420f-e030-331691c82ce9"
   },
   "outputs": [
    {
     "name": "stdout",
     "output_type": "stream",
     "text": [
      "List of different food items is here follows: -\n"
     ]
    },
    {
     "data": {
      "text/html": [
       "<div>\n",
       "<style scoped>\n",
       "    .dataframe tbody tr th:only-of-type {\n",
       "        vertical-align: middle;\n",
       "    }\n",
       "\n",
       "    .dataframe tbody tr th {\n",
       "        vertical-align: top;\n",
       "    }\n",
       "\n",
       "    .dataframe thead th {\n",
       "        text-align: right;\n",
       "    }\n",
       "</style>\n",
       "<table border=\"1\" class=\"dataframe\">\n",
       "  <thead>\n",
       "    <tr style=\"text-align: right;\">\n",
       "      <th></th>\n",
       "      <th>S.No</th>\n",
       "      <th>Food Items</th>\n",
       "    </tr>\n",
       "  </thead>\n",
       "  <tbody>\n",
       "    <tr>\n",
       "      <th>0</th>\n",
       "      <td>1</td>\n",
       "      <td>Frozen Broccoli</td>\n",
       "    </tr>\n",
       "    <tr>\n",
       "      <th>1</th>\n",
       "      <td>2</td>\n",
       "      <td>Frozen Corn</td>\n",
       "    </tr>\n",
       "    <tr>\n",
       "      <th>2</th>\n",
       "      <td>3</td>\n",
       "      <td>Raw Lettuce Iceberg</td>\n",
       "    </tr>\n",
       "    <tr>\n",
       "      <th>3</th>\n",
       "      <td>4</td>\n",
       "      <td>Baked Potatoes</td>\n",
       "    </tr>\n",
       "    <tr>\n",
       "      <th>4</th>\n",
       "      <td>5</td>\n",
       "      <td>Tofu</td>\n",
       "    </tr>\n",
       "    <tr>\n",
       "      <th>5</th>\n",
       "      <td>6</td>\n",
       "      <td>Roasted Chicken</td>\n",
       "    </tr>\n",
       "    <tr>\n",
       "      <th>6</th>\n",
       "      <td>7</td>\n",
       "      <td>Spaghetti W/ Sauce</td>\n",
       "    </tr>\n",
       "    <tr>\n",
       "      <th>7</th>\n",
       "      <td>8</td>\n",
       "      <td>Raw Apple</td>\n",
       "    </tr>\n",
       "    <tr>\n",
       "      <th>8</th>\n",
       "      <td>9</td>\n",
       "      <td>Banana</td>\n",
       "    </tr>\n",
       "    <tr>\n",
       "      <th>9</th>\n",
       "      <td>10</td>\n",
       "      <td>Wheat Bread</td>\n",
       "    </tr>\n",
       "    <tr>\n",
       "      <th>10</th>\n",
       "      <td>11</td>\n",
       "      <td>White Bread</td>\n",
       "    </tr>\n",
       "    <tr>\n",
       "      <th>11</th>\n",
       "      <td>12</td>\n",
       "      <td>Oatmeal Cookies</td>\n",
       "    </tr>\n",
       "    <tr>\n",
       "      <th>12</th>\n",
       "      <td>13</td>\n",
       "      <td>Apple Pie</td>\n",
       "    </tr>\n",
       "    <tr>\n",
       "      <th>13</th>\n",
       "      <td>14</td>\n",
       "      <td>Scrambled Eggs</td>\n",
       "    </tr>\n",
       "    <tr>\n",
       "      <th>14</th>\n",
       "      <td>15</td>\n",
       "      <td>Turkey Bologna</td>\n",
       "    </tr>\n",
       "    <tr>\n",
       "      <th>15</th>\n",
       "      <td>16</td>\n",
       "      <td>Beef Frankfurter</td>\n",
       "    </tr>\n",
       "    <tr>\n",
       "      <th>16</th>\n",
       "      <td>17</td>\n",
       "      <td>Chocolate Chip Cookies</td>\n",
       "    </tr>\n",
       "  </tbody>\n",
       "</table>\n",
       "</div>"
      ],
      "text/plain": [
       "    S.No              Food Items\n",
       "0      1         Frozen Broccoli\n",
       "1      2             Frozen Corn\n",
       "2      3     Raw Lettuce Iceberg\n",
       "3      4          Baked Potatoes\n",
       "4      5                    Tofu\n",
       "5      6         Roasted Chicken\n",
       "6      7      Spaghetti W/ Sauce\n",
       "7      8               Raw Apple\n",
       "8      9                  Banana\n",
       "9     10             Wheat Bread\n",
       "10    11             White Bread\n",
       "11    12         Oatmeal Cookies\n",
       "12    13               Apple Pie\n",
       "13    14          Scrambled Eggs\n",
       "14    15          Turkey Bologna\n",
       "15    16        Beef Frankfurter\n",
       "16    17  Chocolate Chip Cookies"
      ]
     },
     "execution_count": 6,
     "metadata": {},
     "output_type": "execute_result"
    }
   ],
   "source": [
    "#List of food items\n",
    "food = list(df.Foods)\n",
    "\n",
    "#The list of items\n",
    "count=pd.Series(range(1,len(food)+1))\n",
    "print('List of different food items is here follows: -')\n",
    "food_s = pd.Series(food)\n",
    "\n",
    "#Convert to data frame\n",
    "f_frame = pd.concat([count,food_s],axis=1,keys=['S.No','Food Items'])\n",
    "f_frame"
   ]
  },
  {
   "cell_type": "markdown",
   "metadata": {
    "id": "uINBGfxHYVW5"
   },
   "source": [
    "**Step-5:** Create a separate dictionary for each of these columns - 'Price/Serving', 'Calories', 'Cholesterol (mg)', 'Total_Fat (g)', 'Sodium (mg)', 'Carbohydrates (g)', 'Dietary_Fiber (g)', 'Protein (g)', 'Vit_A (IU)', 'Vit_C (IU)', 'Calcium (mg)', and 'Iron (mg)' using zip() function."
   ]
  },
  {
   "cell_type": "code",
   "execution_count": 7,
   "metadata": {},
   "outputs": [
    {
     "data": {
      "text/plain": [
       "Index(['Foods', 'Serving Size', 'Calories', 'Cholesterol (mg)',\n",
       "       'Total_Fat (g)', 'Sodium (mg)', 'Carbohydrates (g)',\n",
       "       'Dietary_Fiber (g)', 'Protein (g)', 'Vit_A (IU)', 'Vit_C (IU)',\n",
       "       'Calcium (mg)', 'Iron (mg)', 'Price/Serving ($)'],\n",
       "      dtype='object')"
      ]
     },
     "execution_count": 7,
     "metadata": {},
     "output_type": "execute_result"
    }
   ],
   "source": [
    "df.columns"
   ]
  },
  {
   "cell_type": "code",
   "execution_count": 8,
   "metadata": {
    "id": "85pnToIbYR2n",
    "scrolled": true
   },
   "outputs": [],
   "source": [
    "# Create a dictinary of costs for all food items\n",
    "costs = dict(zip(food,df['Serving Size']))\n",
    "\n",
    "#Create a dictionary of calories for all items of food\n",
    "calories = dict(zip(food,df['Calories']))\n",
    "\n",
    "#Create a dictionary of cholesterol for all items of food\n",
    "chol = dict(zip(food,df['Cholesterol (mg)']))\n",
    "\n",
    "#Create a dictionary of total fat for all items of food\n",
    "fat = dict(zip(food,df['Total_Fat (g)']))\n",
    "\n",
    "#Create a dictionary of sodium for all items of food\n",
    "sodium = dict(zip(food,df['Sodium (mg)']))\n",
    "\n",
    "#Create a dictionary of carbohydrates for all items of food\n",
    "carbs = dict(zip(food,df['Carbohydrates (g)']))\n",
    "\n",
    "#Create a dictionary of dietary fiber for all items of food\n",
    "fiber = dict(zip(food,df['Dietary_Fiber (g)']))\n",
    "\n",
    "#Create a dictionary of protein for all food items\n",
    "protein = dict(zip(food,df['Protein (g)']))\n",
    "\n",
    "#Create a dictionary of vitamin A for all food items\n",
    "vit_A = dict(zip(food,df['Vit_A (IU)']))\n",
    "\n",
    "#Create a dictionary of vitamin C for all food items\n",
    "vit_C = dict(zip(food,df['Vit_C (IU)']))\n",
    "\n",
    "#Create a dictionary of calcium for all food items\n",
    "calcium = dict(zip(food,df['Calcium (mg)']))\n",
    "\n",
    "#Create a dictionary of iron for all food items\n",
    "iron = dict(zip(food,df['Iron (mg)']))"
   ]
  },
  {
   "cell_type": "markdown",
   "metadata": {
    "id": "GczbwVT2Zsxa"
   },
   "source": [
    "**Step-6:** Running one of the dictionaries to see how these look like."
   ]
  },
  {
   "cell_type": "code",
   "execution_count": 9,
   "metadata": {
    "colab": {
     "base_uri": "https://localhost:8080/"
    },
    "id": "rXdKFqGDZql7",
    "outputId": "5232a07f-c6cb-4656-fd52-e3ef7e0d7800"
   },
   "outputs": [
    {
     "data": {
      "text/plain": [
       "{'Frozen Broccoli': 2.3,\n",
       " 'Frozen Corn': 0.3,\n",
       " 'Raw Lettuce Iceberg': 0.1,\n",
       " ' Baked Potatoes': 4.3,\n",
       " 'Tofu': 6.2,\n",
       " 'Roasted Chicken': 1.8,\n",
       " 'Spaghetti W/ Sauce': 2.3,\n",
       " 'Raw Apple': 0.2,\n",
       " 'Banana': 0.4,\n",
       " 'Wheat Bread': 0.7,\n",
       " 'White Bread': 0.8,\n",
       " 'Oatmeal Cookies': 0.5,\n",
       " 'Apple Pie': 0.1,\n",
       " 'Scrambled Eggs': 0.7,\n",
       " 'Turkey Bologna': 0.4,\n",
       " 'Beef Frankfurter': 0.6,\n",
       " 'Chocolate Chip Cookies': 0.4}"
      ]
     },
     "execution_count": 9,
     "metadata": {},
     "output_type": "execute_result"
    }
   ],
   "source": [
    "#We just run one of the dictionaries to see how these look like\n",
    "iron"
   ]
  },
  {
   "cell_type": "markdown",
   "metadata": {
    "id": "e5LniViUaI7g"
   },
   "source": [
    "**Step-7:**  Creating a dictionary called 'food_vars' to store the referenced variables for food items with the 'food' list."
   ]
  },
  {
   "cell_type": "code",
   "execution_count": 11,
   "metadata": {
    "id": "ahG4DTfAaF1T"
   },
   "outputs": [],
   "source": [
    "# A dictionary called 'food_vars' is created to contain the referenced Variables\n",
    "food_vars = LpVariable.dicts(\"Food\",food,lowBound=0,cat='Continuous')"
   ]
  },
  {
   "cell_type": "code",
   "execution_count": 12,
   "metadata": {
    "colab": {
     "base_uri": "https://localhost:8080/"
    },
    "id": "XMLoH0MZaVNn",
    "outputId": "d6d1f86a-77ec-45e4-eaa3-3841235806a2"
   },
   "outputs": [
    {
     "data": {
      "text/plain": [
       "{'Frozen Broccoli': Food_Frozen_Broccoli,\n",
       " 'Frozen Corn': Food_Frozen_Corn,\n",
       " 'Raw Lettuce Iceberg': Food_Raw_Lettuce_Iceberg,\n",
       " ' Baked Potatoes': Food__Baked_Potatoes,\n",
       " 'Tofu': Food_Tofu,\n",
       " 'Roasted Chicken': Food_Roasted_Chicken,\n",
       " 'Spaghetti W/ Sauce': Food_Spaghetti_W__Sauce,\n",
       " 'Raw Apple': Food_Raw_Apple,\n",
       " 'Banana': Food_Banana,\n",
       " 'Wheat Bread': Food_Wheat_Bread,\n",
       " 'White Bread': Food_White_Bread,\n",
       " 'Oatmeal Cookies': Food_Oatmeal_Cookies,\n",
       " 'Apple Pie': Food_Apple_Pie,\n",
       " 'Scrambled Eggs': Food_Scrambled_Eggs,\n",
       " 'Turkey Bologna': Food_Turkey_Bologna,\n",
       " 'Beef Frankfurter': Food_Beef_Frankfurter,\n",
       " 'Chocolate Chip Cookies': Food_Chocolate_Chip_Cookies}"
      ]
     },
     "execution_count": 12,
     "metadata": {},
     "output_type": "execute_result"
    }
   ],
   "source": [
    "food_vars"
   ]
  },
  {
   "cell_type": "markdown",
   "metadata": {
    "id": "Xa4AL4EJae2l"
   },
   "source": [
    "**Step-8:** Addition of Objective fucntion to the LPP Minimization problem that we've already defined. Let's use of the lpSum() method.\n"
   ]
  },
  {
   "cell_type": "markdown",
   "metadata": {
    "id": "oKetmmqubENu"
   },
   "source": [
    "**Step-9:** Adding the maximum and minumum constraints for each of the nutritional values."
   ]
  },
  {
   "cell_type": "code",
   "execution_count": 15,
   "metadata": {
    "colab": {
     "base_uri": "https://localhost:8080/"
    },
    "id": "7LvVdzGzbHAt",
    "outputId": "db4d2fae-8c77-43e5-e97f-e57901fc90a3"
   },
   "outputs": [
    {
     "data": {
      "text/plain": [
       "67.2*Food_Apple_Pie + 104.9*Food_Banana + 141.8*Food_Beef_Frankfurter + 78.1*Food_Chocolate_Chip_Cookies + 73.8*Food_Frozen_Broccoli + 72.2*Food_Frozen_Corn + 81.0*Food_Oatmeal_Cookies + 81.4*Food_Raw_Apple + 2.6*Food_Raw_Lettuce_Iceberg + 277.4*Food_Roasted_Chicken + 99.6*Food_Scrambled_Eggs + 358.2*Food_Spaghetti_W__Sauce + 88.2*Food_Tofu + 56.4*Food_Turkey_Bologna + 65.0*Food_Wheat_Bread + 65.0*Food_White_Bread + 171.5*Food__Baked_Potatoes + 0.0"
      ]
     },
     "execution_count": 15,
     "metadata": {},
     "output_type": "execute_result"
    }
   ],
   "source": [
    "lpSum([food_vars[i]*calories[i] for i in food])"
   ]
  },
  {
   "cell_type": "code",
   "execution_count": 16,
   "metadata": {
    "colab": {
     "base_uri": "https://localhost:8080/",
     "height": 582
    },
    "id": "2SkYX1nUbKZb",
    "outputId": "e731aa53-56df-45ac-bffe-c61b797c5328"
   },
   "outputs": [
    {
     "data": {
      "text/html": [
       "<div>\n",
       "<style scoped>\n",
       "    .dataframe tbody tr th:only-of-type {\n",
       "        vertical-align: middle;\n",
       "    }\n",
       "\n",
       "    .dataframe tbody tr th {\n",
       "        vertical-align: top;\n",
       "    }\n",
       "\n",
       "    .dataframe thead th {\n",
       "        text-align: right;\n",
       "    }\n",
       "</style>\n",
       "<table border=\"1\" class=\"dataframe\">\n",
       "  <thead>\n",
       "    <tr style=\"text-align: right;\">\n",
       "      <th></th>\n",
       "      <th>Foods</th>\n",
       "      <th>Calories</th>\n",
       "    </tr>\n",
       "  </thead>\n",
       "  <tbody>\n",
       "    <tr>\n",
       "      <th>0</th>\n",
       "      <td>Frozen Broccoli</td>\n",
       "      <td>73.8</td>\n",
       "    </tr>\n",
       "    <tr>\n",
       "      <th>1</th>\n",
       "      <td>Frozen Corn</td>\n",
       "      <td>72.2</td>\n",
       "    </tr>\n",
       "    <tr>\n",
       "      <th>2</th>\n",
       "      <td>Raw Lettuce Iceberg</td>\n",
       "      <td>2.6</td>\n",
       "    </tr>\n",
       "    <tr>\n",
       "      <th>3</th>\n",
       "      <td>Baked Potatoes</td>\n",
       "      <td>171.5</td>\n",
       "    </tr>\n",
       "    <tr>\n",
       "      <th>4</th>\n",
       "      <td>Tofu</td>\n",
       "      <td>88.2</td>\n",
       "    </tr>\n",
       "    <tr>\n",
       "      <th>5</th>\n",
       "      <td>Roasted Chicken</td>\n",
       "      <td>277.4</td>\n",
       "    </tr>\n",
       "    <tr>\n",
       "      <th>6</th>\n",
       "      <td>Spaghetti W/ Sauce</td>\n",
       "      <td>358.2</td>\n",
       "    </tr>\n",
       "    <tr>\n",
       "      <th>7</th>\n",
       "      <td>Raw Apple</td>\n",
       "      <td>81.4</td>\n",
       "    </tr>\n",
       "    <tr>\n",
       "      <th>8</th>\n",
       "      <td>Banana</td>\n",
       "      <td>104.9</td>\n",
       "    </tr>\n",
       "    <tr>\n",
       "      <th>9</th>\n",
       "      <td>Wheat Bread</td>\n",
       "      <td>65.0</td>\n",
       "    </tr>\n",
       "    <tr>\n",
       "      <th>10</th>\n",
       "      <td>White Bread</td>\n",
       "      <td>65.0</td>\n",
       "    </tr>\n",
       "    <tr>\n",
       "      <th>11</th>\n",
       "      <td>Oatmeal Cookies</td>\n",
       "      <td>81.0</td>\n",
       "    </tr>\n",
       "    <tr>\n",
       "      <th>12</th>\n",
       "      <td>Apple Pie</td>\n",
       "      <td>67.2</td>\n",
       "    </tr>\n",
       "    <tr>\n",
       "      <th>13</th>\n",
       "      <td>Scrambled Eggs</td>\n",
       "      <td>99.6</td>\n",
       "    </tr>\n",
       "    <tr>\n",
       "      <th>14</th>\n",
       "      <td>Turkey Bologna</td>\n",
       "      <td>56.4</td>\n",
       "    </tr>\n",
       "    <tr>\n",
       "      <th>15</th>\n",
       "      <td>Beef Frankfurter</td>\n",
       "      <td>141.8</td>\n",
       "    </tr>\n",
       "    <tr>\n",
       "      <th>16</th>\n",
       "      <td>Chocolate Chip Cookies</td>\n",
       "      <td>78.1</td>\n",
       "    </tr>\n",
       "  </tbody>\n",
       "</table>\n",
       "</div>"
      ],
      "text/plain": [
       "                     Foods  Calories\n",
       "0          Frozen Broccoli      73.8\n",
       "1              Frozen Corn      72.2\n",
       "2      Raw Lettuce Iceberg       2.6\n",
       "3           Baked Potatoes     171.5\n",
       "4                     Tofu      88.2\n",
       "5          Roasted Chicken     277.4\n",
       "6       Spaghetti W/ Sauce     358.2\n",
       "7                Raw Apple      81.4\n",
       "8                   Banana     104.9\n",
       "9              Wheat Bread      65.0\n",
       "10             White Bread      65.0\n",
       "11         Oatmeal Cookies      81.0\n",
       "12               Apple Pie      67.2\n",
       "13          Scrambled Eggs      99.6\n",
       "14          Turkey Bologna      56.4\n",
       "15        Beef Frankfurter     141.8\n",
       "16  Chocolate Chip Cookies      78.1"
      ]
     },
     "execution_count": 16,
     "metadata": {},
     "output_type": "execute_result"
    }
   ],
   "source": [
    "df[['Foods','Calories']]"
   ]
  },
  {
   "cell_type": "code",
   "execution_count": 17,
   "metadata": {
    "colab": {
     "base_uri": "https://localhost:8080/"
    },
    "id": "7JA7wbqOuT9Q",
    "outputId": "7845ac49-0324-45fd-bfa7-d8a64b2f9ad1"
   },
   "outputs": [
    {
     "data": {
      "text/plain": [
       "Diet_Problem:\n",
       "MINIMIZE\n",
       "None\n",
       "SUBJECT TO\n",
       "CaloriesMinimum: 67.2 Food_Apple_Pie + 104.9 Food_Banana\n",
       " + 141.8 Food_Beef_Frankfurter + 78.1 Food_Chocolate_Chip_Cookies\n",
       " + 73.8 Food_Frozen_Broccoli + 72.2 Food_Frozen_Corn + 81 Food_Oatmeal_Cookies\n",
       " + 81.4 Food_Raw_Apple + 2.6 Food_Raw_Lettuce_Iceberg\n",
       " + 277.4 Food_Roasted_Chicken + 99.6 Food_Scrambled_Eggs\n",
       " + 358.2 Food_Spaghetti_W__Sauce + 88.2 Food_Tofu + 56.4 Food_Turkey_Bologna\n",
       " + 65 Food_Wheat_Bread + 65 Food_White_Bread + 171.5 Food__Baked_Potatoes\n",
       " >= 800\n",
       "\n",
       "CaloriesMaximum: 67.2 Food_Apple_Pie + 104.9 Food_Banana\n",
       " + 141.8 Food_Beef_Frankfurter + 78.1 Food_Chocolate_Chip_Cookies\n",
       " + 73.8 Food_Frozen_Broccoli + 72.2 Food_Frozen_Corn + 81 Food_Oatmeal_Cookies\n",
       " + 81.4 Food_Raw_Apple + 2.6 Food_Raw_Lettuce_Iceberg\n",
       " + 277.4 Food_Roasted_Chicken + 99.6 Food_Scrambled_Eggs\n",
       " + 358.2 Food_Spaghetti_W__Sauce + 88.2 Food_Tofu + 56.4 Food_Turkey_Bologna\n",
       " + 65 Food_Wheat_Bread + 65 Food_White_Bread + 171.5 Food__Baked_Potatoes\n",
       " <= 1300\n",
       "\n",
       "VARIABLES\n",
       "Food_Apple_Pie Continuous\n",
       "Food_Banana Continuous\n",
       "Food_Beef_Frankfurter Continuous\n",
       "Food_Chocolate_Chip_Cookies Continuous\n",
       "Food_Frozen_Broccoli Continuous\n",
       "Food_Frozen_Corn Continuous\n",
       "Food_Oatmeal_Cookies Continuous\n",
       "Food_Raw_Apple Continuous\n",
       "Food_Raw_Lettuce_Iceberg Continuous\n",
       "Food_Roasted_Chicken Continuous\n",
       "Food_Scrambled_Eggs Continuous\n",
       "Food_Spaghetti_W__Sauce Continuous\n",
       "Food_Tofu Continuous\n",
       "Food_Turkey_Bologna Continuous\n",
       "Food_Wheat_Bread Continuous\n",
       "Food_White_Bread Continuous\n",
       "Food__Baked_Potatoes Continuous"
      ]
     },
     "execution_count": 17,
     "metadata": {},
     "output_type": "execute_result"
    }
   ],
   "source": [
    "prob += lpSum([food_vars[x]*calories[x] for x in food]) >= 800, \"CaloriesMinimum\"\n",
    "prob += lpSum([food_vars[x]*calories[x] for x in food]) <= 1300, \"CaloriesMaximum\"\n",
    "prob"
   ]
  },
  {
   "cell_type": "code",
   "execution_count": 18,
   "metadata": {
    "id": "tajcsTtnud30"
   },
   "outputs": [],
   "source": [
    "#Carbohydrates' constraint\n",
    "prob += lpSum([food_vars[x]*carbs[x] for x in food]) >= 130, \"CarbsMinimum\"\n",
    "prob += lpSum([food_vars[x]*carbs[x] for x in food]) <= 200, \"CarbsMaximum\"\n",
    "\n",
    "#Fat's constraint\n",
    "prob += lpSum([food_vars[x]*fat[x] for x in food]) >= 20, \"FatsMinimum\"\n",
    "prob += lpSum([food_vars[x]*fat[x] for x in food]) <= 50, \"FatsMaximum\"\n",
    "\n",
    "#Protein's constraint\n",
    "prob += lpSum([food_vars[x]*protein[x] for x in food]) >= 100, \"ProteinsMinimum\"\n",
    "prob += lpSum([food_vars[x]*protein[x] for x in food]) <= 150, \"ProteinsMaximum\"\n",
    "\n",
    "#Vit_A constraint\n",
    "prob += lpSum([food_vars[x]*vit_A[x] for x in food]) >= 1000, \"Vit_A_Minimum\"\n",
    "prob += lpSum([food_vars[x]*vit_A[x] for x in food]) <= 10000, \"Vit_A_Maximum\""
   ]
  },
  {
   "cell_type": "markdown",
   "metadata": {
    "id": "eAKNu_T9uh_W"
   },
   "source": [
    "**Step-10:** Running the Solver Algorithm."
   ]
  },
  {
   "cell_type": "code",
   "execution_count": 19,
   "metadata": {
    "colab": {
     "base_uri": "https://localhost:8080/"
    },
    "id": "cAbpOoFmukPg",
    "outputId": "c6ec304b-82df-4407-f63e-3ecbb74ba488"
   },
   "outputs": [
    {
     "data": {
      "text/plain": [
       "1"
      ]
     },
     "execution_count": 19,
     "metadata": {},
     "output_type": "execute_result"
    }
   ],
   "source": [
    "prob.solve()"
   ]
  },
  {
   "cell_type": "code",
   "execution_count": null,
   "metadata": {
    "colab": {
     "base_uri": "https://localhost:8080/"
    },
    "id": "uU9I-iRrul5m",
    "outputId": "bb5c30ff-8d9d-48a9-963d-1f3123cb816b"
   },
   "outputs": [],
   "source": [
    "prob.solver"
   ]
  },
  {
   "cell_type": "code",
   "execution_count": 20,
   "metadata": {
    "colab": {
     "base_uri": "https://localhost:8080/",
     "height": 35
    },
    "id": "5gxv9GExunt7",
    "outputId": "96e1b1bf-7425-4214-b590-effd66596326"
   },
   "outputs": [
    {
     "data": {
      "text/plain": [
       "'Optimal'"
      ]
     },
     "execution_count": 20,
     "metadata": {},
     "output_type": "execute_result"
    }
   ],
   "source": [
    "LpStatus[prob.status]"
   ]
  },
  {
   "cell_type": "markdown",
   "metadata": {
    "id": "z56NoaBJuqYl"
   },
   "source": [
    "**Step-11:** Printing of the variables after solvingthe problem."
   ]
  },
  {
   "cell_type": "code",
   "execution_count": 22,
   "metadata": {
    "colab": {
     "base_uri": "https://localhost:8080/"
    },
    "id": "L6gA-av2urHf",
    "outputId": "cd9b1d46-4bec-4067-874a-58badcdd2039"
   },
   "outputs": [
    {
     "name": "stdout",
     "output_type": "stream",
     "text": [
      "Variable name: Food_Apple_Pie , Variable value : 0.0\n",
      "\n",
      "Variable name: Food_Banana , Variable value : 0.0\n",
      "\n",
      "Variable name: Food_Beef_Frankfurter , Variable value : 0.0\n",
      "\n",
      "Variable name: Food_Chocolate_Chip_Cookies , Variable value : 0.0\n",
      "\n",
      "Variable name: Food_Frozen_Broccoli , Variable value : 0.0\n",
      "\n",
      "Variable name: Food_Frozen_Corn , Variable value : 0.0\n",
      "\n",
      "Variable name: Food_Oatmeal_Cookies , Variable value : 6.1071468\n",
      "\n",
      "Variable name: Food_Raw_Apple , Variable value : 0.0\n",
      "\n",
      "Variable name: Food_Raw_Lettuce_Iceberg , Variable value : 149.48535\n",
      "\n",
      "Variable name: Food_Roasted_Chicken , Variable value : 1.5020158\n",
      "\n",
      "Variable name: Food_Scrambled_Eggs , Variable value : 0.0\n",
      "\n",
      "Variable name: Food_Spaghetti_W__Sauce , Variable value : 0.0\n",
      "\n",
      "Variable name: Food_Tofu , Variable value : 0.0\n",
      "\n",
      "Variable name: Food_Turkey_Bologna , Variable value : 0.0\n",
      "\n",
      "Variable name: Food_Wheat_Bread , Variable value : 0.0\n",
      "\n",
      "Variable name: Food_White_Bread , Variable value : 0.0\n",
      "\n",
      "Variable name: Food__Baked_Potatoes , Variable value : 0.0\n",
      "\n",
      "Variable name: __dummy , Variable value : None\n",
      "\n",
      "\n",
      "\n",
      "****************************************************************************************************\n",
      "\n",
      "\n"
     ]
    }
   ],
   "source": [
    "# prob.variables()[1].varValue()\n",
    "\n",
    "for var in prob.variables():\n",
    "    print(f'Variable name: {var.name} , Variable value : {var.value()}\\n')\n",
    "\n",
    "print('\\n')\n",
    "print('*'*100)\n",
    "print('\\n')\n",
    "\n"
   ]
  },
  {
   "cell_type": "markdown",
   "metadata": {
    "id": "wOmyfOg6u0Pf"
   },
   "source": [
    "**Result:** The optimal value of the Diet is $5.58. Which includes the following food items: \n",
    "\n",
    "--> 2.64 servings of baked potatoes\n",
    "\n",
    "--> 4.02 servings of scrambled eggs\n",
    "\n",
    "--> 1.23 servings of Roasted chicken\n",
    "\n",
    "--> 1.41 servings of Frozen broccoli\n",
    "\n"
   ]
  },
  {
   "cell_type": "code",
   "execution_count": null,
   "metadata": {},
   "outputs": [],
   "source": []
  }
 ],
 "metadata": {
  "colab": {
   "collapsed_sections": [],
   "name": "DS_D69_DIY_Solution_V1.0.ipynb",
   "provenance": []
  },
  "kernelspec": {
   "display_name": "Python 3 (ipykernel)",
   "language": "python",
   "name": "python3"
  },
  "language_info": {
   "codemirror_mode": {
    "name": "ipython",
    "version": 3
   },
   "file_extension": ".py",
   "mimetype": "text/x-python",
   "name": "python",
   "nbconvert_exporter": "python",
   "pygments_lexer": "ipython3",
   "version": "3.11.5"
  }
 },
 "nbformat": 4,
 "nbformat_minor": 1
}
