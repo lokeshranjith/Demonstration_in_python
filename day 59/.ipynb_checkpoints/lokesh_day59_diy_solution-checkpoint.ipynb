{
 "cells": [
  {
   "cell_type": "markdown",
   "id": "58c7c48a",
   "metadata": {},
   "source": [
    "### Q1. What is Stationary Time Series?\n",
    "\n",
    "A stationary time series is one whose statistical properties, such as mean, variance, and autocorrelation, do not change over time. In other words, the data's behavior remains constant across different time periods, with no systematic changes or trends.\n"
   ]
  },
  {
   "cell_type": "markdown",
   "id": "77033e67",
   "metadata": {},
   "source": [
    "### Q2. What is a White Noise Time Series? Why does it matter?\n",
    "\n",
    "A white noise time series is a random process where each data point is independent and identically distributed (i.i.d.), with zero mean and constant variance. It is characterized by randomness and unpredictability, with no discernible pattern or structure. White noise is important in time series analysis as it serves as a baseline for comparison with other time series data and helps identify patterns, trends, or anomalies in the data.\n"
   ]
  },
  {
   "cell_type": "markdown",
   "id": "127617d1",
   "metadata": {},
   "source": [
    "### Q3. What is Seasonality?\n",
    "\n",
    "Seasonality refers to the repetitive and predictable patterns or fluctuations in a time series that occur at regular intervals within a specific period, such as daily, weekly, monthly, or yearly. These patterns are often influenced by seasonal factors, such as weather, holidays, or cultural events, and can have a significant impact on the behavior of the data.\n"
   ]
  },
  {
   "cell_type": "markdown",
   "id": "a993a914",
   "metadata": {},
   "source": [
    "### Q4. What is Non-Stationary Time Series Data? Explain the types of Non-Stationary Processes.\n",
    "\n",
    "Non-stationary time series data is data whose statistical properties change over time, making it challenging to analyze and forecast. There are several types of non-stationary processes:\n",
    "Trend: A systematic change in the mean or level of the data over time, indicating a long-term movement or pattern.\n",
    "Seasonality: Predictable patterns or fluctuations in the data that occur at regular intervals within a specific period, as discussed earlier.\n",
    "Cyclical: Periodic fluctuations in the data that are not of fixed frequency and may not have a specific duration. Cyclical components represent longer-term patterns influenced by economic or business cycles.\n",
    "Irregular or Random Fluctuations: Unpredictable variations in the data that cannot be attributed to trend, seasonality, or cyclical patterns, often resulting from random events or noise.\n"
   ]
  },
  {
   "cell_type": "markdown",
   "id": "d0e99c86",
   "metadata": {},
   "source": [
    "### Q5. What is an Augmented Dickey-Fuller Test, and why do we use it?\n",
    "\n",
    "The Augmented Dickey-Fuller (ADF) test is a statistical hypothesis test used to determine whether a time series is stationary or non-stationary. It examines the presence of a unit root in the autoregressive model of the time series data. The ADF test is commonly used in econometrics, finance, and other fields to assess the stationarity of data before applying time series analysis techniques or forecasting models. It helps ensure the validity and reliability of the analysis results by accounting for the non-stationarity of the data.\n",
    "\n",
    "\n",
    "\n"
   ]
  }
 ],
 "metadata": {
  "kernelspec": {
   "display_name": "Python 3 (ipykernel)",
   "language": "python",
   "name": "python3"
  },
  "language_info": {
   "codemirror_mode": {
    "name": "ipython",
    "version": 3
   },
   "file_extension": ".py",
   "mimetype": "text/x-python",
   "name": "python",
   "nbconvert_exporter": "python",
   "pygments_lexer": "ipython3",
   "version": "3.11.5"
  }
 },
 "nbformat": 4,
 "nbformat_minor": 5
}
