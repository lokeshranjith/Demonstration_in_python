{
 "cells": [
  {
   "cell_type": "markdown",
   "id": "3b1b0c94",
   "metadata": {},
   "source": [
    "### Q1. What are Artificial Neural Networks?\n",
    "\n",
    "Artificial Neural Networks (ANNs) are computational models inspired by the structure and functioning of biological neural networks in the brain. They consist of interconnected nodes organized in layers, where each node performs a simple computation. ANNs are used for various machine learning tasks such as classification, regression, clustering, and pattern recognition.\n"
   ]
  },
  {
   "cell_type": "markdown",
   "id": "9cb11725",
   "metadata": {},
   "source": [
    "### Q2. What are Layers in a Neural Network?\n",
    "\n",
    "In a neural network, layers refer to the different levels of nodes or neurons organized in a sequential manner. There are typically three types of layers:\n",
    "\n",
    "**Input Layer:**\n",
    "The first layer of the neural network that receives the input data.\n",
    "\n",
    "**Hidden Layers:**\n",
    "Intermediate layers between the input and output layers where computations are performed.\n",
    "\n",
    "**Output Layer:**\n",
    "The final layer of the neural network that produces the output predictions.\n"
   ]
  },
  {
   "cell_type": "markdown",
   "id": "e25bc67b",
   "metadata": {},
   "source": [
    "### Q3. What are Neurons in a Neural Network?\n",
    "\n",
    "Neurons, also known as nodes, are the basic computational units in a neural network. Each neuron receives input from the previous layer, performs a computation using weights and an activation function, and produces an output that is transmitted to the next layer. Neurons are organized in layers and are interconnected through weighted connections.\n"
   ]
  },
  {
   "cell_type": "markdown",
   "id": "902c3dc6",
   "metadata": {},
   "source": [
    "### Q4. What are Activation Functions in a Neural Network?\n",
    "\n",
    "Activation functions are mathematical functions applied to the output of neurons in a neural network. They introduce non-linearity into the network, allowing it to learn complex patterns and relationships in the data. Common activation functions include:\n",
    "* Sigmoid function\n",
    "* Hyperbolic tangent (tanh) function\n",
    "* Rectified Linear Unit (ReLU) function\n"
   ]
  },
  {
   "cell_type": "markdown",
   "id": "80589662",
   "metadata": {},
   "source": [
    "### Q5. What are the differences between a Biological Neuron and Artificial Neuron?\n",
    "\n",
    "**Biological Neuron:**\n",
    "\n",
    "Found in the brain and nervous system of living organisms.\n",
    "Complex biological structure consisting of a cell body, dendrites, axon, and synapses.\n",
    "Functions involve electrical impulses and chemical signaling.\n",
    "Capable of learning and adaptation through synaptic plasticity.\n",
    "\n",
    "**Artificial Neuron:**\n",
    "\n",
    "Computational unit designed to mimic the behavior of biological neurons.\n",
    "Simplified mathematical model typically consisting of weighted inputs, a summing function, and an activation function.\n",
    "Functions involve mathematical computations.\n",
    "Capable of learning and adaptation through adjustments to weights and biases during training."
   ]
  },
  {
   "cell_type": "code",
   "execution_count": null,
   "id": "bb28e3bb",
   "metadata": {},
   "outputs": [],
   "source": []
  }
 ],
 "metadata": {
  "kernelspec": {
   "display_name": "Python 3 (ipykernel)",
   "language": "python",
   "name": "python3"
  },
  "language_info": {
   "codemirror_mode": {
    "name": "ipython",
    "version": 3
   },
   "file_extension": ".py",
   "mimetype": "text/x-python",
   "name": "python",
   "nbconvert_exporter": "python",
   "pygments_lexer": "ipython3",
   "version": "3.11.5"
  }
 },
 "nbformat": 4,
 "nbformat_minor": 5
}
