{
 "cells": [
  {
   "cell_type": "code",
   "execution_count": 3,
   "id": "1f4929d5",
   "metadata": {},
   "outputs": [
    {
     "name": "stdout",
     "output_type": "stream",
     "text": [
      "Task 1 - Stemming:\n",
      "Porter Stemmer: ['friend', 'friendship', 'friend', 'friendship', 'stabil', 'destabil', 'misunderstand', 'railroad', 'moonlight', 'footbal']\n",
      "Lancaster Stemmer: ['friend', 'friend', 'friend', 'friend', 'stabl', 'dest', 'misunderstand', 'railroad', 'moonlight', 'footbal']\n",
      "\n",
      "Task 2 - Lemmatization:\n",
      "Lemmatized Sentence: ['He', 'wa', 'running', 'and', 'eating', 'at', 'same', 'time', '.', 'He', 'ha', 'bad', 'habit', 'of', 'swimming', 'after', 'playing', 'long', 'hour', 'in', 'the', 'Sun', '.']\n",
      "\n",
      "Task 3 - Word Sense Disambiguation (WSD):\n",
      "Meaning of 'bat' in the context of sentence1: the club used in playing cricket\n",
      "Meaning of 'hit' in the context of sentence2: a connection made via the internet to another website\n"
     ]
    }
   ],
   "source": [
    "# Importing necessary libraries from NLTK\n",
    "from nltk.stem import PorterStemmer, LancasterStemmer\n",
    "from nltk.tokenize import word_tokenize\n",
    "from nltk.corpus import wordnet\n",
    "from nltk.wsd import lesk\n",
    "from nltk.stem import WordNetLemmatizer\n",
    "\n",
    "# Task 1: Stemming\n",
    "words_to_stem = word_list = [\"friend\", \"friendship\", \"friends\", \"friendships\",\"stabil\",\"destabilize\",\"misunderstanding\",\"railroad\",\"moonlight\",\"football\"]\n",
    "porter_stemmer = PorterStemmer()\n",
    "lancaster_stemmer = LancasterStemmer()\n",
    "\n",
    "stemmed_words_porter = [porter_stemmer.stem(word) for word in words_to_stem]\n",
    "stemmed_words_lancaster = [lancaster_stemmer.stem(word) for word in words_to_stem]\n",
    "\n",
    "print(\"Task 1 - Stemming:\")\n",
    "print(\"Porter Stemmer:\", stemmed_words_porter)\n",
    "print(\"Lancaster Stemmer:\", stemmed_words_lancaster)\n",
    "\n",
    "# Task 2: Lemmatization\n",
    "#sentence_to_lemmatize = \"The dogs are running happily in the park\"\n",
    "sentence_to_lemmatize = \"He was running and eating at same time. He has bad habit of swimming after playing long hours in the Sun.\"\n",
    "\n",
    "lemmatizer = WordNetLemmatizer()\n",
    "\n",
    "lemmatized_sentence = [lemmatizer.lemmatize(word) for word in word_tokenize(sentence_to_lemmatize)]\n",
    "\n",
    "print(\"\\nTask 2 - Lemmatization:\")\n",
    "print(\"Lemmatized Sentence:\", lemmatized_sentence)\n",
    "\n",
    "# Task 3: Word Sense Disambiguation (WSD)\n",
    "sentence1 = \"He saw the bat in the baseball game.\"\n",
    "sentence2 = \"He used a bat to hit the ball.\"\n",
    "\n",
    "word1 = \"bat\"\n",
    "word2 = \"hit\"\n",
    "\n",
    "meaning1 = lesk(word_tokenize(sentence1), word1)\n",
    "meaning2 = lesk(word_tokenize(sentence2), word2)\n",
    "\n",
    "print(\"\\nTask 3 - Word Sense Disambiguation (WSD):\")\n",
    "print(f\"Meaning of '{word1}' in the context of sentence1: {meaning1.definition()}\")\n",
    "print(f\"Meaning of '{word2}' in the context of sentence2: {meaning2.definition()}\")\n"
   ]
  },
  {
   "cell_type": "code",
   "execution_count": 4,
   "id": "19e820e9",
   "metadata": {},
   "outputs": [
    {
     "name": "stdout",
     "output_type": "stream",
     "text": [
      "Stemmed words using PorterStemmer: ['run', 'fli', 'happili', 'gener', 'cat', 'dog']\n",
      "Stemmed words using LancasterStemmer: ['run', 'fli', 'happy', 'gen', 'cat', 'dog']\n",
      "Lemmatized sentence: ['The', 'quick', 'brown', 'fox', 'are', 'jumping', 'over', 'the', 'lazy', 'dog']\n",
      "WSD for 'bat' in sentence1: Synset('cricket_bat.n.01') -> the club used in playing cricket\n",
      "WSD for 'bat' in sentence2: Synset('bat.n.05') -> a club used for hitting a ball in various games\n"
     ]
    }
   ],
   "source": [
    "# Importing necessary modules from NLTK\n",
    "from nltk.stem import PorterStemmer, LancasterStemmer, WordNetLemmatizer\n",
    "from nltk.wsd import lesk\n",
    "from nltk.corpus import wordnet\n",
    "\n",
    "# Task 1: Stemming\n",
    "# Declare a list of words\n",
    "words = [\"running\", \"flies\", \"happily\", \"generously\", \"cats\", \"dogs\"]\n",
    "\n",
    "# Initialize stemmers\n",
    "porter_stemmer = PorterStemmer()\n",
    "lancaster_stemmer = LancasterStemmer()\n",
    "\n",
    "# Perform stemming using PorterStemmer\n",
    "stemmed_words_porter = [porter_stemmer.stem(word) for word in words]\n",
    "print(\"Stemmed words using PorterStemmer:\", stemmed_words_porter)\n",
    "\n",
    "# Perform stemming using LancasterStemmer\n",
    "stemmed_words_lancaster = [lancaster_stemmer.stem(word) for word in words]\n",
    "print(\"Stemmed words using LancasterStemmer:\", stemmed_words_lancaster)\n",
    "\n",
    "# Task 2: Lemmatization\n",
    "# Declare a sentence\n",
    "sentence = \"The quick brown foxes are jumping over the lazy dogs\"\n",
    "\n",
    "# Initialize lemmatizer\n",
    "lemmatizer = WordNetLemmatizer()\n",
    "\n",
    "# Perform lemmatization using WordNetLemmatizer\n",
    "lemmatized_sentence = [lemmatizer.lemmatize(word) for word in sentence.split()]\n",
    "print(\"Lemmatized sentence:\", lemmatized_sentence)\n",
    "\n",
    "# Task 3: Word Sense Disambiguation (WSD)\n",
    "# Declare two sentences with homonyms\n",
    "sentence1 = \"I saw a bat flying in the sky.\"\n",
    "sentence2 = \"He used a bat to hit the ball in the game.\"\n",
    "\n",
    "# Perform WSD for the word \"bat\" in the context of sentence1\n",
    "meaning1 = lesk(sentence1.split(), 'bat', pos=wordnet.NOUN)\n",
    "print(\"WSD for 'bat' in sentence1:\", meaning1, \"->\", meaning1.definition())\n",
    "\n",
    "# Perform WSD for the word \"bat\" in the context of sentence2\n",
    "meaning2 = lesk(sentence2.split(), 'bat', pos=wordnet.NOUN)\n",
    "print(\"WSD for 'bat' in sentence2:\", meaning2, \"->\", meaning2.definition())\n"
   ]
  },
  {
   "cell_type": "code",
   "execution_count": null,
   "id": "45e7c30d",
   "metadata": {},
   "outputs": [],
   "source": []
  }
 ],
 "metadata": {
  "kernelspec": {
   "display_name": "Python 3 (ipykernel)",
   "language": "python",
   "name": "python3"
  },
  "language_info": {
   "codemirror_mode": {
    "name": "ipython",
    "version": 3
   },
   "file_extension": ".py",
   "mimetype": "text/x-python",
   "name": "python",
   "nbconvert_exporter": "python",
   "pygments_lexer": "ipython3",
   "version": "3.11.5"
  }
 },
 "nbformat": 4,
 "nbformat_minor": 5
}
