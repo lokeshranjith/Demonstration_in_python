{
 "cells": [
  {
   "cell_type": "code",
   "execution_count": 10,
   "id": "34581a60",
   "metadata": {},
   "outputs": [
    {
     "data": {
      "text/plain": [
       "'He can even spout some sports trivia and Christmas carols and stuff like that.\\nWe\\'d talk sports and stuff, and maybe have a beer.\\nThe Admirable Crichton of his day, he was keen alike on field sports and the arts, the friend and admirer equally of Cecil Rhodes and of Rodin, a railway director and a yeomanry colonel.\\nBut he was not brought forward by his father or prepared in any way for his future greatness, and lived in the country occupied with field sports, till after the institution of the second protectorate in 16J7 and the recognition of Oliver\\'s right to name his successor.\\nThankfully, he was too concerned with sports to get in any real trouble.\\nSee Strutt, Sports and Pastimes, who also gives an illustration, \"taken from a manuscriptal painting of the 9th century in the Cotton Library,\" representing \"a Saxon chieftain, attended by his huntsman and a couple of hounds, pursuing the wild swine in a forest.\"\\nAs they entered the yard, Carmen noticed Lori\\'s little red sports car.\\nAfter a lengthy shower, Jenn exited and pulled on clean leggings, sports bra, and socks.\\nA park and sports ground at the western end of the town contains the pedestal for a statue of President Kruger.\\nThere were crude medieval notions that fossils were \" freaks \" or \" sports \" of nature (lusus naturae), or that they represented failures of a creative force within the earth (a notion of Greek and Arabic origin), or that larger and smaller fossils represented the remains of races of giants or of pygmies (the mythical idea).'"
      ]
     },
     "execution_count": 10,
     "metadata": {},
     "output_type": "execute_result"
    }
   ],
   "source": [
    "from sklearn.feature_extraction.text import TfidfVectorizer\n",
    "from nltk.tokenize import sent_tokenize, word_tokenize\n",
    "import string\n",
    "\n",
    "# Load the content from the file\n",
    "with open('demotext2.txt', 'r') as file:\n",
    "    file_content = file.read()\n",
    "file_content\n"
   ]
  },
  {
   "cell_type": "code",
   "execution_count": 7,
   "id": "1bb5f693",
   "metadata": {},
   "outputs": [
    {
     "data": {
      "text/plain": [
       "['He can even spout some sports trivia and Christmas carols and stuff like that.',\n",
       " \"We'd talk sports and stuff, and maybe have a beer.\",\n",
       " 'The Admirable Crichton of his day, he was keen alike on field sports and the arts, the friend and admirer equally of Cecil Rhodes and of Rodin, a railway director and a yeomanry colonel.',\n",
       " \"But he was not brought forward by his father or prepared in any way for his future greatness, and lived in the country occupied with field sports, till after the institution of the second protectorate in 16J7 and the recognition of Oliver's right to name his successor.\",\n",
       " 'Thankfully, he was too concerned with sports to get in any real trouble.',\n",
       " 'See Strutt, Sports and Pastimes, who also gives an illustration, \"taken from a manuscriptal painting of the 9th century in the Cotton Library,\" representing \"a Saxon chieftain, attended by his huntsman and a couple of hounds, pursuing the wild swine in a forest.\"',\n",
       " \"As they entered the yard, Carmen noticed Lori's little red sports car.\",\n",
       " 'After a lengthy shower, Jenn exited and pulled on clean leggings, sports bra, and socks.',\n",
       " 'A park and sports ground at the western end of the town contains the pedestal for a statue of President Kruger.',\n",
       " 'There were crude medieval notions that fossils were \" freaks \" or \" sports \" of nature (lusus naturae), or that they represented failures of a creative force within the earth (a notion of Greek and Arabic origin), or that larger and smaller fossils represented the remains of races of giants or of pygmies (the mythical idea).']"
      ]
     },
     "execution_count": 7,
     "metadata": {},
     "output_type": "execute_result"
    }
   ],
   "source": [
    "# 2. Sentence-wise tokenization\n",
    "sentences = sent_tokenize(file_content)\n",
    "sentences"
   ]
  },
  {
   "cell_type": "code",
   "execution_count": 4,
   "id": "326a8bb2",
   "metadata": {},
   "outputs": [],
   "source": [
    "# 3. Transform each token into lowercase\n",
    "lowercase_tokens = [word_tokenize(sentence.lower()) for sentence in sentences]\n",
    "\n"
   ]
  },
  {
   "cell_type": "code",
   "execution_count": 5,
   "id": "ccb83d9e",
   "metadata": {},
   "outputs": [],
   "source": [
    "# Flatten the list of lowercase tokens\n",
    "flat_lowercase_tokens = [token for sublist in lowercase_tokens for token in sublist]\n",
    "\n"
   ]
  },
  {
   "cell_type": "code",
   "execution_count": 13,
   "id": "0ba0a67b",
   "metadata": {},
   "outputs": [],
   "source": [
    "# 4. Vectorization using TFIDF Vectorizer\n",
    "tfidf_vectorizer = TfidfVectorizer(stop_words='english', tokenizer=lambda x: x, lowercase=False)\n",
    "tfidf_matrix = tfidf_vectorizer.fit_transform([flat_lowercase_tokens])"
   ]
  },
  {
   "cell_type": "code",
   "execution_count": 16,
   "id": "ebd179eb",
   "metadata": {},
   "outputs": [
    {
     "data": {
      "text/html": [
       "<style>#sk-container-id-2 {color: black;}#sk-container-id-2 pre{padding: 0;}#sk-container-id-2 div.sk-toggleable {background-color: white;}#sk-container-id-2 label.sk-toggleable__label {cursor: pointer;display: block;width: 100%;margin-bottom: 0;padding: 0.3em;box-sizing: border-box;text-align: center;}#sk-container-id-2 label.sk-toggleable__label-arrow:before {content: \"▸\";float: left;margin-right: 0.25em;color: #696969;}#sk-container-id-2 label.sk-toggleable__label-arrow:hover:before {color: black;}#sk-container-id-2 div.sk-estimator:hover label.sk-toggleable__label-arrow:before {color: black;}#sk-container-id-2 div.sk-toggleable__content {max-height: 0;max-width: 0;overflow: hidden;text-align: left;background-color: #f0f8ff;}#sk-container-id-2 div.sk-toggleable__content pre {margin: 0.2em;color: black;border-radius: 0.25em;background-color: #f0f8ff;}#sk-container-id-2 input.sk-toggleable__control:checked~div.sk-toggleable__content {max-height: 200px;max-width: 100%;overflow: auto;}#sk-container-id-2 input.sk-toggleable__control:checked~label.sk-toggleable__label-arrow:before {content: \"▾\";}#sk-container-id-2 div.sk-estimator input.sk-toggleable__control:checked~label.sk-toggleable__label {background-color: #d4ebff;}#sk-container-id-2 div.sk-label input.sk-toggleable__control:checked~label.sk-toggleable__label {background-color: #d4ebff;}#sk-container-id-2 input.sk-hidden--visually {border: 0;clip: rect(1px 1px 1px 1px);clip: rect(1px, 1px, 1px, 1px);height: 1px;margin: -1px;overflow: hidden;padding: 0;position: absolute;width: 1px;}#sk-container-id-2 div.sk-estimator {font-family: monospace;background-color: #f0f8ff;border: 1px dotted black;border-radius: 0.25em;box-sizing: border-box;margin-bottom: 0.5em;}#sk-container-id-2 div.sk-estimator:hover {background-color: #d4ebff;}#sk-container-id-2 div.sk-parallel-item::after {content: \"\";width: 100%;border-bottom: 1px solid gray;flex-grow: 1;}#sk-container-id-2 div.sk-label:hover label.sk-toggleable__label {background-color: #d4ebff;}#sk-container-id-2 div.sk-serial::before {content: \"\";position: absolute;border-left: 1px solid gray;box-sizing: border-box;top: 0;bottom: 0;left: 50%;z-index: 0;}#sk-container-id-2 div.sk-serial {display: flex;flex-direction: column;align-items: center;background-color: white;padding-right: 0.2em;padding-left: 0.2em;position: relative;}#sk-container-id-2 div.sk-item {position: relative;z-index: 1;}#sk-container-id-2 div.sk-parallel {display: flex;align-items: stretch;justify-content: center;background-color: white;position: relative;}#sk-container-id-2 div.sk-item::before, #sk-container-id-2 div.sk-parallel-item::before {content: \"\";position: absolute;border-left: 1px solid gray;box-sizing: border-box;top: 0;bottom: 0;left: 50%;z-index: -1;}#sk-container-id-2 div.sk-parallel-item {display: flex;flex-direction: column;z-index: 1;position: relative;background-color: white;}#sk-container-id-2 div.sk-parallel-item:first-child::after {align-self: flex-end;width: 50%;}#sk-container-id-2 div.sk-parallel-item:last-child::after {align-self: flex-start;width: 50%;}#sk-container-id-2 div.sk-parallel-item:only-child::after {width: 0;}#sk-container-id-2 div.sk-dashed-wrapped {border: 1px dashed gray;margin: 0 0.4em 0.5em 0.4em;box-sizing: border-box;padding-bottom: 0.4em;background-color: white;}#sk-container-id-2 div.sk-label label {font-family: monospace;font-weight: bold;display: inline-block;line-height: 1.2em;}#sk-container-id-2 div.sk-label-container {text-align: center;}#sk-container-id-2 div.sk-container {/* jupyter's `normalize.less` sets `[hidden] { display: none; }` but bootstrap.min.css set `[hidden] { display: none !important; }` so we also need the `!important` here to be able to override the default hidden behavior on the sphinx rendered scikit-learn.org. See: https://github.com/scikit-learn/scikit-learn/issues/21755 */display: inline-block !important;position: relative;}#sk-container-id-2 div.sk-text-repr-fallback {display: none;}</style><div id=\"sk-container-id-2\" class=\"sk-top-container\"><div class=\"sk-text-repr-fallback\"><pre>TfidfVectorizer(lowercase=False, stop_words=&#x27;english&#x27;,\n",
       "                tokenizer=&lt;function &lt;lambda&gt; at 0x00000243796D4540&gt;)</pre><b>In a Jupyter environment, please rerun this cell to show the HTML representation or trust the notebook. <br />On GitHub, the HTML representation is unable to render, please try loading this page with nbviewer.org.</b></div><div class=\"sk-container\" hidden><div class=\"sk-item\"><div class=\"sk-estimator sk-toggleable\"><input class=\"sk-toggleable__control sk-hidden--visually\" id=\"sk-estimator-id-2\" type=\"checkbox\" checked><label for=\"sk-estimator-id-2\" class=\"sk-toggleable__label sk-toggleable__label-arrow\">TfidfVectorizer</label><div class=\"sk-toggleable__content\"><pre>TfidfVectorizer(lowercase=False, stop_words=&#x27;english&#x27;,\n",
       "                tokenizer=&lt;function &lt;lambda&gt; at 0x00000243796D4540&gt;)</pre></div></div></div></div></div>"
      ],
      "text/plain": [
       "TfidfVectorizer(lowercase=False, stop_words='english',\n",
       "                tokenizer=<function <lambda> at 0x00000243796D4540>)"
      ]
     },
     "execution_count": 16,
     "metadata": {},
     "output_type": "execute_result"
    }
   ],
   "source": [
    "tfidf_vectorizer"
   ]
  },
  {
   "cell_type": "code",
   "execution_count": 17,
   "id": "0838a36a",
   "metadata": {},
   "outputs": [
    {
     "name": "stdout",
     "output_type": "stream",
     "text": [
      "Vector-Matrix:\n",
      "[[0.0725954  0.0362977  0.0725954  0.1088931  0.1088931  0.68965631\n",
      "  0.362977   0.0362977  0.0362977  0.2177862  0.0362977  0.0362977\n",
      "  0.0362977  0.0362977  0.0362977  0.0362977  0.0362977  0.0362977\n",
      "  0.0362977  0.0362977  0.0362977  0.0362977  0.0362977  0.0362977\n",
      "  0.0362977  0.0362977  0.0362977  0.0362977  0.0362977  0.0362977\n",
      "  0.0362977  0.0362977  0.0362977  0.0362977  0.0362977  0.0362977\n",
      "  0.0362977  0.0362977  0.0362977  0.0362977  0.0362977  0.0362977\n",
      "  0.0362977  0.0362977  0.0362977  0.0725954  0.0362977  0.0362977\n",
      "  0.0362977  0.0725954  0.0362977  0.0362977  0.0362977  0.0362977\n",
      "  0.0362977  0.0362977  0.0362977  0.0362977  0.0362977  0.0362977\n",
      "  0.0362977  0.0362977  0.0362977  0.0362977  0.0362977  0.0362977\n",
      "  0.0362977  0.0362977  0.0362977  0.0362977  0.0362977  0.0362977\n",
      "  0.0362977  0.0362977  0.0362977  0.0362977  0.0362977  0.0362977\n",
      "  0.0362977  0.0362977  0.0362977  0.0362977  0.0362977  0.0362977\n",
      "  0.0362977  0.0362977  0.0362977  0.0362977  0.0362977  0.0362977\n",
      "  0.0362977  0.0362977  0.0362977  0.0362977  0.0362977  0.0362977\n",
      "  0.0362977  0.0362977  0.0362977  0.0362977  0.0362977  0.0362977\n",
      "  0.0362977  0.0725954  0.0362977  0.0362977  0.0362977  0.0362977\n",
      "  0.0362977  0.0362977  0.0362977  0.0362977  0.0362977  0.362977\n",
      "  0.0362977  0.0362977  0.0362977  0.0725954  0.0362977  0.0362977\n",
      "  0.0362977  0.0362977  0.0362977  0.0362977  0.0362977  0.0362977\n",
      "  0.0362977  0.0362977  0.0362977  0.0362977  0.0362977  0.0362977 ]]\n"
     ]
    }
   ],
   "source": [
    "# 5. Generate vector-matrix\n",
    "print(\"Vector-Matrix:\")\n",
    "print(tfidf_matrix.toarray())"
   ]
  },
  {
   "cell_type": "code",
   "execution_count": null,
   "id": "f265b172",
   "metadata": {},
   "outputs": [],
   "source": []
  }
 ],
 "metadata": {
  "kernelspec": {
   "display_name": "Python 3 (ipykernel)",
   "language": "python",
   "name": "python3"
  },
  "language_info": {
   "codemirror_mode": {
    "name": "ipython",
    "version": 3
   },
   "file_extension": ".py",
   "mimetype": "text/x-python",
   "name": "python",
   "nbconvert_exporter": "python",
   "pygments_lexer": "ipython3",
   "version": "3.11.5"
  }
 },
 "nbformat": 4,
 "nbformat_minor": 5
}
