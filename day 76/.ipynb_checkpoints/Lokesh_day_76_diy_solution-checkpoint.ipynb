{
 "cells": [
  {
   "cell_type": "markdown",
   "id": "2069fc74",
   "metadata": {},
   "source": [
    "### Q1.What is a Perceptron?\n",
    "\n",
    "A perceptron is the simplest form of a neural network, consisting of a single layer of input neurons connected directly to an output neuron. It's often used for binary classification tasks.\n"
   ]
  },
  {
   "cell_type": "markdown",
   "id": "03ceb5b4",
   "metadata": {},
   "source": [
    "### Q2. How does a Perceptron work?\n",
    "\n",
    "The perceptron works by taking a weighted sum of its input features and applying an activation function. If the weighted sum exceeds a certain threshold, the perceptron outputs one class; otherwise, it outputs the other class.\n"
   ]
  },
  {
   "cell_type": "markdown",
   "id": "d5f1c1d2",
   "metadata": {},
   "source": [
    "### Q3.What is the Perceptron algorithm?\n",
    "\n",
    "The Perceptron algorithm is a supervised learning algorithm used for binary classification. It adjusts the weights of the input features iteratively based on the error between the predicted output and the true output. It continues to update the weights until the error converges to zero or a predefined threshold.\n"
   ]
  },
  {
   "cell_type": "markdown",
   "id": "20933709",
   "metadata": {},
   "source": [
    "### Q4.How many activation functions are available?\n",
    "\n",
    "**Explain all of them**\n",
    "\n",
    "There are several activation functions available, \n",
    "including:\n",
    "\n",
    "**Step Function:**\n",
    "\n",
    "Outputs 1 if the input is greater than or equal to zero; otherwise, it outputs 0.\n",
    "\n",
    "**Sigmoid Function:**\n",
    "\n",
    "Squashes the input between 0 and 1, useful for binary classification tasks.\n",
    "\n",
    "**Hyperbolic Tangent (Tanh) Function:**\n",
    "\n",
    "Squashes the input between -1 and 1, similar to the sigmoid function but centered at zero.\n",
    "ReLU (Rectified Linear Unit) Function: \n",
    "Outputs the input directly if it is positive; otherwise, it outputs zero.\n",
    "\n",
    "**Softmax Function:**\n",
    "\n",
    "Outputs a vector of probabilities representing the likelihood of each class, used in multi-class classification tasks.\n"
   ]
  },
  {
   "cell_type": "markdown",
   "id": "444ca0f0",
   "metadata": {},
   "source": [
    "### Q5.What is forward propagation?\n",
    "\n",
    "Forward propagation is the process of computing the output of a neural network given an input. It involves passing the input through the network, layer by layer, and applying the weights and activation functions to compute the final output. The output is then compared to the true output during training to compute the loss or error.\n",
    "User\n",
    "\n",
    "           Input Layer       Hidden Layer        Output Layer\n",
    "\n",
    "           [ x1 ]    ->    [   ]       ->       [   ]\n",
    "           [ x2 ]    ->    [   ]       ->       [   ]\n",
    "           ...            ...                  ...\n",
    "           [ xn ]    ->    [   ]       ->       [   ]\n",
    "                     (Weights)                (Weights)\n",
    "                    (and biases)             (and biases)\n",
    "\n"
   ]
  }
 ],
 "metadata": {
  "kernelspec": {
   "display_name": "Python 3 (ipykernel)",
   "language": "python",
   "name": "python3"
  },
  "language_info": {
   "codemirror_mode": {
    "name": "ipython",
    "version": 3
   },
   "file_extension": ".py",
   "mimetype": "text/x-python",
   "name": "python",
   "nbconvert_exporter": "python",
   "pygments_lexer": "ipython3",
   "version": "3.11.5"
  }
 },
 "nbformat": 4,
 "nbformat_minor": 5
}
